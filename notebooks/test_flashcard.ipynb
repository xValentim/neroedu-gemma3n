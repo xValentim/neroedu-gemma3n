{
 "cells": [
  {
   "cell_type": "code",
   "execution_count": 1,
   "metadata": {},
   "outputs": [],
   "source": [
    "import requests \n",
    "import json\n",
    "from IPython.display import display, Markdown\n",
    "\n",
    "BASE_URL = \"http://localhost:8000\"\n",
    "\n",
    "def flashcard(tema: str, model_name: str = \"gemma3n:e2b\", flashcards_existentes: list = []):\n",
    "    \"\"\"Gera um flashcard único sobre o tema\"\"\"\n",
    "    url = f\"{BASE_URL}/call-flashcard\"\n",
    "    payload = {\"tema\": tema, \"model_name\": model_name, \"flashcards_existentes\": flashcards_existentes}\n",
    "    response = requests.post(url, json=payload)\n",
    "    \n",
    "    if response.status_code == 200:\n",
    "        return response.json()\n",
    "    else:\n",
    "        raise Exception(f\"Failed {response.status_code} - {response.text}\")\n",
    "\n",
    "def key_topics(tema: str, model_name: str = \"gemma3n:e2b\"):\n",
    "    \"\"\"Gera explicação geral e 3 tópicos-chave sobre o tema\"\"\"\n",
    "    url = f\"{BASE_URL}/call-key-topics\"\n",
    "    payload = {\"tema\": tema, \"model_name\": model_name}\n",
    "    response = requests.post(url, json=payload)\n",
    "    \n",
    "    if response.status_code == 200:\n",
    "        return response.json()\n",
    "    else:\n",
    "        raise Exception(f\"Failed {response.status_code} - {response.text}\")"
   ]
  },
  {
   "cell_type": "code",
   "execution_count": null,
   "metadata": {},
   "outputs": [],
   "source": []
  },
  {
   "cell_type": "markdown",
   "metadata": {},
   "source": [
    "### Funções para extrair e exibir JSON"
   ]
  },
  {
   "cell_type": "code",
   "execution_count": 2,
   "metadata": {},
   "outputs": [],
   "source": [
    "import re\n",
    "\n",
    "def extract_json_block(text):\n",
    "    \"\"\"Extrai bloco JSON da resposta do modelo e retorna como dicionário Python\"\"\"\n",
    "    match = re.search(r'```json(.*?)```', text, re.DOTALL)\n",
    "    if match:\n",
    "        json_text = match.group(1).strip()\n",
    "    else:\n",
    "        json_text = text.strip()\n",
    "    \n",
    "    try:\n",
    "        return json.loads(json_text)\n",
    "    except json.JSONDecodeError as e:\n",
    "        print(f\"Erro ao parsear JSON: {e}\")\n",
    "        print(f\"Texto que tentou parsear: {json_text}\")\n",
    "        return None \n",
    "\n",
    "def display_flashcard(flashcard_data):\n",
    "    \"\"\"Exibe o flashcard de forma formatada\"\"\"\n",
    "    if not flashcard_data:\n",
    "        print(\"Dados do flashcard inválidos\")\n",
    "        return\n",
    "    \n",
    "    # Explicação do texto\n",
    "    display(Markdown(f\"## Explicação\\n{flashcard_data.get('text_explanation', 'N/A')}\"))\n",
    "    \n",
    "    # Resumo dos tópicos\n",
    "    topics = flashcard_data.get('topics_summary', [])\n",
    "    if topics:\n",
    "        display(Markdown(\"## Resumo dos Tópicos\"))\n",
    "        for i, topic in enumerate(topics, 1):\n",
    "            display(Markdown(f\"**{i}.** {topic}\"))\n",
    "    \n",
    "    # Flashcards\n",
    "    flashcards = flashcard_data.get('flashcards', [])\n",
    "    if flashcards:\n",
    "        display(Markdown(\"## Flashcards\"))\n",
    "        for i, card in enumerate(flashcards, 1):\n",
    "            display(Markdown(f\"### Flashcard {i}\"))\n",
    "            display(Markdown(f\"**Pergunta:** {card.get('question', 'N/A')}\"))\n",
    "            display(Markdown(f\"**Resposta:** {card.get('answer', 'N/A')}\"))\n",
    "            print(\"---\")"
   ]
  },
  {
   "cell_type": "markdown",
   "metadata": {},
   "source": [
    "### Teste 1: Flashcard Único - Fotossíntese"
   ]
  },
  {
   "cell_type": "code",
   "execution_count": 13,
   "metadata": {},
   "outputs": [
    {
     "name": "stdout",
     "output_type": "stream",
     "text": [
      "📋 Flashcard Único - Fotossíntese:\n",
      "{\n",
      "  \"question\": \"Qual é o processo biológico fundamental realizado pelas plantas, que converte luz solar em energia química, e quais são os principais componentes necessários para que ele ocorra?\",\n",
      "  \"answer\": \"A fotossíntese é o processo pelo qual as plantas, algas e algumas bactérias convertem a energia luminosa em energia química, na forma de glicose.  Ela ocorre em duas fases principais: a fase luminosa (que captura a luz solar) e a fase escura (também conhecida como ciclo de Calvin, onde a energia luminosa é usada para fixar o carbono).  Os principais componentes necessários são: água (H₂O), dióxido de carbono (CO₂), luz solar e clorofila (o pigmento verde que captura a luz). A fotossíntese produz oxigênio (O₂) como subproduto, que é essencial para a vida na Terra. A equação geral da fotossíntese é: 6CO₂ + 6H₂O + Luz Solar → C₆H₁₂O₆ + 6O₂.\"\n",
      "}\n"
     ]
    }
   ],
   "source": [
    "# Teste flashcard único\n",
    "resultado_flashcard = flashcard(\"Fotossíntese\")\n",
    "print(\"📋 Flashcard Único - Fotossíntese:\")\n",
    "flashcard_data = extract_json_block(resultado_flashcard)\n",
    "if flashcard_data:\n",
    "    print(json.dumps(flashcard_data, indent=2, ensure_ascii=False))\n",
    "else:\n",
    "    print(\"Erro no parsing\")"
   ]
  },
  {
   "cell_type": "code",
   "execution_count": 6,
   "metadata": {},
   "outputs": [
    {
     "name": "stdout",
     "output_type": "stream",
     "text": [
      "🔑 Key Topics - Fotossíntese:\n",
      "{\n",
      "  \"explanation\": \"A fotossíntese é o processo fundamental pelo qual as plantas, algas e algumas bactérias convertem a energia luminosa em energia química, na forma de glicose (açúcar). Esse processo é essencial para a vida na Terra, pois produz o oxigênio que respiramos e a base da cadeia alimentar.  Em termos simples, a fotossíntese utiliza a luz solar, água e dióxido de carbono para criar glicose e oxigênio.  A reação ocorre nas células dos cloroplastos, que contêm clorofila, um pigmento verde que absorve a luz. A fotossíntese é dividida em duas fases principais: a fase luminosa (que captura a luz solar) e a fase escura (também conhecida como ciclo de Calvin, onde a energia luminosa é convertida em energia química).  A fotossíntese é crucial para o equilíbrio do carbono na atmosfera e para a produção de alimentos em nosso planeta.  É um processo complexo, mas essencial para a manutenção da vida.\",\n",
      "  \"key_topics\": [\n",
      "    \"A importância da fotossíntese para a produção de oxigênio e a base da cadeia alimentar.\",\n",
      "    \"O papel da clorofila na absorção da luz solar e a sua localização nos cloroplastos.\",\n",
      "    \"As duas fases principais da fotossíntese: a fase luminosa e a fase escura (ciclo de Calvin).\"\n",
      "  ]\n",
      "}\n"
     ]
    }
   ],
   "source": [
    "# Teste key topics\n",
    "resultado_topics = key_topics(\"Fotossíntese\")\n",
    "print(\"🔑 Key Topics - Fotossíntese:\")\n",
    "topics_data = extract_json_block(resultado_topics)\n",
    "if topics_data:\n",
    "    print(json.dumps(topics_data, indent=2, ensure_ascii=False))\n",
    "else:\n",
    "    print(\"Erro no parsing\")"
   ]
  },
  {
   "cell_type": "markdown",
   "metadata": {},
   "source": [
    "## Teste Revolução Industrial"
   ]
  },
  {
   "cell_type": "code",
   "execution_count": 7,
   "metadata": {},
   "outputs": [
    {
     "name": "stdout",
     "output_type": "stream",
     "text": [
      "\n",
      "🔄 Teste Flashcard 1 - Revolução Industrial:\n",
      "{\n",
      "  \"question\": \"Quais foram os principais fatores que impulsionaram a Revolução Industrial, e como esses fatores contribuíram para o desenvolvimento econômico e social?\",\n",
      "  \"answer\": \"A Revolução Industrial foi impulsionada por uma combinação de fatores cruciais: a disponibilidade de carvão e ferro para alimentar as máquinas, o desenvolvimento de novas tecnologias como a máquina a vapor e o tear mecânico, a urbanização e o crescimento populacional que forneciam mão de obra, e a expansão do comércio e o investimento de capital. Esses fatores permitiram a produção em larga escala, a criação de fábricas, o desenvolvimento de novas formas de transporte (como a ferrovia e a navegação a vapor) e a transformação das estruturas sociais, com o surgimento de uma classe operária e a concentração de riqueza nas mãos dos empresários. A Revolução Industrial transformou a economia de uma base agrária e artesanal para uma economia industrializada, com impactos profundos na vida das pessoas e no desenvolvimento da sociedade moderna.\"\n",
      "}\n",
      "\n",
      "🔄 Teste Flashcard 2 - Revolução Industrial:\n",
      "{\n",
      "  \"question\": \"Quais foram as principais inovações tecnológicas que marcaram a Revolução Industrial e como elas transformaram a produção e a sociedade?\",\n",
      "  \"answer\": \"A Revolução Industrial foi impulsionada por diversas inovações tecnológicas cruciais. A máquina a vapor, inventada por James Watt, revolucionou a produção de energia, permitindo a mecanização de fábricas e o aumento da produção em larga escala. A invenção do tear mecânico e da máquina de costura aumentou a eficiência na produção têxtil. A utilização do carvão mineral como fonte de energia foi fundamental para alimentar as máquinas a vapor.  A ferrovia e o navio a vapor transformaram o transporte de mercadorias e pessoas, facilitando o comércio e a expansão territorial. Essas inovações não apenas aumentaram a produção, mas também alteraram a estrutura social, criando novas classes de trabalhadores e gerando mudanças nas cidades, como o crescimento urbano e a urbanização.\"\n",
      "}\n",
      "\n",
      "🔄 Teste Flashcard 3 - Revolução Industrial:\n",
      "{\n",
      "  \"question\": \"Além das máquinas a vapor e o tear mecânico, quais outros fatores ambientais e sociais foram cruciais para o sucesso da Revolução Industrial, e como eles se interrelacionaram?\",\n",
      "  \"answer\": \"A Revolução Industrial não foi apenas sobre tecnologia. Fatores ambientais e sociais foram igualmente importantes. A disponibilidade de **matérias-primas** como carvão e ferro, provenientes de novas explorações e mineração, foi fundamental. A **população europeia**, em rápido crescimento devido à melhoria das condições de vida e à alta taxa de natalidade, forneceu a mão de obra necessária. A **urbanização** acelerada, com pessoas migrando do campo para as cidades em busca de trabalho, criou um mercado consumidor e um ambiente propício à inovação.  A **infraestrutura**, como canais e ferrovias, facilitou o transporte de mercadorias e a comunicação entre as fábricas e os mercados.  A **estabilidade política** e a existência de um sistema legal que protegesse a propriedade privada também foram essenciais para o investimento e o crescimento econômico.  Esses fatores se reforçaram mutuamente: mais população significava mais demanda por matérias-primas, mais cidades significavam mais oportunidades de trabalho e mais investimento, e a infraestrutura facilitava a distribuição dos produtos.  A combinação desses elementos criou um ciclo virtuoso que impulsionou a Revolução Industrial.\"\n",
      "}\n",
      "\n",
      "🔄 Teste Flashcard 4 - Revolução Industrial:\n",
      "{\n",
      "  \"question\": \"Quais foram as principais consequências sociais da Revolução Industrial, e como elas moldaram a estrutura da sociedade moderna?\",\n",
      "  \"answer\": \"A Revolução Industrial transformou profundamente a sociedade, gerando novas classes sociais e alterando as relações de trabalho. A ascensão do proletariado (classe trabalhadora industrial) resultou em condições de trabalho precárias, longas jornadas e baixos salários.  A burguesia industrial, por sua vez, acumulou riqueza e poder, consolidando sua influência na política e na economia.  A urbanização acelerada, com o crescimento desordenado das cidades, gerou problemas como a falta de saneamento básico, a poluição e a alta taxa de criminalidade.  A Revolução também impulsionou o desenvolvimento de novas ideologias, como o socialismo e o comunismo, que buscavam soluções para as desigualdades sociais e a exploração do trabalho.  Em resumo, a Revolução Industrial criou uma sociedade mais complexa, com novas desigualdades e novas formas de organização social, que ainda hoje influenciam o mundo.\"\n",
      "}\n"
     ]
    }
   ],
   "source": [
    "flashcards_criados = []\n",
    "for i in range(4):\n",
    "    print(f\"\\n🔄 Teste Flashcard {i+1} - Revolução Industrial:\")\n",
    "    resultado_flashcard = flashcard(\"Revolução Industrial\", flashcards_existentes=flashcards_criados)\n",
    "    flashcard_data = extract_json_block(resultado_flashcard)\n",
    "    if flashcard_data:\n",
    "        print(json.dumps(flashcard_data, indent=2, ensure_ascii=False))\n",
    "        flashcards_criados.append(flashcard_data[\"question\"])\n",
    "    else:\n",
    "        print(\"Erro no parsing\")"
   ]
  },
  {
   "cell_type": "markdown",
   "metadata": {},
   "source": [
    "## Teste com Leis de Newton"
   ]
  },
  {
   "cell_type": "code",
   "execution_count": 12,
   "metadata": {},
   "outputs": [],
   "source": [
    "from dotenv import load_dotenv\n",
    "import os\n",
    "\n",
    "load_dotenv()\n",
    "\n",
    "os.environ[\"LANGSMITH_API_KEY\"] = os.getenv(\"LANGSMITH_API_KEY\")\n",
    "os.environ[\"LANGSMITH_TRACING\"] = \"true\"\n",
    "os.environ[\"LANGSMITH_ENDPOINT\"] = \"https://api.smith.langchain.com\""
   ]
  },
  {
   "cell_type": "code",
   "execution_count": 10,
   "metadata": {},
   "outputs": [
    {
     "name": "stdout",
     "output_type": "stream",
     "text": [
      "\n",
      "🔄 Teste Flashcard 1 - Leis de Newton:\n",
      "{\n",
      "  \"question\": \"Descreva as três leis de Newton e explique cada uma delas de forma clara e concisa.\",\n",
      "  \"answer\": \"As três leis de Newton são os pilares da física que descrevem o movimento dos objetos. Elas são:\\n\\n1. **Primeira Lei (Lei da Inércia):** Um objeto em repouso tende a permanecer em repouso, e um objeto em movimento tende a permanecer em movimento com velocidade constante em linha reta, a menos que uma força externa atue sobre ele. Em outras palavras, objetos não mudam seu estado de movimento a menos que uma força os force a mudar.\\n\\n2. **Segunda Lei (Lei da Aceleração):** A força resultante sobre um objeto é igual à massa do objeto multiplicada pela sua aceleração (F = ma). Isso significa que quanto maior a força, maior a aceleração, e quanto maior a massa, menor a aceleração para a mesma força.  A força é a causa da aceleração.\\n\\n3. **Terceira Lei (Lei da Ação e Reação):** Para toda ação, há uma reação igual e oposta.  Quando um objeto exerce uma força sobre outro, o outro objeto exerce uma força igual e oposta sobre o primeiro.  Essas forças atuam em momentos diferentes e em pontos diferentes, mas têm a mesma magnitude e direção.\\n\\nEssas leis são fundamentais para entender como o mundo físico funciona e são aplicáveis em diversas áreas, desde a mecânica clássica até a física moderna.\"\n",
      "}\n",
      "\n",
      "🔄 Teste Flashcard 2 - Leis de Newton:\n",
      "{\n",
      "  \"question\": \"Qual é a terceira Lei de Newton e como ela se manifesta no mundo real? Dê um exemplo prático.\",\n",
      "  \"answer\": \"A Terceira Lei de Newton, também conhecida como a Lei da Ação e Reação, afirma que para toda ação, existe uma reação igual e oposta. Isso significa que quando um objeto exerce uma força sobre outro, o outro objeto exerce uma força igual e oposta sobre o primeiro. \\n\\n**Exemplo prático:** Quando você joga uma bola para cima, você está exercendo uma força sobre a bola (ação). A bola, por sua vez, exerce uma força igual e oposta sobre você (reação), fazendo você sentir a força da bola em suas mãos.  A força que a bola exerce sobre você é igual em magnitude e oposta em direção à força que você exerce sobre ela.  A bola também está caindo para baixo devido à gravidade, mas a sua ação e reação se manifestam em um movimento de lançamento para cima.\"\n",
      "}\n",
      "\n",
      "🔄 Teste Flashcard 3 - Leis de Newton:\n",
      "{\n",
      "  \"question\": \"Explique a Primeira Lei de Newton (Lei da Inércia) e como ela se aplica no dia a dia. Dê um exemplo.\",\n",
      "  \"answer\": \"A Primeira Lei de Newton, também conhecida como Lei da Inércia, afirma que um objeto em repouso tende a permanecer em repouso e um objeto em movimento tende a permanecer em movimento com velocidade constante em linha reta, a menos que uma força externa atue sobre ele.  Em outras palavras, objetos não mudam seu estado de movimento a menos que uma força seja aplicada. \\n\\n**Exemplo:** Imagine uma caixa de livros em uma prateleira. Se você deixar a caixa em repouso, ela permanecerá em repouso até que alguém a mova ou uma força externa (como um empurrão) a faça se mover. Se você a empurrar, ela continuará se movendo em linha reta até que uma força a pare ou altere sua trajetória.\"\n",
      "}\n",
      "\n",
      "🔄 Teste Flashcard 4 - Leis de Newton:\n",
      "{\n",
      "  \"question\": \"Qual é a Segunda Lei de Newton e como ela relaciona força, massa e aceleração? Explique a fórmula e sua importância.\",\n",
      "  \"answer\": \"A Segunda Lei de Newton afirma que a força resultante sobre um objeto é igual à massa do objeto multiplicada pela sua aceleração. Matematicamente, isso é expresso como F = ma, onde: \\n\\n*   **F** representa a força resultante (em Newtons).\\n*   **m** representa a massa do objeto (em quilogramas).\\n*   **a** representa a aceleração do objeto (em metros por segundo ao quadrado).\\n\\nEssa lei é fundamental porque mostra que quanto maior a força aplicada a um objeto, maior será a sua aceleração, desde que a massa permaneça constante.  A massa é uma medida da inércia do objeto, ou seja, sua resistência à mudança de movimento.  A Segunda Lei de Newton é a base para entender como objetos se movem e como as forças atuam neles.  Por exemplo, empurrar um carrinho com mais força (maior F) fará com que ele acelere mais rapidamente (maior a).  Se o carrinho tiver uma massa maior (maior m), a mesma força aplicada resultará em uma aceleração menor.\"\n",
      "}\n"
     ]
    }
   ],
   "source": [
    "flashcards_criados = []\n",
    "for i in range(4):\n",
    "    print(f\"\\n🔄 Teste Flashcard {i+1} - Leis de Newton:\")\n",
    "    resultado_flashcard = flashcard(\"Leis de Newton\", flashcards_existentes=flashcards_criados)\n",
    "    flashcard_data = extract_json_block(resultado_flashcard)\n",
    "    if flashcard_data:\n",
    "        print(json.dumps(flashcard_data, indent=2, ensure_ascii=False))\n",
    "        flashcards_criados.append(flashcard_data[\"question\"])\n",
    "    else:\n",
    "        print(\"Erro no parsing\")"
   ]
  },
  {
   "cell_type": "code",
   "execution_count": null,
   "metadata": {},
   "outputs": [],
   "source": []
  }
 ],
 "metadata": {
  "kernelspec": {
   "display_name": "env",
   "language": "python",
   "name": "python3"
  },
  "language_info": {
   "codemirror_mode": {
    "name": "ipython",
    "version": 3
   },
   "file_extension": ".py",
   "mimetype": "text/x-python",
   "name": "python",
   "nbconvert_exporter": "python",
   "pygments_lexer": "ipython3",
   "version": "3.10.12"
  }
 },
 "nbformat": 4,
 "nbformat_minor": 4
}
