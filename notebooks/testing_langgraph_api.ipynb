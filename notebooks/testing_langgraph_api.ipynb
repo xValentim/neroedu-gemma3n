{
 "cells": [
  {
   "cell_type": "code",
   "execution_count": 11,
   "id": "3dc1c84e",
   "metadata": {},
   "outputs": [
    {
     "name": "stdout",
     "output_type": "stream",
     "text": [
      "## Correção da Redação (Competência 1 - Redação Dissertativa-Argumentativa)\n",
      "\n",
      "**Título:** A Invisibilidade das Comunidades Tradicionais no Brasil\n",
      "\n",
      "**Texto:**\n",
      "\n",
      "As comunidades tradicionais brasileiras, como quilombolas, ribeirinhos, indígenas e caiçaras, enfrentam desafios persistentes para garantir seus direitos e valorização, apesar de sua importância histórica, cultural e ambiental. A negligência estatal e a falta de representatividade na mídia perpetuam a invisibilidade e a vulnerabilidade dessas populações, exigindo ações urgentes para a promoção da equidade.\n",
      "\n",
      "A Constituição de 1988 reconhece os direitos territoriais e culturais dessas comunidades, mas a efetivação dessas garantias é frequentemente obstaculizada por interesses econômicos e grandes obras de infraestrutura. A demora na demarcação de terras indígenas, por exemplo, gera conflitos fundiários e violações de direitos humanos. A ausência de políticas públicas eficazes dificulta o acesso à saúde, educação e moradia digna, perpetuando a pobreza e a exclusão.\n",
      "\n",
      "A representação limitada dessas comunidades na mídia reforça estereótipos e dificulta a empatia social. A escassa visibilidade de suas vozes impede que suas demandas ganhem força no debate público, comprometendo a preservação de suas culturas e o sentimento de pertencimento.\n",
      "\n",
      "Para superar essa invisibilidade, o Estado deve cumprir seu papel constitucional na garantia de direitos, incluindo a demarcação de terras, proteção ambiental e acesso a serviços básicos. A mídia e a sociedade civil devem atuar como aliadas, promovendo espaços de escuta e representação. Somente por meio de um esforço coletivo será possível combater a invisibilidade e construir uma sociedade mais justa e inclusiva.\n",
      "\n",
      "**Observações:**\n",
      "\n",
      "*   **Objetividade:** O texto foi condensado, eliminando redundâncias e informações desnecessárias.\n",
      "*   **Clareza:** A linguagem foi simplificada para facilitar a compreensão.\n",
      "*   **Coerência:** As ideias foram organizadas de forma mais lógica e fluida.\n",
      "*   **Concisão:** O número de palavras foi reduzido, mantendo a essência do argumento.\n",
      "*   **Foco:** A argumentação foi direcionada para a problemática central, evitando divagações."
     ]
    }
   ],
   "source": [
    "from langgraph_sdk import get_client\n",
    "\n",
    "client = get_client(url=\"http://127.0.0.1:2024\") \n",
    "                    # api_key=<API_KEY>)\n",
    "\n",
    "# Using the graph deployed with the name \"agent\"\n",
    "assistant_id = \"competencia_1\"\n",
    "\n",
    "# create a thread\n",
    "thread = await client.threads.create()\n",
    "thread_id = thread[\"thread_id\"]\n",
    "\n",
    "inputs = {\n",
    "    \"essay\": \"\"\"\n",
    "    Tema: Os desafios da valorização de comunidades tradicionais no Brasil\n",
    "    Título: A invisibilidade das comunidades tradicionais na sociedade brasileira\n",
    "\n",
    "    Ao longo da história do Brasil, comunidades tradicionais como quilombolas, ribeirinhos, indígenas e caiçaras têm resistido bravamente à marginalização social e à perda de seus territórios. Apesar de sua importância histórica, cultural e ambiental, essas populações ainda enfrentam uma série de desafios para garantir seus direitos e sua valorização. A negligência do Estado e a falta de representatividade na mídia contribuem para a manutenção de um cenário de invisibilidade e vulnerabilidade, o que demanda ações urgentes para a promoção da equidade.\n",
    "\n",
    "    Em primeiro plano, é importante destacar o papel do Estado brasileiro na proteção dessas comunidades. A Constituição de 1988 reconhece os direitos territoriais e culturais dos povos tradicionais, mas na prática, a efetivação dessas garantias esbarra em interesses econômicos, especialmente no agronegócio e em grandes obras de infraestrutura. Um exemplo emblemático é a demora na demarcação de terras indígenas, o que contribui para conflitos fundiários e violações de direitos humanos. A ausência de políticas públicas eficazes também dificulta o acesso dessas populações à saúde, educação e moradia digna, perpetuando ciclos de pobreza e exclusão.\n",
    "\n",
    "    Além disso, a forma como essas comunidades são retratadas (ou ignoradas) pela mídia reforça estereótipos e contribui para a falta de empatia da sociedade. A escassa visibilidade de suas pautas nos meios de comunicação impede que suas demandas ganhem força no debate público. Essa falta de voz compromete a preservação de suas culturas e enfraquece o sentimento de pertencimento dessas populações, muitas vezes forçadas a abandonar seus modos de vida tradicionais para sobreviver nos centros urbanos.\n",
    "\n",
    "    Portanto, é fundamental que o Estado brasileiro cumpra seu papel constitucional de garantir os direitos das comunidades tradicionais, promovendo a demarcação de terras, a proteção ambiental e o acesso a serviços básicos. Além disso, a mídia e a sociedade civil devem atuar como aliadas na valorização dessas culturas, promovendo espaços de escuta e representação. Apenas por meio de um esforço coletivo será possível combater a invisibilidade e promover uma sociedade mais justa, plural e inclusiva.\n",
    "    \"\"\"\n",
    "}\n",
    "\n",
    "# create a streaming run\n",
    "async for chunk in client.runs.stream(\n",
    "    thread_id,\n",
    "    assistant_id,\n",
    "    input=inputs,\n",
    "    stream_mode=\"messages-tuple\"\n",
    "):\n",
    "    if chunk.event != \"messages\":\n",
    "        continue\n",
    "\n",
    "    message_chunk, metadata = chunk.data  \n",
    "    if message_chunk[\"content\"]:\n",
    "        print(message_chunk[\"content\"], end=\"\", flush=True)"
   ]
  },
  {
   "cell_type": "code",
   "execution_count": null,
   "id": "a14fd7c7",
   "metadata": {},
   "outputs": [],
   "source": []
  },
  {
   "cell_type": "code",
   "execution_count": null,
   "id": "2267c755",
   "metadata": {},
   "outputs": [],
   "source": []
  }
 ],
 "metadata": {
  "kernelspec": {
   "display_name": "env",
   "language": "python",
   "name": "python3"
  },
  "language_info": {
   "codemirror_mode": {
    "name": "ipython",
    "version": 3
   },
   "file_extension": ".py",
   "mimetype": "text/x-python",
   "name": "python",
   "nbconvert_exporter": "python",
   "pygments_lexer": "ipython3",
   "version": "3.11.13"
  }
 },
 "nbformat": 4,
 "nbformat_minor": 5
}
