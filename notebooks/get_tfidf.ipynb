{
 "cells": [
  {
   "cell_type": "code",
   "execution_count": 30,
   "id": "78312d2a",
   "metadata": {},
   "outputs": [
    {
     "name": "stderr",
     "output_type": "stream",
     "text": [
      "[nltk_data] Downloading package stopwords to\n",
      "[nltk_data]     C:\\Users\\gabri\\AppData\\Roaming\\nltk_data...\n",
      "[nltk_data]   Package stopwords is already up-to-date!\n"
     ]
    }
   ],
   "source": [
    "import pandas as pd\n",
    "import numpy as np\n",
    "import re\n",
    "import nltk\n",
    "from nltk.corpus import stopwords\n",
    "\n",
    "nltk.download('stopwords')\n",
    "stop_words = set(stopwords.words('portuguese'))\n",
    "\n",
    "def preprocess_text(text):\n",
    "    text = text.lower()\n",
    "    text = re.sub(r'\\d+', '', text)\n",
    "    text = re.sub(r'\\b\\w{1,2}\\b', '', text)  \n",
    "    text = re.sub(r'[^\\w\\s]', '', text) \n",
    "    text = ' '.join(word for word in text.split() if word not in stop_words)\n",
    "    return text\n",
    "\n",
    "url = \"../data/data_playlists_enem.csv\"\n",
    "df = pd.read_csv(url)\n",
    "df['content'] = df['content'].apply(preprocess_text)\n"
   ]
  },
  {
   "cell_type": "code",
   "execution_count": 31,
   "id": "042b53a5",
   "metadata": {},
   "outputs": [],
   "source": [
    "from sklearn.feature_extraction.text import TfidfVectorizer\n",
    "\n",
    "vectorizer = TfidfVectorizer() # Important note here: there are many default parameters that do not show in this call.\n",
    "X = vectorizer.fit_transform(df['content'])"
   ]
  },
  {
   "cell_type": "code",
   "execution_count": 57,
   "id": "ffeac23b",
   "metadata": {},
   "outputs": [
    {
     "name": "stderr",
     "output_type": "stream",
     "text": [
      "[nltk_data] Downloading package stopwords to\n",
      "[nltk_data]     C:\\Users\\gabri\\AppData\\Roaming\\nltk_data...\n",
      "[nltk_data]   Package stopwords is already up-to-date!\n"
     ]
    }
   ],
   "source": [
    "import pickle\n",
    "from pydantic import BaseModel\n",
    "\n",
    "nltk.download('stopwords')\n",
    "stop_words = set(stopwords.words('portuguese'))\n",
    "\n",
    "class Output(BaseModel):\n",
    "    content: str\n",
    "    relevance: float\n",
    "\n",
    "class Retriever:\n",
    "    def __init__(self, path_csv, path_model):\n",
    "        self.df = pd.read_csv(path_csv)\n",
    "        self.df['content'] = self.df['content'].apply(self.preprocess_text)\n",
    "        try:\n",
    "            with open(path_model, 'rb') as f_in:\n",
    "                self.vectorizer = pickle.load(f_in)\n",
    "            self.X = self.vectorizer.transform(self.df['content'])    \n",
    "            \n",
    "        except:\n",
    "            print('Model not found. Creating a new one...')\n",
    "            self.vectorizer = TfidfVectorizer()\n",
    "            self.X = self.vectorizer.fit_transform(self.df['content'])\n",
    "            print('Model created.')\n",
    "            print('Saving model...')\n",
    "            self.save_model(filename=path_model)\n",
    "            \n",
    "        \n",
    "    def invoke(self, query, k=3):\n",
    "        Q = self.vectorizer.transform([query])\n",
    "        R = self.X.dot(Q.T)\n",
    "        \n",
    "        # Get score with np.argsort\n",
    "        scores = np.array(R.toarray()).flatten()\n",
    "        idxs = np.argsort(scores)[::-1]\n",
    "        idxs_and_scores = np.array([[idx, scores[idx]] for idx in idxs])\n",
    "        \n",
    "        retrieved = np.array(idxs_and_scores[:k])\n",
    "        idxs = np.array(retrieved)[:, 0].astype(int)\n",
    "        output_content = self.df.iloc[idxs][['content']].values\n",
    "        output_relevance = retrieved[:, 1].reshape(-1, 1)\n",
    "        output = np.concatenate([output_content, output_relevance], axis=1)\n",
    "        return output\n",
    "    \n",
    "    def query(self, query, k=3):\n",
    "        output = self.invoke(query, k)\n",
    "        output = [Output(content=x[0], relevance=x[1]) for x in output]\n",
    "        return output\n",
    "    \n",
    "    def preprocess_text(self, text):\n",
    "        text = text.lower()\n",
    "        text = re.sub(r'\\d+', '', text)\n",
    "        text = re.sub(r'\\b\\w{1,2}\\b', '', text)  \n",
    "        text = re.sub(r'[^\\w\\s]', '', text) \n",
    "        text = ' '.join(word for word in text.split() if word not in stop_words)\n",
    "        return text\n",
    "    \n",
    "    def save_model(self, filename='../vectorstore/tfidf_model.pkl'):\n",
    "        # Salvar o modelo TF-IDF em um arquivo .pkl\n",
    "        with open(filename, 'wb') as f_out:\n",
    "            pickle.dump(self.vectorizer, f_out)"
   ]
  },
  {
   "cell_type": "code",
   "execution_count": 58,
   "id": "adb75b54",
   "metadata": {},
   "outputs": [],
   "source": [
    "retrieve_enem = Retriever(path_csv=\"../vectorstore/data_playlists_enem.csv\", \n",
    "                          path_model='../vectorstore/tfidf_model_enem.pkl')\n",
    "\n",
    "retrieve_cuet = Retriever(path_csv=\"../vectorstore/cuet_edital.csv\", \n",
    "                          path_model='../vectorstore/tfidf_model_cuet_edital.pkl')\n",
    "\n",
    "retrieve_exames = Retriever(path_csv=\"../vectorstore/exames_nacionais_edital.csv\", \n",
    "                            path_model='../vectorstore/tfidf_model_exames_nacionais_edital.pkl')\n",
    "\n",
    "retrieve_exani = Retriever(path_csv=\"../vectorstore/exani_edital.csv\", \n",
    "                           path_model='../vectorstore/tfidf_model_exani_edital.pkl')\n",
    "\n",
    "retrieve_icfes = Retriever(path_csv=\"../vectorstore/icfes_edital.csv\", \n",
    "                           path_model='../vectorstore/tfidf_model_icfes_edital.pkl')\n",
    "\n",
    "retrieve_sat = Retriever(path_csv=\"../vectorstore/sat_edital.csv\", \n",
    "                         path_model='../vectorstore/tfidf_model_sat_edital.pkl')"
   ]
  },
  {
   "cell_type": "code",
   "execution_count": 66,
   "id": "4c79be55",
   "metadata": {},
   "outputs": [
    {
     "data": {
      "text/plain": [
       "'title período joanino enem views count publish date author parabólica description unknown link video httpswwwyoutubecomwatchfcr salve salve gente tudo bem bemvindos vídeo parabólica hoje dia videoaula história brasil momento decisivo vamos falar hoje período joanino finalzinho processo colonial brasileiro quer dizer próximas aulas gente vai entrando período império brasil independente vou enrolar gente começa falando sobre período chamado período joanino período aqui brasil vai período joanino simples família real portuguesa veio residir brasil durante período vieram quê vieram porque fugindo napoleão bonaparte imperador francês bom gente fez aula aqui sobre napoleão guerras napoleônicas então assistiu sabe bem acontecendo napoleão decretou bloqueio continental inglat terra nenhuma nação poderia continuar comercializando inglaterra desobedecesse invadido tropas francesas portugal condições condições romper inglaterra porque portugal dependia economicamente inglaterra inclusive devia pra inglaterra tratado méa panos vinhos coisas gente falou tudo aqui aulas fala assim aconteceu então príncipe regente portugal dom joão chegou conclusão junto ministros hora abandonar barco portugal enquanto outras nações batalhem tentassem derrotar napoleão família real portuguesa veio brasil fugindo napoleão veio veio gente caramba família real muitos cidadãos portugueses ficaram medo disso tanto cidadãos elite quanto cidadãos comuns vieram fugindo napoleão portugal ficou desabitado ficou desabitado veio muita gente portugal brasil dom joão veio negociando inclusive inglaterra saberem marinha britânica fez escolta família real brasil chegaram brasil vai encontrar vários livros falando problema ali desinteria problema piolho pessoal arreia piolho verdade tudo aconteceu porque viagem tão rápida primeira vez nobreza portuguesa viaja colônia colônia colônia próspera menos então reclamaram tudo reclamaram desconforto viagem porque nobreza acostumada maior parte população pro rio janeiro capital brasil outra pedaço pequeno principalmente família real dom joão chama período joanino porque dom joão família real inicialmente desceu salvador motivos descer salvador conhecer primeira capital colônia lógico fazer agrado população aqui brasil mostrar quanto família real portuguesa preocupa habitantes colônia questão política focos desse período localizados principalmente rio janeiro precisam saber bem pontos importantes gente vai falar aqui coisa extremamente importante daí começa surgir verdade primeira grande rivalidade brasileiros portugueses todo mundo fica falando guerra meme coisa toda surgiu tudo discussão brasileiro apiada português portugues cont apiada brasileiro porque prioridade principalmente aqui rio janeiro sempre pros portugueses então brasileiros sair residências portugueses ocuparem portugueses ocupavam melhores cargos brasil nesse período então surgiu rivalidade importante frente vai resultar independência brasil porque brasileiro vai querer colonizado portugueses claro aqui gente falando daquela fase final daquele stopim povo brasileiro saco cheio disso importante falar desse período agora então gente falando rio janeiro dessa rivalidade surgindo então família real chega brasil passa salvador desce pro rio janeiro vai acontecer importante saber sobre importante todo mundo entenda brasil começa ganhar cara então começa ganhar gente vai falar ares europeizadas dom joão aqui brasil permitiu criação universidades bibliotecas teatros coisas importantes permitiu tudo gente sabia quanto tempo família real ficar brasil então vão tentar europeizar brasil justamente receber portugueses reparem brasil brasil nada antes disso concepção opa moto brasil'"
      ]
     },
     "execution_count": 66,
     "metadata": {},
     "output_type": "execute_result"
    }
   ],
   "source": [
    "query = \"Dom João VI Ele veio para cá negociando inclusive com a Inglaterra né para vocês saberem a Marinha britânica que fez a escolta da família real até o Brasil chegaram ao Brasil você vai encontrar em vários livros falando que que você teve problema ali de de desinteria problema de piolho né o pessoal teve de arreia mesmo m né piolho mas na verdade isso tudo aconteceu porque a viagem não era tão rápida e é a primeira vez que uma nobreza portuguesa viaja a sua colônia tá a colônia e a sua colônia mais Próspera pelo menos então eles reclamaram de tudo reclamaram do desconforto da viagem porque a nobreza\"\n",
    "\n",
    "retrieve_enem.query(query, k=5)[0].content"
   ]
  },
  {
   "cell_type": "code",
   "execution_count": 61,
   "id": "a8c40763",
   "metadata": {},
   "outputs": [
    {
     "data": {
      "text/plain": [
       "[Output(content='chapter eligibility eligibility appearing the cuet there age limit the candidates the candidates who have passed the class equivalent examination are appearing can appear the cuet examination however the candidates will required fulfill the age criteria any the university institution organization which they are desirous taking admission list qualifying examinations the final examination the system conducted any recognized central state board such the central board secondary education new delhi council the indian school certificate examinations new delhi', relevance=0.7555210975674028),\n",
       " Output(content='tests subject covered under cuet the list languages domain specific subjects and general aptitude test covered cuet given appendix duration test duration each test paper would minutes the xamination will conducted multiple shifts depending the number candidates and their combinations compensatory time pwbd candidates minutes each hour chapter eligibility eligibility appearing the cuet there age limit the candidates the candidates who have passed the class equivalent examination are appearing can appear', relevance=0.49770332619792057),\n",
       " Output(content='the marks obtained candidate will considered further computation the result cuet there shall evaluationchecking the result correspondence this regard shall entertained score card will dispatched the candidates and the can didates are advised download their score cards cuet from the website httpscuetntanic admissions merely appearing cuet does not confer any right the candidate admission the desirous university the selection and admission are subject fulfilling the admission criteria eligibility rank', relevance=0.37169869265420025),\n",
       " Output(content='admissions merely appearing cuet does not confer any right the candidate admission the desirous university the selection and admission are subject fulfilling the admission criteria eligibility rank the merit list medical fitness verification original documents and such other criteria may prescribed the university admissions are handled the level each the central universities cus including the participating higher education institutions heis using cuet score admission their respective programme after the declaration the cuet result nta the respective cus will declare the counselling admission schedule and', relevance=0.3424212116892975),\n",
       " Output(content='note admission universities through cuet the existing policies regarding quota category relaxation reservations qualification subject combinations preferences etc the respective university institution organization shall applicable the eligibility criteria admission may unique every university the candidates are advised visit the university website which they are applying their respective programes candidates are advised satisfy themselves before applying that they possess the eligibility criteria laid down the university they are applying mere appearance the entrance test does not entitle candidate considered', relevance=0.33615784773504953)]"
      ]
     },
     "execution_count": 61,
     "metadata": {},
     "output_type": "execute_result"
    }
   ],
   "source": [
    "query = \"\"\"Eligibility \n",
    "For appearing in the CUET (UG) - 2025, there is no age limit for the candidates. The candidates \n",
    "who have passed the class 12 /equivalent examination or are appearing in 2025 can appear in \n",
    "the CUET (UG) - 2025 examination. However, the candidates will be required to fulfill the age \n",
    "criteria  (if  any)  of  the  University  /  Institution  /  Organization  in  which  they  are  desirous  of \n",
    "taking admission. \"\"\"\n",
    "\n",
    "retrieve_cuet.query(query, k=5)"
   ]
  },
  {
   "cell_type": "code",
   "execution_count": 62,
   "id": "3f91d7d7",
   "metadata": {},
   "outputs": [
    {
     "data": {
      "text/plain": [
       "[Output(content='norma jne instruções realização classificação reapreciação reclamação norma jne instruções realização classificação reapreciação reclamação ficha técnica título norma jne instruções realização classificação reapreciação reclamação provas exames ensino básico ensino secundário autores ana cláudia soeiro clara romano isabel rebelo maria elvira monteiro raquel dionísio ricardo patrão rui ferreira coordenação luís duque almeida capa isabel espinheira composição direçãogeral educação júri nacional exames edição maio', relevance=0.0),\n",
       " Output(content='alunos ensino secundário acesso ensino superior reclamação apenas pode incidir sobre questões objeto reapreciação quer alegadas aluno quer tendo sido alegadas mereceram alteração classificação parte professor relator norma jne instruções realização classificação reapreciação reclamação modelo alegação justificativa reclamação continuação número suposto prova processo reclamação preencher jne fundamentação pedido reclamação continuação', relevance=0.0),\n",
       " Output(content='reclamações aseadas quaisquer outros fundamentos ainda fundamentação contenham elementos identificativos aluno referências situação escolar profissional nestes incluindo referência qualquer estabelecimento ensino frequentado número disciplinas falta completar escolaridade classificações obtidas várias disciplinas bem classificação necessária conclusão ciclo caso alunos ensino secundário acesso ensino superior reclamação apenas pode incidir sobre questões objeto reapreciação quer alegadas aluno quer tendo sido alegadas mereceram', relevance=0.0),\n",
       " Output(content='total páginas ____________ fundamentação pedido reclamação reclamação deve refutar argumentos apresentados professor relator constituindo apenas fundamento desta discordância aplicação critérios classificação existência vício processual sendo indeferidas liminarmente reclamações aseadas quaisquer outros fundamentos ainda fundamentação contenham elementos identificativos aluno referências situação escolar profissional nestes incluindo referência', relevance=0.0),\n",
       " Output(content='norma jne instruções realização classificação reapreciação reclamação modelo alegação justificativa reclamação prova identificação prova prova código _________________________ ensino básico fase fase ensino secundário fase fase número suposto prova processo reclamação preencher jne total páginas ____________', relevance=0.0)]"
      ]
     },
     "execution_count": 62,
     "metadata": {},
     "output_type": "execute_result"
    }
   ],
   "source": [
    "query = \"\"\"Eligibility \n",
    "For appearing in the CUET (UG) - 2025, there is no age limit for the candidates. The candidates \n",
    "who have passed the class 12 /equivalent examination or are appearing in 2025 can appear in \n",
    "the CUET (UG) - 2025 examination. However, the candidates will be required to fulfill the age \n",
    "criteria  (if  any)  of  the  University  /  Institution  /  Organization  in  which  they  are  desirous  of \n",
    "taking admission. \"\"\"\n",
    "\n",
    "retrieve_exames.query(query, k=5)"
   ]
  },
  {
   "cell_type": "code",
   "execution_count": 63,
   "id": "9dbc767e",
   "metadata": {},
   "outputs": [
    {
     "data": {
      "text/plain": [
       "[Output(content='pounds located the final clause the preceding ragraph there the author questions the validity the millerurey experiment the grounds that their theory the origin life would have required methane and monia have been present essential elements the production amino acids opción argumentación amino acids incorrect according the text amino acids would the result the presence methane and ammonia early earth atmosphere respuesta correcta guía sustentante examen nacional ingreso educación superior exani subárea comprensión lectora tema leer orientarse', relevance=0.627186572128484),\n",
       " Output(content='opción argumentación arrive since incorrect the preposition used this particular context indicate where something someone particularly the case cities countries continents the other hand preposition used indicate position point place which not the case this segment the use the simple present form the verb arrive not appropriate given the time sequence the segment totally the past since preposition must necessarily followed the date time when action started finally the use incorrect since collocation ruling dictates the use the preposition with home', relevance=0.6134038928106189),\n",
       " Output(content='theory not fully off the table after all dirk schulzemakuch air space guía sustentante examen nacional ingreso educación superior exani subárea comprensión lectora tema leer orientarse the phrase those compounds line refers opción argumentación carbon dioxide and nitrogen incorrect according the line argument those pounds refers methane and ammonia opción argumentación methane and ammonia correct the direct referent the phrase those pounds located the final clause the preceding ragraph there the author questions the validity the millerurey experiment the grounds that their theory', relevance=0.5677443567019638),\n",
       " Output(content='located particularly the case cities countries continents whereas preposition refers surface being also used indicate streets specific dates weekdays and holiday days arrives not the correct form the verb the time sequence the narration demands the use the simple past whereas until preposition used express the time moment when action finished the specific segment makes reference period time finally the use incorrect since collocation ruling dictates use the preposition with home respuesta correcta guía sustentante examen nacional ingreso educación superior exani registro presentar exani', relevance=0.5572969177905268),\n",
       " Output(content='opción argumentación arrived from correct preposition used indicate where someone something specifically with regard cities countries continents the use the main verb its past form arrived consistent with the time sequence the segment the preposition from correctly used before time intervals collocation rules dictate the use the preposition with home the expression home opción argumentación arrive since incorrect the preposition used this particular context indicate where something someone particularly the case cities countries continents', relevance=0.4971358964687779)]"
      ]
     },
     "execution_count": 63,
     "metadata": {},
     "output_type": "execute_result"
    }
   ],
   "source": [
    "query = \"\"\"Eligibility \n",
    "For appearing in the CUET (UG) - 2025, there is no age limit for the candidates. The candidates \n",
    "who have passed the class 12 /equivalent examination or are appearing in 2025 can appear in \n",
    "the CUET (UG) - 2025 examination. However, the candidates will be required to fulfill the age \n",
    "criteria  (if  any)  of  the  University  /  Institution  /  Organization  in  which  they  are  desirous  of \n",
    "taking admission. \"\"\"\n",
    "\n",
    "retrieve_exani.query(query, k=5)"
   ]
  },
  {
   "cell_type": "code",
   "execution_count": 64,
   "id": "9432bd6d",
   "metadata": {},
   "outputs": [
    {
     "data": {
      "text/plain": [
       "[Output(content='marcarla hoja respuestas presentación especificacionescontenido características desea familiarizarse con las cinco pruebas del examen saber con los tipos preguntas consulte caja herramientas cual contiene marcos referencia infografías cuadernillos preguntas ejemplos preguntas explicadas más subdirección diseño instrumentos dirección evaluación calle torre piso edificio elemento bogotá colombia wwwicfesgov líneas atención ciudadano bogotá tel pbx', relevance=0.0),\n",
       " Output(content='del texto evaluado debe seleccionar respuesta correcta cada pregunta cuatro opciones marcarla hoja respuestas con base texto evalúa conocimiento gramatical lexical ejercicio consiste elegir las palabras más adecuadas completar texto ello debe seleccionar palabra correcta decir aquella completa cada uno los espacios texto presentado cuatro opciones dadas marcarla hoja respuestas presentación especificacionescontenido características desea familiarizarse con las cinco pruebas del examen saber con los tipos preguntas consulte caja', relevance=0.0),\n",
       " Output(content='lectura literal texto ejercicio consiste los evaluados seleccionen paráfrasis permite responder correctamente cada pregunta planteada texto los evaluados deben seleccionar respuesta correcta cada pregunta tres opciones señalarla hoja respuestas evalúa proceso lectura inferencial parte plantean distintas preguntas sobre intención del autor los aspectos generales particulares destacables del texto evaluado debe seleccionar respuesta correcta cada pregunta cuatro opciones marcarla hoja respuestas con base texto evalúa conocimiento gramatical lexical', relevance=0.0),\n",
       " Output(content='con base texto evalúa conocimiento gramatical puntualmente los evaluados deben elegir las palabras más adecuadas completar texto ello los evaluados deben leer prestar atención una serie espacios puesto cada uno estos debe seleccionar palabra correcta las tres opciones presentadas marcarla hoja respuestas presentación especificacionescontenido características evalúa comprensión lectura literal texto ejercicio consiste los evaluados seleccionen paráfrasis permite responder correctamente cada pregunta planteada texto los evaluados deben seleccionar respuesta correcta cada', relevance=0.0),\n",
       " Output(content='evalúa conocimiento comunicativo concreto los evaluados deben elegir intervención más adecuada interlocutor haría frente dicho interlocutor anterior relaciona con pertinencia del lenguaje usado situaciones particulares recreadas pequeñas conversaciones consecuencia parte evaluado debe completar conversaciones cortas seleccionando respuesta correcta dadas marcándola las tres opciones hoja respuestas con base texto evalúa conocimiento gramatical puntualmente los evaluados deben elegir las palabras más adecuadas completar texto ello los evaluados deben leer prestar atención una serie espacios', relevance=0.0)]"
      ]
     },
     "execution_count": 64,
     "metadata": {},
     "output_type": "execute_result"
    }
   ],
   "source": [
    "query = \"\"\"Eligibility \n",
    "For appearing in the CUET (UG) - 2025, there is no age limit for the candidates. The candidates \n",
    "who have passed the class 12 /equivalent examination or are appearing in 2025 can appear in \n",
    "the CUET (UG) - 2025 examination. However, the candidates will be required to fulfill the age \n",
    "criteria  (if  any)  of  the  University  /  Institution  /  Organization  in  which  they  are  desirous  of \n",
    "taking admission. \"\"\"\n",
    "\n",
    "retrieve_icfes.query(query, k=5)"
   ]
  },
  {
   "cell_type": "code",
   "execution_count": 65,
   "id": "da4e221d",
   "metadata": {},
   "outputs": [
    {
     "data": {
      "text/plain": [
       "[Output(content='into bluebook from another program application certain testing accommodations may allow exceptions this rule internet connection required start the test and submit your answers the end the test you will receive instructions from your proctor test day there internet outage there are sections the sat the first section reading and writing and the second section math each section the sat has modules parts once you leave module you cannot return bluebook has timer that will count down the minutes and seconds remaining each module you can hide the timer until the last minutes the module', relevance=0.18691485777976885),\n",
       " Output(content='section and the intent the parties that the faa will preempt all state laws the fullest extent permitted law arbitration may maintained class collective action party may bring claim only their own behalf and cannot seek relief that would affect other individuals unless all parties agree otherwise the arbitrator will not have the authority consolidate the claims more than individual conduct any class collective proceeding make any class collective award make award any person entity not party the arbitration without the express written consent college board payment all filing administrative and arbitrator fees and costs will governed the', relevance=0.18476517571242557),\n",
       " Output(content='application considered admission college university and complete any steps required any scholarship programs considered their opportunities certain college and university systems once you submit your score one school other schools within that system will also have access your score please note however that you are applying more than one school within college university system still important you send your sat scores each individual school you are not sure whether the specific school you are applying part such system contact the school admissions office score reporting', relevance=0.18327576373421875),\n",
       " Output(content='institutions there guarantee admissions scholarships financial aid any offers direct admission you receive may require you complete additional steps defined the fall sat weekend student guide sat testing rules state public higher education institution such confirm your admission and enrollment well considered financial aid the state government agency operating the direct admissions program the state public higher education institutions and each institution make the decision offers direct admission college board not involved any the selection decisionmaking these state direct admissions programs', relevance=0.17079760098278599),\n",
       " Output(content='you run into technical issue you won lose testing time you need access the internet start the test and submit answers but you can continue testing the connection disrupted during the test student devices are locked during testing and you won able access other applications your device bluebook the only application you can have open your device during testing unless approved external assistive technology fall sat weekend student guide after the test how the sat scored after the test once you taken the sat the next step access your scores understand what they mean and track your progress use the information this section help you make the', relevance=0.16872172644590958)]"
      ]
     },
     "execution_count": 65,
     "metadata": {},
     "output_type": "execute_result"
    }
   ],
   "source": [
    "query = \"\"\"Eligibility \n",
    "For appearing in the CUET (UG) - 2025, there is no age limit for the candidates. The candidates \n",
    "who have passed the class 12 /equivalent examination or are appearing in 2025 can appear in \n",
    "the CUET (UG) - 2025 examination. However, the candidates will be required to fulfill the age \n",
    "criteria  (if  any)  of  the  University  /  Institution  /  Organization  in  which  they  are  desirous  of \n",
    "taking admission. \"\"\"\n",
    "\n",
    "retrieve_sat.query(query, k=5)"
   ]
  },
  {
   "cell_type": "code",
   "execution_count": null,
   "id": "906c99b6",
   "metadata": {},
   "outputs": [],
   "source": []
  },
  {
   "cell_type": "code",
   "execution_count": null,
   "id": "5fcdb97e",
   "metadata": {},
   "outputs": [],
   "source": []
  },
  {
   "cell_type": "code",
   "execution_count": null,
   "id": "306d7286",
   "metadata": {},
   "outputs": [],
   "source": []
  }
 ],
 "metadata": {
  "kernelspec": {
   "display_name": "env",
   "language": "python",
   "name": "python3"
  },
  "language_info": {
   "codemirror_mode": {
    "name": "ipython",
    "version": 3
   },
   "file_extension": ".py",
   "mimetype": "text/x-python",
   "name": "python",
   "nbconvert_exporter": "python",
   "pygments_lexer": "ipython3",
   "version": "3.11.13"
  }
 },
 "nbformat": 4,
 "nbformat_minor": 5
}
