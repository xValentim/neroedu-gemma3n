{
 "cells": [
  {
   "cell_type": "code",
   "execution_count": 26,
   "id": "e3972337",
   "metadata": {},
   "outputs": [
    {
     "name": "stderr",
     "output_type": "stream",
     "text": [
      "[nltk_data] Downloading package stopwords to\n",
      "[nltk_data]     C:\\Users\\gabri\\AppData\\Roaming\\nltk_data...\n",
      "[nltk_data]   Package stopwords is already up-to-date!\n"
     ]
    }
   ],
   "source": [
    "import pickle\n",
    "from pydantic import BaseModel\n",
    "import pandas as pd\n",
    "import numpy as np\n",
    "import re\n",
    "import nltk\n",
    "from nltk.corpus import stopwords\n",
    "from sklearn.feature_extraction.text import TfidfVectorizer\n",
    "\n",
    "nltk.download('stopwords')\n",
    "\n",
    "class Output(BaseModel):\n",
    "    content: str\n",
    "    relevance: float\n",
    "\n",
    "class Retriever:\n",
    "    def __init__(self, \n",
    "                 path_csv, \n",
    "                 path_model):\n",
    "        \n",
    "        self.language = None\n",
    "        if \"sat\" in path_csv:\n",
    "            self.language = 'english'\n",
    "        elif \"icfes\" in path_csv:\n",
    "            self.language = 'spanish'\n",
    "        elif \"exani\" in path_csv:\n",
    "            self.language = 'spanish'\n",
    "        elif \"exames_nacionais\" in path_csv:\n",
    "            self.language = 'portuguese'\n",
    "        elif \"cuet\" in path_csv:\n",
    "            self.language = 'english'\n",
    "        elif \"enem\" in path_csv:\n",
    "            self.language = 'portuguese'\n",
    "        else:\n",
    "            self.language = 'portuguese'\n",
    "        \n",
    "        self.df = pd.read_csv(path_csv)\n",
    "        self.df['content'] = self.df['content'].apply(self.preprocess_text)\n",
    "        \n",
    "        try:\n",
    "            with open(path_model, 'rb') as f_in:\n",
    "                self.vectorizer = pickle.load(f_in)\n",
    "            self.X = self.vectorizer.transform(self.df['content'])    \n",
    "            \n",
    "        except:\n",
    "            print('Model not found. Creating a new one...')\n",
    "            self.vectorizer = TfidfVectorizer()\n",
    "            self.X = self.vectorizer.fit_transform(self.df['content'])\n",
    "            print('Model created.')\n",
    "            print('Saving model...')\n",
    "            self.save_model(filename=path_model)\n",
    "            \n",
    "    def invoke(self, query, k=3):\n",
    "        Q = self.vectorizer.transform([query])\n",
    "        R = self.X.dot(Q.T)\n",
    "        \n",
    "        # Get score with np.argsort\n",
    "        scores = np.array(R.toarray()).flatten()\n",
    "        idxs = np.argsort(scores)[::-1]\n",
    "        idxs_and_scores = np.array([[idx, scores[idx]] for idx in idxs])\n",
    "        \n",
    "        retrieved = np.array(idxs_and_scores[:k])\n",
    "        idxs = np.array(retrieved)[:, 0].astype(int)\n",
    "        output_content = self.df.iloc[idxs][['content']].values\n",
    "        output_relevance = retrieved[:, 1].reshape(-1, 1)\n",
    "        output = np.concatenate([output_content, output_relevance], axis=1)\n",
    "        return output\n",
    "    \n",
    "    def query(self, query, k=3):\n",
    "        output = self.invoke(query, k)\n",
    "        output = [Output(content=x[0], relevance=x[1]) for x in output]\n",
    "        return output\n",
    "    \n",
    "    def preprocess_text(self, \n",
    "                        text):\n",
    "        \n",
    "        if self.language == 'portuguese':\n",
    "            stop_words = set(stopwords.words('portuguese'))\n",
    "        elif self.language == 'english':\n",
    "            stop_words = set(stopwords.words('english'))\n",
    "        elif self.language == 'spanish':\n",
    "            stop_words = set(stopwords.words('spanish'))\n",
    "        else:\n",
    "            stop_words = set()\n",
    "        \n",
    "        text = text.lower()\n",
    "        text = re.sub(r'\\d+', '', text)\n",
    "        text = re.sub(r'\\b\\w{1,2}\\b', '', text)  \n",
    "        text = re.sub(r'[^\\w\\s]', '', text) \n",
    "        text = ' '.join(word for word in text.split() if word not in stop_words)\n",
    "        return text\n",
    "    \n",
    "    def save_model(self, filename='../vectorstore/tfidf_model.pkl'):\n",
    "        # Salvar o modelo TF-IDF em um arquivo .pkl\n",
    "        with open(filename, 'wb') as f_out:\n",
    "            pickle.dump(self.vectorizer, f_out)"
   ]
  },
  {
   "cell_type": "code",
   "execution_count": 27,
   "id": "7812fe83",
   "metadata": {},
   "outputs": [],
   "source": [
    "retrieve_enem = Retriever(path_csv=\"../vectorstore/data_playlists_enem.csv\", \n",
    "                          path_model='../vectorstore/tfidf_model_enem.pkl')\n",
    "\n",
    "retrieve_cuet = Retriever(path_csv=\"../vectorstore/cuet_edital.csv\", \n",
    "                          path_model='../vectorstore/tfidf_model_cuet_edital.pkl')\n",
    "\n",
    "retrieve_exames = Retriever(path_csv=\"../vectorstore/exames_nacionais_edital.csv\", \n",
    "                            path_model='../vectorstore/tfidf_model_exames_nacionais_edital.pkl')\n",
    "\n",
    "retrieve_exani = Retriever(path_csv=\"../vectorstore/exani_edital.csv\", \n",
    "                           path_model='../vectorstore/tfidf_model_exani_edital.pkl')\n",
    "\n",
    "retrieve_icfes = Retriever(path_csv=\"../vectorstore/icfes_edital.csv\", \n",
    "                           path_model='../vectorstore/tfidf_model_icfes_edital.pkl')\n",
    "\n",
    "retrieve_sat = Retriever(path_csv=\"../vectorstore/sat_edital.csv\", \n",
    "                         path_model='../vectorstore/tfidf_model_sat_edital.pkl')"
   ]
  },
  {
   "cell_type": "code",
   "execution_count": 28,
   "id": "95a00d27",
   "metadata": {},
   "outputs": [
    {
     "data": {
      "text/plain": [
       "[Output(content='title período joanino enem views count publish date author parabólica description unknown link video httpswwwyoutubecomwatchfcr salve salve gente tudo bem bemvindos vídeo parabólica hoje dia videoaula história brasil momento decisivo vamos falar hoje período joanino finalzinho processo colonial brasileiro quer dizer próximas aulas gente vai entrando período império brasil independente vou enrolar gente começa falando sobre período chamado período joanino período aqui brasil vai período joanino simples família real portuguesa veio residir brasil durante período vieram quê vieram porque fugindo napoleão bonaparte imperador francês bom gente fez aula aqui sobre napoleão guerras napoleônicas então assistiu sabe bem acontecendo napoleão decretou bloqueio continental inglat terra nenhuma nação poderia continuar comercializando inglaterra desobedecesse invadido tropas francesas portugal condições condições romper inglaterra porque portugal dependia economicamente inglaterra inclusive devia pra inglaterra tratado méa panos vinhos coisas gente falou tudo aqui aulas fala assim aconteceu então príncipe regente portugal dom joão chegou conclusão junto ministros hora abandonar barco portugal enquanto outras nações batalhem tentassem derrotar napoleão família real portuguesa veio brasil fugindo napoleão veio veio gente caramba família real muitos cidadãos portugueses ficaram medo disso tanto cidadãos elite quanto cidadãos comuns vieram fugindo napoleão portugal ficou desabitado ficou desabitado veio muita gente portugal brasil dom joão veio negociando inclusive inglaterra saberem marinha britânica fez escolta família real brasil chegaram brasil vai encontrar vários livros falando problema ali desinteria problema piolho pessoal arreia piolho verdade tudo aconteceu porque viagem tão rápida primeira vez nobreza portuguesa viaja colônia colônia colônia próspera menos então reclamaram tudo reclamaram desconforto viagem porque nobreza acostumada maior parte população pro rio janeiro capital brasil outra pedaço pequeno principalmente família real dom joão chama período joanino porque dom joão família real inicialmente desceu salvador motivos descer salvador conhecer primeira capital colônia lógico fazer agrado população aqui brasil mostrar quanto família real portuguesa preocupa habitantes colônia questão política focos desse período localizados principalmente rio janeiro precisam saber bem pontos importantes gente vai falar aqui coisa extremamente importante daí começa surgir verdade primeira grande rivalidade brasileiros portugueses todo mundo fica falando guerra meme coisa toda surgiu tudo discussão brasileiro apiada português portugues cont apiada brasileiro porque prioridade principalmente aqui rio janeiro sempre pros portugueses então brasileiros sair residências portugueses ocuparem portugueses ocupavam melhores cargos brasil nesse período então surgiu rivalidade importante frente vai resultar independência brasil porque brasileiro vai querer colonizado portugueses claro aqui gente falando daquela fase final daquele stopim povo brasileiro saco cheio disso importante falar desse período agora então gente falando rio janeiro dessa rivalidade surgindo então família real chega brasil passa salvador desce pro rio janeiro vai acontecer importante saber sobre importante todo mundo entenda brasil começa ganhar cara então começa ganhar gente vai falar ares europeizadas dom joão aqui brasil permitiu criação universidades bibliotecas teatros coisas importantes permitiu tudo gente sabia quanto tempo família real ficar brasil então vão tentar europeizar brasil justamente receber portugueses reparem brasil brasil nada antes disso concepção opa moto brasil', relevance=0.43543796238540855),\n",
       " Output(content='title período joanino enem views count publish date author parabólica description unknown link video httpswwwyoutubecomwatchfcr tomado dom joão ficou portugal fala assim ficou portugal merecia portugal segundo concepção tratado viena dom joão merece portugal porque batalhou contra napoleão fugiu pro brasil vai entrar negócio extremamente importante outra coisa extremamente decisiva entenderem partir disso sabendo pode perder dom joão perdendo portugal porque fugiu pra colônia agora então fica colônia perdeu metrópole dom joão declara eleva brasil categoria reino unido portugal garves significa brasil tornou reino unido deixa colônia portugal assim dom joão usa justificativa fugi pra colônia reino extremamente importante quê porque brasil formalmente deixou colônia agora quê reino unido portugal garves entendendo ponto importante entender dom pedro grito ipiranga ato brasil tava tendo status independência percebem importante gente gente pode falar desse processo amou atitude brasil agora reino unido portugal grande parte elite brasileira fala assim colônias formalmente odiou elite portuguesa inclusive elite retornando portugal porque napoleão sido derrotado elite portuguesa odiou porque agora têm colônia próspera maior colônia reino português brasil aumenta rivalidade brasil portugal olha ponto menos cereja bolo hein cereja bolo deixa coçar nariz aqui coçando horrores coçando tomar água vinha falando cereja bolo elite portuguesa estabelecida portugal dom joão ainda aqui brasil família real ainda aqui elite portuguesa aceitando independência brasil adquiriu durante período joanino fazem revolução algumas revoluções verdade gente chama revoluções revoluções porto revolução porto quiserem chamar elite portuguesa exigindo retorno família real recolonização brasil quiser saber portugal passando processo agora transformar monarquia monarquia parlamentarista onde rei reina vai ter todas esferas governo mãos falam gente quer recolonizar brasil recolonizar gente precisa rei família voltem portugal porque senão ficam protegendo ficam dando estatus maior pro brasil então exigem retorno família real condição família real retornar portugal dom joão perde trono português existe pressão elite brasileira dom joão retorne porque dom joão retornar tentarem recolonizar brasil elite brasileira agora avançada outros tempos vai deixar acontecer vai fazer independência brasil nesse momento dom joão desesperado sabe faz começa ouvir conselhos ministros fala faço faço faço volto portugal tentam recolonizar brasil elite brasileira faz independência fico brasil tiram reino português tiram trono português grande saída sacada mestre deixar dom pedro filho aqui brasil família real retorna portugal dom pedro fica brasil objetivo disso dom pedro vai ficar tentativa tapear elite portuguesa ficou aqui tapiar elite brasileira ideia seguinte dom pedro fica brasil elite brasileira tentar fazer independência tenta segurar der faça independência porque fizer independência tudo bem menos reino portugal reino próximo mesma família agora reino brasileiro portugal dom joão rei brasil dom pedro rei nações agora necessariamente ligadas formalmente mesma família poder então dom joão retorna portugal deixa dom pedro aqui brasil vai acontecer processo independência gente vai debater próximo vídeo próximo vídeo próxima vídeoaula aqui parabólica gente entenderam tudo gente falou foco entender processo brasil ganhando status colônia reino unido portugal daqui pouco nação independente portugal nunca esquecer cada vez dependentes inglaterra gente prazer deixa comentários', relevance=0.21230856502716342),\n",
       " Output(content='title período joanino enem views count publish date author parabólica description unknown link video httpswwwyoutubecomwatchfcr públicos geral resolveram criticar governo dom joão surgiu revolução pernambucana falando tentaram verdade fazer revolta separatista verdade fizeram revolta separatista inicialmente conseguiram separar província pernambuco brasil transformar ideia criar governo provisório transformar pernambuco república muita influência independência estados unidos relação transformou estados unidos república movimento vai ter influência grande independência estados unidos influência grande liberal influência grande iluminista justamente criticavam processo aqui família real veio aqui usou luxo rio janeiro acabava pegando recursos todo brasil poder elevar vida portugueses vivendo ali rio janeiro logicamente revolução pernambucana reprimida demais altura governo provisório reprimidos violentamente governo dom joão entendendo processo encaminhando brasil processo independência revolução pernambucana movimento republicano brasil vai tornar monarquia república bom tudo bem bem gente precisa entender algumas coisas ponto importante napoleão europa vai derrotado definitivamente ano vai derrotado definitivamente dom joão dom joão veio pro brasil família real portuguesa veio brasil nações derrotaram napoleão inglaterra áustria prússia rússia derrotaram napoleão prenderam napoleão napoleão vai morrer organizando agora ver vão fazer europa presença agora napoleão porque derrotaram dit cujo dom joão vai fazer aqui brasil importante porque divergência alguns aspectos importante saibam gente vai ter pedaço importante história período joanino chamado missão francesa missão francesa vinda artistas clássicos franceses brasil vieram fazer alguns artistas inclusive oficiais corte napoleônica napoleão agora derrotado vieram fazer brasil divergência falo muita gente fala contratados dom joão gente fala contratados dom joão gente fala vieram livre espontânea vontade rugendas debr artistas francê maioria vieram brasil vieram fazer vieram tentativa influenciar brasil criar movimento artístico gente vai conhecer academia brasileira belas artes toda nação naquele período movimento artístico importante sério geralmente clássico brasil colônia gente falou agora pouco brasil começando ter status independência falou agora então brasil vai tentar ter movimento artístico gente pega influência franceses porque segundo concepção época civilização europa civilização aqui então vem trazer influência vem tentar criar muita gente vai falar tentativa meio frustrada porque negócio pra frente agora voltando pra europa aula napoleão gente falou europa queda napoleão países derrotaram napoleão criaram fizeram tratado viena tentar redividir mapa europeu agora napoleão conquistou grande parte começam devolver reinos antigos reis napoleão tomado dom joão ficou portugal fala assim ficou portugal merecia portugal segundo concepção tratado viena dom joão merece portugal porque batalhou contra napoleão fugiu pro brasil vai entrar negócio extremamente importante outra coisa extremamente decisiva entenderem partir disso sabendo pode perder dom joão perdendo portugal porque fugiu pra colônia agora então fica colônia perdeu metrópole dom joão declara eleva brasil categoria reino unido portugal garves significa brasil tornou reino unido deixa colônia portugal assim dom joão usa justificativa fugi pra colônia reino extremamente importante quê porque brasil formalmente deixou colônia agora quê reino unido portugal garves', relevance=0.17506125986924237),\n",
       " Output(content='title período joanino enem views count publish date author parabólica description unknown link video httpswwwyoutubecomwatchfcr aqui gente falando daquela fase final daquele stopim povo brasileiro saco cheio disso importante falar desse período agora então gente falando rio janeiro dessa rivalidade surgindo então família real chega brasil passa salvador desce pro rio janeiro vai acontecer importante saber sobre importante todo mundo entenda brasil começa ganhar cara então começa ganhar gente vai falar ares europeizadas dom joão aqui brasil permitiu criação universidades bibliotecas teatros coisas importantes permitiu tudo gente sabia quanto tempo família real ficar brasil então vão tentar europeizar brasil justamente receber portugueses reparem brasil brasil nada antes disso concepção opa moto brasil nada antes disso concepção portuguesa porque brasil colônia exploração brasil agora conç começa ganhar cara europeizada ponto vista português dizem civilizando brasil agora vou dar dica verdade dois detalhes detalhes importantes precisam saber aula muita gente esquece disso falo assim quiserem colocar caderno anotando extremamente importante importante extremamente importante vou falar agora precisam anotar vai fazer entenderem processo independência brasil logo ano chegada família real declarada abertura portos nações amigas significa brasil abre portos nações quiserem comercializar diretamente conosco dom joão faz simples motivo acabando monopólio pacto colonial monopólio tudo sai brasil deve primeiro pra metrópole tudo sai colônia deve paraa metrópole fazendo pode enviar lucros bens coisas extraídas aqui brasil portugal simples motivo família real aqui família real aqui portugal cercado napoleão então pode fazer então abre portos nações amigas quebra monopólio brasil portugal porque família real morando brasil então entendam importante porque brasil avançando processo independência outra questão importante além abertura portos nações amigas gente feito acordo grãbretanha chamado tratado comércio amizade alguns locais vão achar tratado cooperação amizade significa produtos britânicos entrarem brasil pagam menos impostos então vou dar exemplo produto britânico quiser entrar brasil cerca acrescentado impostos produto entrar verdade produtos podem variar gente coloca ali importante saber número saber produto britânico barato entrar brasil produtos outr outras nações impostos chegam significa brasil dando prioridade pros produtos britânicos justamente porque relação portugal verdade sempre passou relação pro brasil relação econômica inglaterra relação agora dependência econômica inglaterra comprar produto britânico inglês brasil ficou agora fácil conta disso conta dessas facilidades comércio então pessoas compravam produtos desnecessários nesse período aqui brasil patins gelo quê brasil ski esquiar neve vou ali paraa baril vai escambal máximo vai fazer vai fazer esquibunda barranco lado casa porque neve aqui brasil pessoas compravam conta facilidades então significa quê dando prioridade pra inglaterra então percebem porque tratado abertura portos nações amigas diz nações amigas amigas verdade inglaterra porque tratado favorece inglaterra comércio então ponto importante entender período joanino devem saber porque grande parte historiadores falam desse processo estudam processo levam extremamente influenciados enem influenciados enem geram extrema influência prova enem simplesmente dizem seguinte historiadores viveram ainda nativa independência brasil vai todo mundo sabe', relevance=0.14903374957277762),\n",
       " Output(content='title independência brasil enem views count publish date author parabólica description unknown link video httpswwwyoutubecomwatchhoiksiekxw salve salve gente tudo bem vindos vídeo parabólica vídeo aula história brasil tema extremamente importante gente vai falar sobre processo independência brasil certamente alguma questão alguma prova sobre tema principalmente enem porque gente entender vai cair independência brasil estudado processo independência vai realizado porque primeiro chegou margens verdade muitas coisas aconteceram mitos verdades gente vai entender imaginar processo independência brasil simples pegar última aula gente falou período junino gente falou gente período junino revolução porto elite portuguesa exigir retorno família real portugal consequentemente recolonização brasil revolução revolução liberal significa pessoal portugal queria família real voltasse voltar necessariamente governar reino português gostariam portugal tornasse monarquia parlamentar sabe bem gente falou sobre outras aulas revolução inglesa inglaterra tornou monarquia parlamentar famoso reina governa reino rei acaba tornando chefe estado chefe governo então qualquer forma exigiram família real retornasse recolonizar brasil família real ficasse aqui fortalecia bases brasileiras então vai acontecendo processo dom joão vai voltar grande parte família real portugal poder acalmar ânimos família real dom pedro vai ficar brasil interesse tentar segurar máximo brasil independência brasil porque nessa revolução porto falaram jogo retorna perde trono português monarquia parlamentar perde tempo retorna certamente elite brasileira vai querer independência porque elite brasileira vai aceitar recolonização brasil gente porque nesse período junino gente fala última aula elite brasileira fortaleceu então gente vai ter embate elite portuguesa elite brasileira dom joão retorna portugal ainda aqui brasil grande parte portugueses nesse processo dom joão retorne deixa brasil dom pedro aqui gente conhece período vai volta família real grande parte família real portugal independência brasil coroação dom pedro regência dom pedro regência significa regente necessariamente rei governando determinado local determinado espaço território nação quiser chamar então brasil vai passar processo regência pedro governando brasil provisoriamente período rápido muita coisa importante vão saber primeiro conta elite portuguesa ainda ficou aqui brasil excelente brasileiro vem crescendo vamos formação dois partidos importantes entender processo todo primeiro chamado partido português elite portuguesa aqui brasil defende recolonização brasil dom pedro volte portugal brasileiro fortaleceu vai formar partido brasileiro então embate partido português recolonizadora brasil parte brasileiro libertadores brasil alguma maneira pouco complexo entender porque partido brasileiro assim todos partidos modernos pensa hoje pode ter várias facções vários pensamentos dentro une todas facções liberdade brasil relação portugal dentro partido brasileiro vai ter grupo exemplo pessoas voltados conservadorismo querem brasil liberte defende tendo primeiro deve rei vai ter parcela pessoas ligadas movimento liberal nec parcela maior iluminista processo muitos casos querem república brasil então partido português quer recolonizar brasil parte brasileiro quer libertar partido brasileiro várias idéias vai ficar claro gente gente estudar governo dom pedro nesse processo partido brasileiro fortalecendo fortalecendo fortalecendo portugal exigem retorno dom pedro primeiro porque herdeiro trono brasileiro sabem presença dom pedro aqui brasil fortalece processo independência brasil porque apoiado inicialmente partido brasileiro fazer independência apoiado termo correto dom pedro primeiro influenciado influenciado', relevance=0.14066311309427945)]"
      ]
     },
     "execution_count": 28,
     "metadata": {},
     "output_type": "execute_result"
    }
   ],
   "source": [
    "query = \"Dom João VI Ele veio para cá negociando inclusive com a Inglaterra né para vocês saberem a Marinha britânica que fez a escolta da família real até o Brasil chegaram ao Brasil você vai encontrar em vários livros falando que que você teve problema ali de de desinteria problema de piolho né o pessoal teve de arreia mesmo m né piolho mas na verdade isso tudo aconteceu porque a viagem não era tão rápida e é a primeira vez que uma nobreza portuguesa viaja a sua colônia tá a colônia e a sua colônia mais Próspera pelo menos então eles reclamaram de tudo reclamaram do desconforto da viagem porque a nobreza\"\n",
    "\n",
    "retrieve_enem.query(query, k=5)"
   ]
  },
  {
   "cell_type": "code",
   "execution_count": 29,
   "id": "ea719975",
   "metadata": {},
   "outputs": [
    {
     "data": {
      "text/plain": [
       "[Output(content='chapter eligibility eligibility appearing cuet age limit candidates candidates passed class equivalent examination appearing appear cuet examination however candidates required fulfill age criteria university institution organization desirous taking admission list qualifying examinations final examination system conducted recognized central state board central board secondary education new delhi council indian school certificate examinations new delhi', relevance=0.6935353949634812),\n",
       " Output(content='tests subject covered cuet list languages domain specific subjects general aptitude test covered cuet given appendix duration test duration test paper would minutes xamination conducted multiple shifts depending number candidates combinations compensatory time pwbd candidates minutes hour chapter eligibility eligibility appearing cuet age limit candidates candidates passed class equivalent examination appearing appear', relevance=0.4441758941050143),\n",
       " Output(content='marks obtained candidate considered computation result cuet shall evaluationchecking result correspondence regard shall entertained score card dispatched candidates didates advised download score cards cuet website httpscuetntanic admissions merely appearing cuet confer right candidate admission desirous university selection admission subject fulfilling admission criteria eligibility rank', relevance=0.24789889849682042),\n",
       " Output(content='admissions merely appearing cuet confer right candidate admission desirous university selection admission subject fulfilling admission criteria eligibility rank merit list medical fitness verification original documents criteria may prescribed university admissions handled level central universities cus including participating higher education institutions heis using cuet score admission respective programme declaration cuet result nta respective cus declare counselling admission schedule', relevance=0.23696461688713077),\n",
       " Output(content='advanced level high school certificate examination cambridge university international baccalaureate diploma international baccalaureate office geneva candidates completed class equivalent examination outside india board specified produce certificate association indian universities aiu effect examination passed equivalent class examination case class examination public examination candidate must passed least one public board preuniversity examination earlier year appearance qualifying examination', relevance=0.23459107822289943)]"
      ]
     },
     "execution_count": 29,
     "metadata": {},
     "output_type": "execute_result"
    }
   ],
   "source": [
    "query = \"\"\"Eligibility \n",
    "For appearing in the CUET (UG) - 2025, there is no age limit for the candidates. The candidates \n",
    "who have passed the class 12 /equivalent examination or are appearing in 2025 can appear in \n",
    "the CUET (UG) - 2025 examination. However, the candidates will be required to fulfill the age \n",
    "criteria  (if  any)  of  the  University  /  Institution  /  Organization  in  which  they  are  desirous  of \n",
    "taking admission. \"\"\"\n",
    "\n",
    "retrieve_cuet.query(query, k=5)"
   ]
  },
  {
   "cell_type": "code",
   "execution_count": 30,
   "id": "e5a3c77f",
   "metadata": {},
   "outputs": [
    {
     "data": {
      "text/plain": [
       "[Output(content='norma jne instruções realização classificação reapreciação reclamação norma jne instruções realização classificação reapreciação reclamação ficha técnica título norma jne instruções realização classificação reapreciação reclamação provas exames ensino básico ensino secundário autores ana cláudia soeiro clara romano isabel rebelo maria elvira monteiro raquel dionísio ricardo patrão rui ferreira coordenação luís duque almeida capa isabel espinheira composição direçãogeral educação júri nacional exames edição maio', relevance=0.0),\n",
       " Output(content='alunos ensino secundário acesso ensino superior reclamação apenas pode incidir sobre questões objeto reapreciação quer alegadas aluno quer tendo sido alegadas mereceram alteração classificação parte professor relator norma jne instruções realização classificação reapreciação reclamação modelo alegação justificativa reclamação continuação número suposto prova processo reclamação preencher jne fundamentação pedido reclamação continuação', relevance=0.0),\n",
       " Output(content='reclamações aseadas quaisquer outros fundamentos ainda fundamentação contenham elementos identificativos aluno referências situação escolar profissional nestes incluindo referência qualquer estabelecimento ensino frequentado número disciplinas falta completar escolaridade classificações obtidas várias disciplinas bem classificação necessária conclusão ciclo caso alunos ensino secundário acesso ensino superior reclamação apenas pode incidir sobre questões objeto reapreciação quer alegadas aluno quer tendo sido alegadas mereceram', relevance=0.0),\n",
       " Output(content='total páginas ____________ fundamentação pedido reclamação reclamação deve refutar argumentos apresentados professor relator constituindo apenas fundamento desta discordância aplicação critérios classificação existência vício processual sendo indeferidas liminarmente reclamações aseadas quaisquer outros fundamentos ainda fundamentação contenham elementos identificativos aluno referências situação escolar profissional nestes incluindo referência', relevance=0.0),\n",
       " Output(content='norma jne instruções realização classificação reapreciação reclamação modelo alegação justificativa reclamação prova identificação prova prova código _________________________ ensino básico fase fase ensino secundário fase fase número suposto prova processo reclamação preencher jne total páginas ____________', relevance=0.0)]"
      ]
     },
     "execution_count": 30,
     "metadata": {},
     "output_type": "execute_result"
    }
   ],
   "source": [
    "query = \"\"\"Eligibility \n",
    "For appearing in the CUET (UG) - 2025, there is no age limit for the candidates. The candidates \n",
    "who have passed the class 12 /equivalent examination or are appearing in 2025 can appear in \n",
    "the CUET (UG) - 2025 examination. However, the candidates will be required to fulfill the age \n",
    "criteria  (if  any)  of  the  University  /  Institution  /  Organization  in  which  they  are  desirous  of \n",
    "taking admission. \"\"\"\n",
    "\n",
    "retrieve_exames.query(query, k=5)"
   ]
  },
  {
   "cell_type": "code",
   "execution_count": 31,
   "id": "d359cba6",
   "metadata": {},
   "outputs": [
    {
     "data": {
      "text/plain": [
       "[Output(content='pounds located the final clause the preceding ragraph there the author questions the validity the millerurey experiment the grounds that their theory the origin life would have required methane and monia have been present essential elements for the production amino acids opción argumentación amino acids incorrect according the text amino acids would the result the presence methane and ammonia early earth atmosphere respuesta correcta guía sustentante examen nacional ingreso educación superior exani subárea comprensión lectora tema leer orientarse', relevance=0.6246928892810713),\n",
       " Output(content='opción argumentación arrive since incorrect the preposition used this particular context indicate where something someone particularly the case cities countries continents the other hand preposition used indicate position point place which not the case this segment the use the simple present form the verb arrive not appropriate given the time sequence the segment totally the past since preposition must necessarily followed the date time when action started finally the use incorrect since collocation ruling dictates the use the preposition with home', relevance=0.5955005999635338),\n",
       " Output(content='theory not fully off the table after all dirk schulzemakuch air space guía sustentante examen nacional ingreso educación superior exani subárea comprensión lectora tema leer orientarse the phrase those compounds line refers opción argumentación carbon dioxide and nitrogen incorrect according the line argument those com pounds refers methane and ammonia opción argumentación methane and ammonia correct the direct referent for the phrase those com pounds located the final clause the preceding ragraph there the author questions the validity the millerurey experiment the grounds that their theory', relevance=0.5589497687827143),\n",
       " Output(content='located particularly the case cities countries continents whereas preposition refers surface being also used indicate streets specific dates weekdays and holiday days arrives not the correct form the verb the time sequence the narration demands the use the simple past whereas until preposition used express the time moment when action finished the specific segment makes reference period time finally the use incorrect since collocation ruling dictates use the preposition with home respuesta correcta guía sustentante examen nacional ingreso educación superior exani registro presentar exani', relevance=0.5410312076460003),\n",
       " Output(content='opción argumentación arrived from correct preposition used indicate where someone something specifically with regard cities countries continents the use the main verb its past form arrived consistent with the time sequence the segment the preposition from correctly used before time intervals collocation rules dictate the use the preposition with home the expression home opción argumentación arrive since incorrect the preposition used this particular context indicate where something someone particularly the case cities countries continents', relevance=0.4826260936396873)]"
      ]
     },
     "execution_count": 31,
     "metadata": {},
     "output_type": "execute_result"
    }
   ],
   "source": [
    "query = \"\"\"Eligibility \n",
    "For appearing in the CUET (UG) - 2025, there is no age limit for the candidates. The candidates \n",
    "who have passed the class 12 /equivalent examination or are appearing in 2025 can appear in \n",
    "the CUET (UG) - 2025 examination. However, the candidates will be required to fulfill the age \n",
    "criteria  (if  any)  of  the  University  /  Institution  /  Organization  in  which  they  are  desirous  of \n",
    "taking admission. \"\"\"\n",
    "\n",
    "retrieve_exani.query(query, k=5)"
   ]
  },
  {
   "cell_type": "code",
   "execution_count": 32,
   "id": "4c4157db",
   "metadata": {},
   "outputs": [
    {
     "data": {
      "text/plain": [
       "[Output(content='marcarla hoja respuestas presentación especificacionescontenido características desea familiarizarse cinco pruebas examen saber tipos preguntas consulte caja herramientas contiene marcos referencia infografías cuadernillos preguntas ejemplos preguntas explicadas subdirección diseño instrumentos dirección evaluación calle torre piso edificio elemento bogotá colombia wwwicfesgov líneas atención ciudadano bogotá tel pbx', relevance=0.0),\n",
       " Output(content='texto evaluado debe seleccionar respuesta correcta cada pregunta cuatro opciones marcarla hoja respuestas base texto evalúa conocimiento gramatical lexical ejercicio consiste elegir palabras adecuadas completar texto ello debe seleccionar palabra correcta decir aquella completa cada espacios texto presentado cuatro opciones dadas marcarla hoja respuestas presentación especificacionescontenido características desea familiarizarse cinco pruebas examen saber tipos preguntas consulte caja', relevance=0.0),\n",
       " Output(content='lectura literal texto ejercicio consiste evaluados seleccionen paráfrasis permite responder correctamente cada pregunta planteada texto evaluados deben seleccionar respuesta correcta cada pregunta tres opciones señalarla hoja respuestas evalúa proceso lectura inferencial parte plantean distintas preguntas intención autor aspectos generales particulares destacables texto evaluado debe seleccionar respuesta correcta cada pregunta cuatro opciones marcarla hoja respuestas base texto evalúa conocimiento gramatical lexical', relevance=0.0),\n",
       " Output(content='base texto evalúa conocimiento gramatical puntualmente evaluados deben elegir palabras adecuadas completar texto ello evaluados deben leer prestar atención serie espacios puesto cada debe seleccionar palabra correcta tres opciones presentadas marcarla hoja respuestas presentación especificacionescontenido características evalúa comprensión lectura literal texto ejercicio consiste evaluados seleccionen paráfrasis permite responder correctamente cada pregunta planteada texto evaluados deben seleccionar respuesta correcta cada', relevance=0.0),\n",
       " Output(content='evalúa conocimiento comunicativo concreto evaluados deben elegir intervención adecuada interlocutor haría frente dicho interlocutor anterior relaciona pertinencia lenguaje usado situaciones particulares recreadas pequeñas conversaciones consecuencia parte evaluado debe completar conversaciones cortas seleccionando respuesta correcta dadas marcándola tres opciones hoja respuestas base texto evalúa conocimiento gramatical puntualmente evaluados deben elegir palabras adecuadas completar texto ello evaluados deben leer prestar atención serie espacios', relevance=0.0)]"
      ]
     },
     "execution_count": 32,
     "metadata": {},
     "output_type": "execute_result"
    }
   ],
   "source": [
    "query = \"\"\"Eligibility \n",
    "For appearing in the CUET (UG) - 2025, there is no age limit for the candidates. The candidates \n",
    "who have passed the class 12 /equivalent examination or are appearing in 2025 can appear in \n",
    "the CUET (UG) - 2025 examination. However, the candidates will be required to fulfill the age \n",
    "criteria  (if  any)  of  the  University  /  Institution  /  Organization  in  which  they  are  desirous  of \n",
    "taking admission. \"\"\"\n",
    "\n",
    "retrieve_icfes.query(query, k=5)"
   ]
  },
  {
   "cell_type": "code",
   "execution_count": 33,
   "id": "249af068",
   "metadata": {},
   "outputs": [
    {
     "data": {
      "text/plain": [
       "[Output(content='application considered admission college university complete steps required scholarship programs considered opportunities certain college university systems submit score one school schools within system also access score please note however applying one school within college university system still important send sat scores individual school sure whether specific school applying part system contact school admissions office score reporting', relevance=0.15633010815883164),\n",
       " Output(content='entirely whether opt service free education organizations may pay licensing fee use service use fees support nonprofit missiondriven work including providing fee waivers students lower income families take sat free college board nonprofit organization part student search service voluntary opt time contacted education organization mean admitted received scholarship must submit required information complete steps requested education organization potential admission enrollment scholarship financial aid', relevance=0.12911132695399513),\n",
       " Output(content='institutions guarantee admissions scholarships financial aid offers direct admission receive may require complete additional steps defined fall sat weekend student guide sat testing rules state public higher education institution confirm admission enrollment well considered financial aid state government agency operating direct admissions program state public higher education institutions institution make decision offers direct admission college board involved selection decisionmaking state direct admissions programs', relevance=0.11290999423765263),\n",
       " Output(content='programs choose send scores certain demographic information information provide taking sat organizations accordance satorgscores organizations may use information send information admissions educational financial aid scholarship opportunities contacted organizations mean admitted eligible scholarship financial aid program must submit application considered admission college university complete steps required scholarship programs considered opportunities', relevance=0.10097854998169149),\n",
       " Output(content='sure understand policies cover sat testing experience section also includes information test day technical support test day items see section sat testing rules page full requirements taking sat following items required taking sat valid photo check see satorg admission ticket show printed ticket present mobile device college board username email address password fully charged acceptable testing device bluebook already downloaded exam setup complete pen pencil scratch work though required consider bringing', relevance=0.09146741171074653)]"
      ]
     },
     "execution_count": 33,
     "metadata": {},
     "output_type": "execute_result"
    }
   ],
   "source": [
    "query = \"\"\"Eligibility \n",
    "For appearing in the CUET (UG) - 2025, there is no age limit for the candidates. The candidates \n",
    "who have passed the class 12 /equivalent examination or are appearing in 2025 can appear in \n",
    "the CUET (UG) - 2025 examination. However, the candidates will be required to fulfill the age \n",
    "criteria  (if  any)  of  the  University  /  Institution  /  Organization  in  which  they  are  desirous  of \n",
    "taking admission. \"\"\"\n",
    "\n",
    "retrieve_sat.query(query, k=5)"
   ]
  }
 ],
 "metadata": {
  "kernelspec": {
   "display_name": "env",
   "language": "python",
   "name": "python3"
  },
  "language_info": {
   "codemirror_mode": {
    "name": "ipython",
    "version": 3
   },
   "file_extension": ".py",
   "mimetype": "text/x-python",
   "name": "python",
   "nbconvert_exporter": "python",
   "pygments_lexer": "ipython3",
   "version": "3.11.13"
  }
 },
 "nbformat": 4,
 "nbformat_minor": 5
}
