{
 "cells": [
  {
   "cell_type": "code",
   "execution_count": 1,
   "id": "e66a2d54",
   "metadata": {},
   "outputs": [],
   "source": [
    "import requests \n",
    "\n",
    "BASE_URL = \"http://localhost:11434\"\n",
    "\n",
    "def get_models_info():\n",
    "    response = requests.get(f\"{BASE_URL}/api/tags\")\n",
    "    if response.status_code == 200:\n",
    "        return response.json()\n",
    "    else:\n",
    "        return {\"error\": \"Failed to fetch models info\"}"
   ]
  },
  {
   "cell_type": "code",
   "execution_count": 2,
   "id": "c58f4d27",
   "metadata": {},
   "outputs": [
    {
     "data": {
      "text/plain": [
       "{'models': [{'name': 'gemma3n:e4b',\n",
       "   'model': 'gemma3n:e4b',\n",
       "   'modified_at': '2025-07-25T13:01:05.6323838-03:00',\n",
       "   'size': 7547589116,\n",
       "   'digest': '15cb39fd9394fd2549f6df9081cfc84dd134ecf2c9c5be911e5629920489ac32',\n",
       "   'details': {'parent_model': '',\n",
       "    'format': 'gguf',\n",
       "    'family': 'gemma3n',\n",
       "    'families': ['gemma3n'],\n",
       "    'parameter_size': '6.9B',\n",
       "    'quantization_level': 'Q4_K_M'}},\n",
       "  {'name': 'deepseek-r1:latest',\n",
       "   'model': 'deepseek-r1:latest',\n",
       "   'modified_at': '2025-06-21T15:19:00.1895447-03:00',\n",
       "   'size': 5225376047,\n",
       "   'digest': '6995872bfe4c521a67b32da386cd21d5c6e819b6e0d62f79f64ec83be99f5763',\n",
       "   'details': {'parent_model': '',\n",
       "    'format': 'gguf',\n",
       "    'family': 'qwen3',\n",
       "    'families': ['qwen3'],\n",
       "    'parameter_size': '8.2B',\n",
       "    'quantization_level': 'Q4_K_M'}}]}"
      ]
     },
     "execution_count": 2,
     "metadata": {},
     "output_type": "execute_result"
    }
   ],
   "source": [
    "get_models_info()"
   ]
  },
  {
   "cell_type": "code",
   "execution_count": 4,
   "id": "da910112",
   "metadata": {},
   "outputs": [
    {
     "name": "stdout",
     "output_type": "stream",
     "text": [
      "{'message': \"Model 'deepseek-r1:latest' deleted successfully\"}\n"
     ]
    }
   ],
   "source": [
    "def delete_model(model_name):\n",
    "    url = f\"{BASE_URL}/api/delete\"\n",
    "    payload = {\"model\": model_name}\n",
    "    response = requests.delete(url, json=payload)\n",
    "    \n",
    "    if response.status_code == 200:\n",
    "        return {\"message\": f\"Model '{model_name}' deleted successfully\"}\n",
    "    else:\n",
    "        return {\n",
    "            \"error\": f\"Failed to delete model '{model_name}'\",\n",
    "            \"status_code\": response.status_code,\n",
    "            \"response\": response.text\n",
    "        }\n",
    "\n",
    "# Exemplo de uso:\n",
    "print(delete_model(\"deepseek-r1:latest\"))"
   ]
  },
  {
   "cell_type": "code",
   "execution_count": 5,
   "id": "60d7e777",
   "metadata": {},
   "outputs": [
    {
     "data": {
      "text/plain": [
       "{'models': [{'name': 'gemma3n:e4b',\n",
       "   'model': 'gemma3n:e4b',\n",
       "   'modified_at': '2025-07-25T13:01:05.6323838-03:00',\n",
       "   'size': 7547589116,\n",
       "   'digest': '15cb39fd9394fd2549f6df9081cfc84dd134ecf2c9c5be911e5629920489ac32',\n",
       "   'details': {'parent_model': '',\n",
       "    'format': 'gguf',\n",
       "    'family': 'gemma3n',\n",
       "    'families': ['gemma3n'],\n",
       "    'parameter_size': '6.9B',\n",
       "    'quantization_level': 'Q4_K_M'}}]}"
      ]
     },
     "execution_count": 5,
     "metadata": {},
     "output_type": "execute_result"
    }
   ],
   "source": [
    "get_models_info()  # Call to fetch models info again after deletion"
   ]
  },
  {
   "cell_type": "code",
   "execution_count": 6,
   "id": "427ddf6f",
   "metadata": {},
   "outputs": [],
   "source": [
    "def pull_model(model_name):\n",
    "    url = f\"{BASE_URL}/api/pull\"\n",
    "    payload = {\"model\": model_name}\n",
    "    response = requests.post(url, json=payload)\n",
    "    \n",
    "    if response.status_code == 200:\n",
    "        return {\"message\": f\"Model '{model_name}' pulled successfully\"}\n",
    "    else:\n",
    "        return {\n",
    "            \"error\": f\"Failed to pull model '{model_name}'\",\n",
    "            \"status_code\": response.status_code,\n",
    "            \"response\": response.text\n",
    "        }"
   ]
  },
  {
   "cell_type": "code",
   "execution_count": 7,
   "id": "ba234685",
   "metadata": {},
   "outputs": [
    {
     "data": {
      "text/plain": [
       "{'message': \"Model 'gemma3n:e2b' pulled successfully\"}"
      ]
     },
     "execution_count": 7,
     "metadata": {},
     "output_type": "execute_result"
    }
   ],
   "source": [
    "pull_model(\"gemma3n:e2b\")  # Example usage to pull a model"
   ]
  },
  {
   "cell_type": "code",
   "execution_count": 8,
   "id": "6a23f8da",
   "metadata": {},
   "outputs": [
    {
     "data": {
      "text/plain": [
       "{'models': [{'name': 'gemma3n:e2b',\n",
       "   'model': 'gemma3n:e2b',\n",
       "   'modified_at': '2025-07-26T12:12:16.3690578-03:00',\n",
       "   'size': 5621616562,\n",
       "   'digest': '719372f8c7deee188821a4dcbaf75efa13a342d7e88a79d4fc2412b24947f6fd',\n",
       "   'details': {'parent_model': '',\n",
       "    'format': 'gguf',\n",
       "    'family': 'gemma3n',\n",
       "    'families': ['gemma3n'],\n",
       "    'parameter_size': '4.5B',\n",
       "    'quantization_level': 'Q4_K_M'}},\n",
       "  {'name': 'gemma3n:e4b',\n",
       "   'model': 'gemma3n:e4b',\n",
       "   'modified_at': '2025-07-25T13:01:05.6323838-03:00',\n",
       "   'size': 7547589116,\n",
       "   'digest': '15cb39fd9394fd2549f6df9081cfc84dd134ecf2c9c5be911e5629920489ac32',\n",
       "   'details': {'parent_model': '',\n",
       "    'format': 'gguf',\n",
       "    'family': 'gemma3n',\n",
       "    'families': ['gemma3n'],\n",
       "    'parameter_size': '6.9B',\n",
       "    'quantization_level': 'Q4_K_M'}}]}"
      ]
     },
     "execution_count": 8,
     "metadata": {},
     "output_type": "execute_result"
    }
   ],
   "source": [
    "get_models_info()  # Call to fetch models info again after deletion"
   ]
  },
  {
   "cell_type": "code",
   "execution_count": 9,
   "id": "bb2a14a0",
   "metadata": {},
   "outputs": [
    {
     "data": {
      "text/plain": [
       "{'message': \"Model 'gemma3n:e2b' deleted successfully\"}"
      ]
     },
     "execution_count": 9,
     "metadata": {},
     "output_type": "execute_result"
    }
   ],
   "source": [
    "delete_model(\"gemma3n:e2b\")  # Example usage to delete a model"
   ]
  },
  {
   "cell_type": "code",
   "execution_count": 10,
   "id": "ded3c832",
   "metadata": {},
   "outputs": [
    {
     "data": {
      "text/plain": [
       "{'models': [{'name': 'gemma3n:e4b',\n",
       "   'model': 'gemma3n:e4b',\n",
       "   'modified_at': '2025-07-25T13:01:05.6323838-03:00',\n",
       "   'size': 7547589116,\n",
       "   'digest': '15cb39fd9394fd2549f6df9081cfc84dd134ecf2c9c5be911e5629920489ac32',\n",
       "   'details': {'parent_model': '',\n",
       "    'format': 'gguf',\n",
       "    'family': 'gemma3n',\n",
       "    'families': ['gemma3n'],\n",
       "    'parameter_size': '6.9B',\n",
       "    'quantization_level': 'Q4_K_M'}}]}"
      ]
     },
     "execution_count": 10,
     "metadata": {},
     "output_type": "execute_result"
    }
   ],
   "source": [
    "get_models_info()  # Call to fetch models info again after deletion"
   ]
  },
  {
   "cell_type": "code",
   "execution_count": null,
   "id": "dd6ac0df",
   "metadata": {},
   "outputs": [
    {
     "name": "stdout",
     "output_type": "stream",
     "text": [
      "{\"status\":\"pulling manifest\"}\n",
      "{\"status\":\"pulling 3839a254cf2d\",\"digest\":\"sha256:3839a254cf2d00b208c6e2524c129e4438f9d106bba4c3fbc12b631f519d1de1\",\"total\":5621607424}\n",
      "{\"status\":\"pulling 3839a254cf2d\",\"digest\":\"sha256:3839a254cf2d00b208c6e2524c129e4438f9d106bba4c3fbc12b631f519d1de1\",\"total\":5621607424}\n",
      "{\"status\":\"pulling 3839a254cf2d\",\"digest\":\"sha256:3839a254cf2d00b208c6e2524c129e4438f9d106bba4c3fbc12b631f519d1de1\",\"total\":5621607424}\n",
      "{\"status\":\"pulling 3839a254cf2d\",\"digest\":\"sha256:3839a254cf2d00b208c6e2524c129e4438f9d106bba4c3fbc12b631f519d1de1\",\"total\":5621607424}\n",
      "{\"status\":\"pulling 3839a254cf2d\",\"digest\":\"sha256:3839a254cf2d00b208c6e2524c129e4438f9d106bba4c3fbc12b631f519d1de1\",\"total\":5621607424}\n",
      "{\"status\":\"pulling 3839a254cf2d\",\"digest\":\"sha256:3839a254cf2d00b208c6e2524c129e4438f9d106bba4c3fbc12b631f519d1de1\",\"total\":5621607424}\n",
      "{\"status\":\"pulling 3839a254cf2d\",\"digest\":\"sha256:3839a254cf2d00b208c6e2524c129e4438f9d106bba4c3fbc12b631f519d1de1\",\"total\":5621607424}\n",
      "{\"status\":\"pulling 3839a254cf2d\",\"digest\":\"sha256:3839a254cf2d00b208c6e2524c129e4438f9d106bba4c3fbc12b631f519d1de1\",\"total\":5621607424}\n",
      "{\"status\":\"pulling 3839a254cf2d\",\"digest\":\"sha256:3839a254cf2d00b208c6e2524c129e4438f9d106bba4c3fbc12b631f519d1de1\",\"total\":5621607424}\n",
      "{\"status\":\"pulling 3839a254cf2d\",\"digest\":\"sha256:3839a254cf2d00b208c6e2524c129e4438f9d106bba4c3fbc12b631f519d1de1\",\"total\":5621607424,\"completed\":102039}\n",
      "{\"status\":\"pulling 3839a254cf2d\",\"digest\":\"sha256:3839a254cf2d00b208c6e2524c129e4438f9d106bba4c3fbc12b631f519d1de1\",\"total\":5621607424,\"completed\":406427}\n",
      "{\"status\":\"pulling 3839a254cf2d\",\"digest\":\"sha256:3839a254cf2d00b208c6e2524c129e4438f9d106bba4c3fbc12b631f519d1de1\",\"total\":5621607424,\"completed\":406427}\n",
      "{\"status\":\"pulling 3839a254cf2d\",\"digest\":\"sha256:3839a254cf2d00b208c6e2524c129e4438f9d106bba4c3fbc12b631f519d1de1\",\"total\":5621607424,\"completed\":691681}\n",
      "{\"status\":\"pulling 3839a254cf2d\",\"digest\":\"sha256:3839a254cf2d00b208c6e2524c129e4438f9d106bba4c3fbc12b631f519d1de1\",\"total\":5621607424,\"completed\":1198430}\n",
      "{\"status\":\"pulling 3839a254cf2d\",\"digest\":\"sha256:3839a254cf2d00b208c6e2524c129e4438f9d106bba4c3fbc12b631f519d1de1\",\"total\":5621607424,\"completed\":1198430}\n",
      "{\"status\":\"pulling 3839a254cf2d\",\"digest\":\"sha256:3839a254cf2d00b208c6e2524c129e4438f9d106bba4c3fbc12b631f519d1de1\",\"total\":5621607424,\"completed\":1244373}\n",
      "{\"status\":\"pulling 3839a254cf2d\",\"digest\":\"sha256:3839a254cf2d00b208c6e2524c129e4438f9d106bba4c3fbc12b631f519d1de1\",\"total\":5621607424,\"completed\":2309120}\n",
      "{\"status\":\"pulling 3839a254cf2d\",\"digest\":\"sha256:3839a254cf2d00b208c6e2524c129e4438f9d106bba4c3fbc12b631f519d1de1\",\"total\":5621607424,\"completed\":2517484}\n",
      "{\"status\":\"pulling 3839a254cf2d\",\"digest\":\"sha256:3839a254cf2d00b208c6e2524c129e4438f9d106bba4c3fbc12b631f519d1de1\",\"total\":5621607424,\"completed\":2517484}\n",
      "{\"status\":\"pulling 3839a254cf2d\",\"digest\":\"sha256:3839a254cf2d00b208c6e2524c129e4438f9d106bba4c3fbc12b631f519d1de1\",\"total\":5621607424,\"completed\":3414347}\n",
      "{\"status\":\"pulling 3839a254cf2d\",\"digest\":\"sha256:3839a254cf2d00b208c6e2524c129e4438f9d106bba4c3fbc12b631f519d1de1\",\"total\":5621607424,\"completed\":3693050}\n",
      "{\"status\":\"pulling 3839a254cf2d\",\"digest\":\"sha256:3839a254cf2d00b208c6e2524c129e4438f9d106bba4c3fbc12b631f519d1de1\",\"total\":5621607424,\"completed\":3693050}\n",
      "{\"status\":\"pulling 3839a254cf2d\",\"digest\":\"sha256:3839a254cf2d00b208c6e2524c129e4438f9d106bba4c3fbc12b631f519d1de1\",\"total\":5621607424,\"completed\":3693050}\n",
      "{\"status\":\"pulling 3839a254cf2d\",\"digest\":\"sha256:3839a254cf2d00b208c6e2524c129e4438f9d106bba4c3fbc12b631f519d1de1\",\"total\":5621607424,\"completed\":3722592}\n",
      "{\"status\":\"pulling 3839a254cf2d\",\"digest\":\"sha256:3839a254cf2d00b208c6e2524c129e4438f9d106bba4c3fbc12b631f519d1de1\",\"total\":5621607424,\"completed\":3722592}\n",
      "{\"status\":\"pulling 3839a254cf2d\",\"digest\":\"sha256:3839a254cf2d00b208c6e2524c129e4438f9d106bba4c3fbc12b631f519d1de1\",\"total\":5621607424,\"completed\":4001120}\n",
      "{\"status\":\"pulling 3839a254cf2d\",\"digest\":\"sha256:3839a254cf2d00b208c6e2524c129e4438f9d106bba4c3fbc12b631f519d1de1\",\"total\":5621607424,\"completed\":4595772}\n",
      "{\"status\":\"pulling 3839a254cf2d\",\"digest\":\"sha256:3839a254cf2d00b208c6e2524c129e4438f9d106bba4c3fbc12b631f519d1de1\",\"total\":5621607424,\"completed\":4751750}\n",
      "{\"status\":\"pulling 3839a254cf2d\",\"digest\":\"sha256:3839a254cf2d00b208c6e2524c129e4438f9d106bba4c3fbc12b631f519d1de1\",\"total\":5621607424,\"completed\":4751750}\n",
      "{\"status\":\"pulling 3839a254cf2d\",\"digest\":\"sha256:3839a254cf2d00b208c6e2524c129e4438f9d106bba4c3fbc12b631f519d1de1\",\"total\":5621607424,\"completed\":5038736}\n",
      "{\"status\":\"pulling 3839a254cf2d\",\"digest\":\"sha256:3839a254cf2d00b208c6e2524c129e4438f9d106bba4c3fbc12b631f519d1de1\",\"total\":5621607424,\"completed\":5841020}\n",
      "{\"status\":\"pulling 3839a254cf2d\",\"digest\":\"sha256:3839a254cf2d00b208c6e2524c129e4438f9d106bba4c3fbc12b631f519d1de1\",\"total\":5621607424,\"completed\":5845249}\n",
      "{\"status\":\"pulling 3839a254cf2d\",\"digest\":\"sha256:3839a254cf2d00b208c6e2524c129e4438f9d106bba4c3fbc12b631f519d1de1\",\"total\":5621607424,\"completed\":5865862}\n",
      "{\"status\":\"pulling 3839a254cf2d\",\"digest\":\"sha256:3839a254cf2d00b208c6e2524c129e4438f9d106bba4c3fbc12b631f519d1de1\",\"total\":5621607424,\"completed\":6288321}\n",
      "{\"status\":\"pulling 3839a254cf2d\",\"digest\":\"sha256:3839a254cf2d00b208c6e2524c129e4438f9d106bba4c3fbc12b631f519d1de1\",\"total\":5621607424,\"completed\":6612304}\n",
      "{\"status\":\"pulling 3839a254cf2d\",\"digest\":\"sha256:3839a254cf2d00b208c6e2524c129e4438f9d106bba4c3fbc12b631f519d1de1\",\"total\":5621607424,\"completed\":6615042}\n",
      "{\"status\":\"pulling 3839a254cf2d\",\"digest\":\"sha256:3839a254cf2d00b208c6e2524c129e4438f9d106bba4c3fbc12b631f519d1de1\",\"total\":5621607424,\"completed\":6791569}\n",
      "{\"status\":\"pulling 3839a254cf2d\",\"digest\":\"sha256:3839a254cf2d00b208c6e2524c129e4438f9d106bba4c3fbc12b631f519d1de1\",\"total\":5621607424,\"completed\":7203802}\n",
      "{\"status\":\"pulling 3839a254cf2d\",\"digest\":\"sha256:3839a254cf2d00b208c6e2524c129e4438f9d106bba4c3fbc12b631f519d1de1\",\"total\":5621607424,\"completed\":7203802}\n",
      "{\"status\":\"pulling 3839a254cf2d\",\"digest\":\"sha256:3839a254cf2d00b208c6e2524c129e4438f9d106bba4c3fbc12b631f519d1de1\",\"total\":5621607424,\"completed\":7252954}\n",
      "{\"status\":\"pulling 3839a254cf2d\",\"digest\":\"sha256:3839a254cf2d00b208c6e2524c129e4438f9d106bba4c3fbc12b631f519d1de1\",\"total\":5621607424,\"completed\":7760858}\n",
      "{\"status\":\"pulling 3839a254cf2d\",\"digest\":\"sha256:3839a254cf2d00b208c6e2524c129e4438f9d106bba4c3fbc12b631f519d1de1\",\"total\":5621607424,\"completed\":7842778}\n",
      "{\"status\":\"pulling 3839a254cf2d\",\"digest\":\"sha256:3839a254cf2d00b208c6e2524c129e4438f9d106bba4c3fbc12b631f519d1de1\",\"total\":5621607424,\"completed\":7842778}\n",
      "{\"status\":\"pulling 3839a254cf2d\",\"digest\":\"sha256:3839a254cf2d00b208c6e2524c129e4438f9d106bba4c3fbc12b631f519d1de1\",\"total\":5621607424,\"completed\":8039386}\n",
      "{\"status\":\"pulling 3839a254cf2d\",\"digest\":\"sha256:3839a254cf2d00b208c6e2524c129e4438f9d106bba4c3fbc12b631f519d1de1\",\"total\":5621607424,\"completed\":8272858}\n",
      "{\"status\":\"pulling 3839a254cf2d\",\"digest\":\"sha256:3839a254cf2d00b208c6e2524c129e4438f9d106bba4c3fbc12b631f519d1de1\",\"total\":5621607424,\"completed\":8272858}\n",
      "{\"status\":\"pulling 3839a254cf2d\",\"digest\":\"sha256:3839a254cf2d00b208c6e2524c129e4438f9d106bba4c3fbc12b631f519d1de1\",\"total\":5621607424,\"completed\":8338394}\n",
      "{\"status\":\"pulling 3839a254cf2d\",\"digest\":\"sha256:3839a254cf2d00b208c6e2524c129e4438f9d106bba4c3fbc12b631f519d1de1\",\"total\":5621607424,\"completed\":8731610}\n",
      "{\"status\":\"pulling 3839a254cf2d\",\"digest\":\"sha256:3839a254cf2d00b208c6e2524c129e4438f9d106bba4c3fbc12b631f519d1de1\",\"total\":5621607424,\"completed\":8731610}\n",
      "{\"status\":\"pulling 3839a254cf2d\",\"digest\":\"sha256:3839a254cf2d00b208c6e2524c129e4438f9d106bba4c3fbc12b631f519d1de1\",\"total\":5621607424,\"completed\":8747994}\n",
      "{\"status\":\"pulling 3839a254cf2d\",\"digest\":\"sha256:3839a254cf2d00b208c6e2524c129e4438f9d106bba4c3fbc12b631f519d1de1\",\"total\":5621607424,\"completed\":8928218}\n",
      "{\"status\":\"pulling 3839a254cf2d\",\"digest\":\"sha256:3839a254cf2d00b208c6e2524c129e4438f9d106bba4c3fbc12b631f519d1de1\",\"total\":5621607424,\"completed\":9124870}\n",
      "{\"status\":\"pulling 3839a254cf2d\",\"digest\":\"sha256:3839a254cf2d00b208c6e2524c129e4438f9d106bba4c3fbc12b631f519d1de1\",\"total\":5621607424,\"completed\":9124870}\n",
      "{\"status\":\"pulling 3839a254cf2d\",\"digest\":\"sha256:3839a254cf2d00b208c6e2524c129e4438f9d106bba4c3fbc12b631f519d1de1\",\"total\":5621607424,\"completed\":9183469}\n",
      "{\"status\":\"pulling 3839a254cf2d\",\"digest\":\"sha256:3839a254cf2d00b208c6e2524c129e4438f9d106bba4c3fbc12b631f519d1de1\",\"total\":5621607424,\"completed\":9456477}\n",
      "{\"status\":\"pulling 3839a254cf2d\",\"digest\":\"sha256:3839a254cf2d00b208c6e2524c129e4438f9d106bba4c3fbc12b631f519d1de1\",\"total\":5621607424,\"completed\":10237692}\n",
      "{\"status\":\"pulling 3839a254cf2d\",\"digest\":\"sha256:3839a254cf2d00b208c6e2524c129e4438f9d106bba4c3fbc12b631f519d1de1\",\"total\":5621607424,\"completed\":11368321}\n",
      "{\"status\":\"pulling 3839a254cf2d\",\"digest\":\"sha256:3839a254cf2d00b208c6e2524c129e4438f9d106bba4c3fbc12b631f519d1de1\",\"total\":5621607424,\"completed\":12314364}\n",
      "{\"status\":\"pulling 3839a254cf2d\",\"digest\":\"sha256:3839a254cf2d00b208c6e2524c129e4438f9d106bba4c3fbc12b631f519d1de1\",\"total\":5621607424,\"completed\":13215085}\n",
      "{\"status\":\"pulling 3839a254cf2d\",\"digest\":\"sha256:3839a254cf2d00b208c6e2524c129e4438f9d106bba4c3fbc12b631f519d1de1\",\"total\":5621607424,\"completed\":14251373}\n",
      "{\"status\":\"pulling 3839a254cf2d\",\"digest\":\"sha256:3839a254cf2d00b208c6e2524c129e4438f9d106bba4c3fbc12b631f519d1de1\",\"total\":5621607424,\"completed\":15205741}\n",
      "{\"status\":\"pulling 3839a254cf2d\",\"digest\":\"sha256:3839a254cf2d00b208c6e2524c129e4438f9d106bba4c3fbc12b631f519d1de1\",\"total\":5621607424,\"completed\":16254317}\n",
      "{\"status\":\"pulling 3839a254cf2d\",\"digest\":\"sha256:3839a254cf2d00b208c6e2524c129e4438f9d106bba4c3fbc12b631f519d1de1\",\"total\":5621607424,\"completed\":17292845}\n",
      "{\"status\":\"pulling 3839a254cf2d\",\"digest\":\"sha256:3839a254cf2d00b208c6e2524c129e4438f9d106bba4c3fbc12b631f519d1de1\",\"total\":5621607424,\"completed\":18066989}\n",
      "{\"status\":\"pulling 3839a254cf2d\",\"digest\":\"sha256:3839a254cf2d00b208c6e2524c129e4438f9d106bba4c3fbc12b631f519d1de1\",\"total\":5621607424,\"completed\":19181633}\n",
      "{\"status\":\"pulling 3839a254cf2d\",\"digest\":\"sha256:3839a254cf2d00b208c6e2524c129e4438f9d106bba4c3fbc12b631f519d1de1\",\"total\":5621607424,\"completed\":20140363}\n",
      "{\"status\":\"pulling 3839a254cf2d\",\"digest\":\"sha256:3839a254cf2d00b208c6e2524c129e4438f9d106bba4c3fbc12b631f519d1de1\",\"total\":5621607424,\"completed\":20819634}\n",
      "{\"status\":\"pulling 3839a254cf2d\",\"digest\":\"sha256:3839a254cf2d00b208c6e2524c129e4438f9d106bba4c3fbc12b631f519d1de1\",\"total\":5621607424,\"completed\":21782726}\n",
      "{\"status\":\"pulling 3839a254cf2d\",\"digest\":\"sha256:3839a254cf2d00b208c6e2524c129e4438f9d106bba4c3fbc12b631f519d1de1\",\"total\":5621607424,\"completed\":22732466}\n",
      "{\"status\":\"pulling 3839a254cf2d\",\"digest\":\"sha256:3839a254cf2d00b208c6e2524c129e4438f9d106bba4c3fbc12b631f519d1de1\",\"total\":5621607424,\"completed\":23703430}\n",
      "{\"status\":\"pulling 3839a254cf2d\",\"digest\":\"sha256:3839a254cf2d00b208c6e2524c129e4438f9d106bba4c3fbc12b631f519d1de1\",\"total\":5621607424,\"completed\":24669741}\n",
      "{\"status\":\"pulling 3839a254cf2d\",\"digest\":\"sha256:3839a254cf2d00b208c6e2524c129e4438f9d106bba4c3fbc12b631f519d1de1\",\"total\":5621607424,\"completed\":25734381}\n",
      "{\"status\":\"pulling 3839a254cf2d\",\"digest\":\"sha256:3839a254cf2d00b208c6e2524c129e4438f9d106bba4c3fbc12b631f519d1de1\",\"total\":5621607424,\"completed\":26741997}\n",
      "{\"status\":\"pulling 3839a254cf2d\",\"digest\":\"sha256:3839a254cf2d00b208c6e2524c129e4438f9d106bba4c3fbc12b631f519d1de1\",\"total\":5621607424,\"completed\":27720952}\n",
      "{\"status\":\"pulling 3839a254cf2d\",\"digest\":\"sha256:3839a254cf2d00b208c6e2524c129e4438f9d106bba4c3fbc12b631f519d1de1\",\"total\":5621607424,\"completed\":27933944}\n",
      "{\"status\":\"pulling 3839a254cf2d\",\"digest\":\"sha256:3839a254cf2d00b208c6e2524c129e4438f9d106bba4c3fbc12b631f519d1de1\",\"total\":5621607424,\"completed\":29408504}\n",
      "{\"status\":\"pulling 3839a254cf2d\",\"digest\":\"sha256:3839a254cf2d00b208c6e2524c129e4438f9d106bba4c3fbc12b631f519d1de1\",\"total\":5621607424,\"completed\":29670648}\n",
      "{\"status\":\"pulling 3839a254cf2d\",\"digest\":\"sha256:3839a254cf2d00b208c6e2524c129e4438f9d106bba4c3fbc12b631f519d1de1\",\"total\":5621607424,\"completed\":31268350}\n",
      "{\"status\":\"pulling 3839a254cf2d\",\"digest\":\"sha256:3839a254cf2d00b208c6e2524c129e4438f9d106bba4c3fbc12b631f519d1de1\",\"total\":5621607424,\"completed\":32263678}\n",
      "{\"status\":\"pulling 3839a254cf2d\",\"digest\":\"sha256:3839a254cf2d00b208c6e2524c129e4438f9d106bba4c3fbc12b631f519d1de1\",\"total\":5621607424,\"completed\":33185364}\n",
      "{\"status\":\"pulling 3839a254cf2d\",\"digest\":\"sha256:3839a254cf2d00b208c6e2524c129e4438f9d106bba4c3fbc12b631f519d1de1\",\"total\":5621607424,\"completed\":34311764}\n",
      "{\"status\":\"pulling 3839a254cf2d\",\"digest\":\"sha256:3839a254cf2d00b208c6e2524c129e4438f9d106bba4c3fbc12b631f519d1de1\",\"total\":5621607424,\"completed\":35404598}\n",
      "{\"status\":\"pulling 3839a254cf2d\",\"digest\":\"sha256:3839a254cf2d00b208c6e2524c129e4438f9d106bba4c3fbc12b631f519d1de1\",\"total\":5621607424,\"completed\":36506422}\n",
      "{\"status\":\"pulling 3839a254cf2d\",\"digest\":\"sha256:3839a254cf2d00b208c6e2524c129e4438f9d106bba4c3fbc12b631f519d1de1\",\"total\":5621607424,\"completed\":37481669}\n",
      "{\"status\":\"pulling 3839a254cf2d\",\"digest\":\"sha256:3839a254cf2d00b208c6e2524c129e4438f9d106bba4c3fbc12b631f519d1de1\",\"total\":5621607424,\"completed\":38325445}\n",
      "{\"status\":\"pulling 3839a254cf2d\",\"digest\":\"sha256:3839a254cf2d00b208c6e2524c129e4438f9d106bba4c3fbc12b631f519d1de1\",\"total\":5621607424,\"completed\":39255104}\n",
      "{\"status\":\"pulling 3839a254cf2d\",\"digest\":\"sha256:3839a254cf2d00b208c6e2524c129e4438f9d106bba4c3fbc12b631f519d1de1\",\"total\":5621607424,\"completed\":40318573}\n",
      "{\"status\":\"pulling 3839a254cf2d\",\"digest\":\"sha256:3839a254cf2d00b208c6e2524c129e4438f9d106bba4c3fbc12b631f519d1de1\",\"total\":5621607424,\"completed\":41399917}\n",
      "{\"status\":\"pulling 3839a254cf2d\",\"digest\":\"sha256:3839a254cf2d00b208c6e2524c129e4438f9d106bba4c3fbc12b631f519d1de1\",\"total\":5621607424,\"completed\":42397861}\n",
      "{\"status\":\"pulling 3839a254cf2d\",\"digest\":\"sha256:3839a254cf2d00b208c6e2524c129e4438f9d106bba4c3fbc12b631f519d1de1\",\"total\":5621607424,\"completed\":43421861}\n",
      "{\"status\":\"pulling 3839a254cf2d\",\"digest\":\"sha256:3839a254cf2d00b208c6e2524c129e4438f9d106bba4c3fbc12b631f519d1de1\",\"total\":5621607424,\"completed\":44443882}\n",
      "{\"status\":\"pulling 3839a254cf2d\",\"digest\":\"sha256:3839a254cf2d00b208c6e2524c129e4438f9d106bba4c3fbc12b631f519d1de1\",\"total\":5621607424,\"completed\":45480303}\n",
      "{\"status\":\"pulling 3839a254cf2d\",\"digest\":\"sha256:3839a254cf2d00b208c6e2524c129e4438f9d106bba4c3fbc12b631f519d1de1\",\"total\":5621607424,\"completed\":46526011}\n",
      "{\"status\":\"pulling 3839a254cf2d\",\"digest\":\"sha256:3839a254cf2d00b208c6e2524c129e4438f9d106bba4c3fbc12b631f519d1de1\",\"total\":5621607424,\"completed\":47643687}\n",
      "{\"status\":\"pulling 3839a254cf2d\",\"digest\":\"sha256:3839a254cf2d00b208c6e2524c129e4438f9d106bba4c3fbc12b631f519d1de1\",\"total\":5621607424,\"completed\":48581139}\n",
      "{\"status\":\"pulling 3839a254cf2d\",\"digest\":\"sha256:3839a254cf2d00b208c6e2524c129e4438f9d106bba4c3fbc12b631f519d1de1\",\"total\":5621607424,\"completed\":49609235}\n",
      "{\"status\":\"pulling 3839a254cf2d\",\"digest\":\"sha256:3839a254cf2d00b208c6e2524c129e4438f9d106bba4c3fbc12b631f519d1de1\",\"total\":5621607424,\"completed\":50564002}\n",
      "{\"status\":\"pulling 3839a254cf2d\",\"digest\":\"sha256:3839a254cf2d00b208c6e2524c129e4438f9d106bba4c3fbc12b631f519d1de1\",\"total\":5621607424,\"completed\":51547175}\n",
      "{\"status\":\"pulling 3839a254cf2d\",\"digest\":\"sha256:3839a254cf2d00b208c6e2524c129e4438f9d106bba4c3fbc12b631f519d1de1\",\"total\":5621607424,\"completed\":52804115}\n",
      "{\"status\":\"pulling 3839a254cf2d\",\"digest\":\"sha256:3839a254cf2d00b208c6e2524c129e4438f9d106bba4c3fbc12b631f519d1de1\",\"total\":5621607424,\"completed\":53611027}\n",
      "{\"status\":\"pulling 3839a254cf2d\",\"digest\":\"sha256:3839a254cf2d00b208c6e2524c129e4438f9d106bba4c3fbc12b631f519d1de1\",\"total\":5621607424,\"completed\":54639123}\n",
      "{\"status\":\"pulling 3839a254cf2d\",\"digest\":\"sha256:3839a254cf2d00b208c6e2524c129e4438f9d106bba4c3fbc12b631f519d1de1\",\"total\":5621607424,\"completed\":55627072}\n",
      "{\"status\":\"pulling 3839a254cf2d\",\"digest\":\"sha256:3839a254cf2d00b208c6e2524c129e4438f9d106bba4c3fbc12b631f519d1de1\",\"total\":5621607424,\"completed\":56843584}\n",
      "{\"status\":\"pulling 3839a254cf2d\",\"digest\":\"sha256:3839a254cf2d00b208c6e2524c129e4438f9d106bba4c3fbc12b631f519d1de1\",\"total\":5621607424,\"completed\":57974080}\n",
      "{\"status\":\"pulling 3839a254cf2d\",\"digest\":\"sha256:3839a254cf2d00b208c6e2524c129e4438f9d106bba4c3fbc12b631f519d1de1\",\"total\":5621607424,\"completed\":58907968}\n",
      "{\"status\":\"pulling 3839a254cf2d\",\"digest\":\"sha256:3839a254cf2d00b208c6e2524c129e4438f9d106bba4c3fbc12b631f519d1de1\",\"total\":5621607424,\"completed\":59911488}\n",
      "{\"status\":\"pulling 3839a254cf2d\",\"digest\":\"sha256:3839a254cf2d00b208c6e2524c129e4438f9d106bba4c3fbc12b631f519d1de1\",\"total\":5621607424,\"completed\":61058368}\n",
      "{\"status\":\"pulling 3839a254cf2d\",\"digest\":\"sha256:3839a254cf2d00b208c6e2524c129e4438f9d106bba4c3fbc12b631f519d1de1\",\"total\":5621607424,\"completed\":62143808}\n",
      "{\"status\":\"pulling 3839a254cf2d\",\"digest\":\"sha256:3839a254cf2d00b208c6e2524c129e4438f9d106bba4c3fbc12b631f519d1de1\",\"total\":5621607424,\"completed\":63135040}\n",
      "{\"status\":\"pulling 3839a254cf2d\",\"digest\":\"sha256:3839a254cf2d00b208c6e2524c129e4438f9d106bba4c3fbc12b631f519d1de1\",\"total\":5621607424,\"completed\":64253248}\n",
      "{\"status\":\"pulling 3839a254cf2d\",\"digest\":\"sha256:3839a254cf2d00b208c6e2524c129e4438f9d106bba4c3fbc12b631f519d1de1\",\"total\":5621607424,\"completed\":65396032}\n",
      "{\"status\":\"pulling 3839a254cf2d\",\"digest\":\"sha256:3839a254cf2d00b208c6e2524c129e4438f9d106bba4c3fbc12b631f519d1de1\",\"total\":5621607424,\"completed\":66370880}\n",
      "{\"status\":\"pulling 3839a254cf2d\",\"digest\":\"sha256:3839a254cf2d00b208c6e2524c129e4438f9d106bba4c3fbc12b631f519d1de1\",\"total\":5621607424,\"completed\":67366208}\n",
      "{\"status\":\"pulling 3839a254cf2d\",\"digest\":\"sha256:3839a254cf2d00b208c6e2524c129e4438f9d106bba4c3fbc12b631f519d1de1\",\"total\":5621607424,\"completed\":67366208}\n",
      "{\"status\":\"pulling 3839a254cf2d\",\"digest\":\"sha256:3839a254cf2d00b208c6e2524c129e4438f9d106bba4c3fbc12b631f519d1de1\",\"total\":5621607424,\"completed\":68373824}\n",
      "{\"status\":\"pulling 3839a254cf2d\",\"digest\":\"sha256:3839a254cf2d00b208c6e2524c129e4438f9d106bba4c3fbc12b631f519d1de1\",\"total\":5621607424,\"completed\":69979456}\n",
      "{\"status\":\"pulling 3839a254cf2d\",\"digest\":\"sha256:3839a254cf2d00b208c6e2524c129e4438f9d106bba4c3fbc12b631f519d1de1\",\"total\":5621607424,\"completed\":71470400}\n",
      "{\"status\":\"pulling 3839a254cf2d\",\"digest\":\"sha256:3839a254cf2d00b208c6e2524c129e4438f9d106bba4c3fbc12b631f519d1de1\",\"total\":5621607424,\"completed\":71634240}\n",
      "{\"status\":\"pulling 3839a254cf2d\",\"digest\":\"sha256:3839a254cf2d00b208c6e2524c129e4438f9d106bba4c3fbc12b631f519d1de1\",\"total\":5621607424,\"completed\":72346944}\n",
      "{\"status\":\"pulling 3839a254cf2d\",\"digest\":\"sha256:3839a254cf2d00b208c6e2524c129e4438f9d106bba4c3fbc12b631f519d1de1\",\"total\":5621607424,\"completed\":74612032}\n",
      "{\"status\":\"pulling 3839a254cf2d\",\"digest\":\"sha256:3839a254cf2d00b208c6e2524c129e4438f9d106bba4c3fbc12b631f519d1de1\",\"total\":5621607424,\"completed\":74956096}\n",
      "{\"status\":\"pulling 3839a254cf2d\",\"digest\":\"sha256:3839a254cf2d00b208c6e2524c129e4438f9d106bba4c3fbc12b631f519d1de1\",\"total\":5621607424,\"completed\":75369792}\n",
      "{\"status\":\"pulling 3839a254cf2d\",\"digest\":\"sha256:3839a254cf2d00b208c6e2524c129e4438f9d106bba4c3fbc12b631f519d1de1\",\"total\":5621607424,\"completed\":75676992}\n",
      "{\"status\":\"pulling 3839a254cf2d\",\"digest\":\"sha256:3839a254cf2d00b208c6e2524c129e4438f9d106bba4c3fbc12b631f519d1de1\",\"total\":5621607424,\"completed\":76152128}\n",
      "{\"status\":\"pulling 3839a254cf2d\",\"digest\":\"sha256:3839a254cf2d00b208c6e2524c129e4438f9d106bba4c3fbc12b631f519d1de1\",\"total\":5621607424,\"completed\":77708608}\n",
      "{\"status\":\"pulling 3839a254cf2d\",\"digest\":\"sha256:3839a254cf2d00b208c6e2524c129e4438f9d106bba4c3fbc12b631f519d1de1\",\"total\":5621607424,\"completed\":80120832}\n",
      "{\"status\":\"pulling 3839a254cf2d\",\"digest\":\"sha256:3839a254cf2d00b208c6e2524c129e4438f9d106bba4c3fbc12b631f519d1de1\",\"total\":5621607424,\"completed\":81374208}\n",
      "{\"status\":\"pulling 3839a254cf2d\",\"digest\":\"sha256:3839a254cf2d00b208c6e2524c129e4438f9d106bba4c3fbc12b631f519d1de1\",\"total\":5621607424,\"completed\":82324480}\n",
      "{\"status\":\"pulling 3839a254cf2d\",\"digest\":\"sha256:3839a254cf2d00b208c6e2524c129e4438f9d106bba4c3fbc12b631f519d1de1\",\"total\":5621607424,\"completed\":83074048}\n",
      "{\"status\":\"pulling 3839a254cf2d\",\"digest\":\"sha256:3839a254cf2d00b208c6e2524c129e4438f9d106bba4c3fbc12b631f519d1de1\",\"total\":5621607424,\"completed\":84073472}\n",
      "{\"status\":\"pulling 3839a254cf2d\",\"digest\":\"sha256:3839a254cf2d00b208c6e2524c129e4438f9d106bba4c3fbc12b631f519d1de1\",\"total\":5621607424,\"completed\":84794368}\n",
      "{\"status\":\"pulling 3839a254cf2d\",\"digest\":\"sha256:3839a254cf2d00b208c6e2524c129e4438f9d106bba4c3fbc12b631f519d1de1\",\"total\":5621607424,\"completed\":85773312}\n",
      "{\"status\":\"pulling 3839a254cf2d\",\"digest\":\"sha256:3839a254cf2d00b208c6e2524c129e4438f9d106bba4c3fbc12b631f519d1de1\",\"total\":5621607424,\"completed\":86543360}\n",
      "{\"status\":\"pulling 3839a254cf2d\",\"digest\":\"sha256:3839a254cf2d00b208c6e2524c129e4438f9d106bba4c3fbc12b631f519d1de1\",\"total\":5621607424,\"completed\":87297024}\n",
      "{\"status\":\"pulling 3839a254cf2d\",\"digest\":\"sha256:3839a254cf2d00b208c6e2524c129e4438f9d106bba4c3fbc12b631f519d1de1\",\"total\":5621607424,\"completed\":87526400}\n",
      "{\"status\":\"pulling 3839a254cf2d\",\"digest\":\"sha256:3839a254cf2d00b208c6e2524c129e4438f9d106bba4c3fbc12b631f519d1de1\",\"total\":5621607424,\"completed\":87526400}\n",
      "{\"status\":\"pulling 3839a254cf2d\",\"digest\":\"sha256:3839a254cf2d00b208c6e2524c129e4438f9d106bba4c3fbc12b631f519d1de1\",\"total\":5621607424,\"completed\":87641088}\n",
      "{\"status\":\"pulling 3839a254cf2d\",\"digest\":\"sha256:3839a254cf2d00b208c6e2524c129e4438f9d106bba4c3fbc12b631f519d1de1\",\"total\":5621607424,\"completed\":87837696}\n",
      "{\"status\":\"pulling 3839a254cf2d\",\"digest\":\"sha256:3839a254cf2d00b208c6e2524c129e4438f9d106bba4c3fbc12b631f519d1de1\",\"total\":5621607424,\"completed\":90254336}\n",
      "{\"status\":\"pulling 3839a254cf2d\",\"digest\":\"sha256:3839a254cf2d00b208c6e2524c129e4438f9d106bba4c3fbc12b631f519d1de1\",\"total\":5621607424,\"completed\":91294720}\n",
      "{\"status\":\"pulling 3839a254cf2d\",\"digest\":\"sha256:3839a254cf2d00b208c6e2524c129e4438f9d106bba4c3fbc12b631f519d1de1\",\"total\":5621607424,\"completed\":91294720}\n",
      "{\"status\":\"pulling 3839a254cf2d\",\"digest\":\"sha256:3839a254cf2d00b208c6e2524c129e4438f9d106bba4c3fbc12b631f519d1de1\",\"total\":5621607424,\"completed\":91388928}\n",
      "{\"status\":\"pulling 3839a254cf2d\",\"digest\":\"sha256:3839a254cf2d00b208c6e2524c129e4438f9d106bba4c3fbc12b631f519d1de1\",\"total\":5621607424,\"completed\":91421696}\n",
      "{\"status\":\"pulling 3839a254cf2d\",\"digest\":\"sha256:3839a254cf2d00b208c6e2524c129e4438f9d106bba4c3fbc12b631f519d1de1\",\"total\":5621607424,\"completed\":92171264}\n",
      "{\"status\":\"pulling 3839a254cf2d\",\"digest\":\"sha256:3839a254cf2d00b208c6e2524c129e4438f9d106bba4c3fbc12b631f519d1de1\",\"total\":5621607424,\"completed\":92269568}\n",
      "{\"status\":\"pulling 3839a254cf2d\",\"digest\":\"sha256:3839a254cf2d00b208c6e2524c129e4438f9d106bba4c3fbc12b631f519d1de1\",\"total\":5621607424,\"completed\":92601344}\n",
      "{\"status\":\"pulling 3839a254cf2d\",\"digest\":\"sha256:3839a254cf2d00b208c6e2524c129e4438f9d106bba4c3fbc12b631f519d1de1\",\"total\":5621607424,\"completed\":96320512}\n",
      "{\"status\":\"pulling 3839a254cf2d\",\"digest\":\"sha256:3839a254cf2d00b208c6e2524c129e4438f9d106bba4c3fbc12b631f519d1de1\",\"total\":5621607424,\"completed\":97401856}\n",
      "{\"status\":\"pulling 3839a254cf2d\",\"digest\":\"sha256:3839a254cf2d00b208c6e2524c129e4438f9d106bba4c3fbc12b631f519d1de1\",\"total\":5621607424,\"completed\":98237440}\n",
      "{\"status\":\"pulling 3839a254cf2d\",\"digest\":\"sha256:3839a254cf2d00b208c6e2524c129e4438f9d106bba4c3fbc12b631f519d1de1\",\"total\":5621607424,\"completed\":98876416}\n",
      "{\"status\":\"pulling 3839a254cf2d\",\"digest\":\"sha256:3839a254cf2d00b208c6e2524c129e4438f9d106bba4c3fbc12b631f519d1de1\",\"total\":5621607424,\"completed\":99499008}\n",
      "{\"status\":\"pulling 3839a254cf2d\",\"digest\":\"sha256:3839a254cf2d00b208c6e2524c129e4438f9d106bba4c3fbc12b631f519d1de1\",\"total\":5621607424,\"completed\":100367360}\n",
      "{\"status\":\"pulling 3839a254cf2d\",\"digest\":\"sha256:3839a254cf2d00b208c6e2524c129e4438f9d106bba4c3fbc12b631f519d1de1\",\"total\":5621607424,\"completed\":101071872}\n",
      "{\"status\":\"pulling 3839a254cf2d\",\"digest\":\"sha256:3839a254cf2d00b208c6e2524c129e4438f9d106bba4c3fbc12b631f519d1de1\",\"total\":5621607424,\"completed\":101919744}\n",
      "{\"status\":\"pulling 3839a254cf2d\",\"digest\":\"sha256:3839a254cf2d00b208c6e2524c129e4438f9d106bba4c3fbc12b631f519d1de1\",\"total\":5621607424,\"completed\":102764096}\n",
      "{\"status\":\"pulling 3839a254cf2d\",\"digest\":\"sha256:3839a254cf2d00b208c6e2524c129e4438f9d106bba4c3fbc12b631f519d1de1\",\"total\":5621607424,\"completed\":103546432}\n",
      "{\"status\":\"pulling 3839a254cf2d\",\"digest\":\"sha256:3839a254cf2d00b208c6e2524c129e4438f9d106bba4c3fbc12b631f519d1de1\",\"total\":5621607424,\"completed\":104443456}\n",
      "{\"status\":\"pulling 3839a254cf2d\",\"digest\":\"sha256:3839a254cf2d00b208c6e2524c129e4438f9d106bba4c3fbc12b631f519d1de1\",\"total\":5621607424,\"completed\":105279040}\n",
      "{\"status\":\"pulling 3839a254cf2d\",\"digest\":\"sha256:3839a254cf2d00b208c6e2524c129e4438f9d106bba4c3fbc12b631f519d1de1\",\"total\":5621607424,\"completed\":106044992}\n",
      "{\"status\":\"pulling 3839a254cf2d\",\"digest\":\"sha256:3839a254cf2d00b208c6e2524c129e4438f9d106bba4c3fbc12b631f519d1de1\",\"total\":5621607424,\"completed\":106843712}\n",
      "{\"status\":\"pulling 3839a254cf2d\",\"digest\":\"sha256:3839a254cf2d00b208c6e2524c129e4438f9d106bba4c3fbc12b631f519d1de1\",\"total\":5621607424,\"completed\":107548224}\n",
      "{\"status\":\"pulling 3839a254cf2d\",\"digest\":\"sha256:3839a254cf2d00b208c6e2524c129e4438f9d106bba4c3fbc12b631f519d1de1\",\"total\":5621607424,\"completed\":108367424}\n",
      "{\"status\":\"pulling 3839a254cf2d\",\"digest\":\"sha256:3839a254cf2d00b208c6e2524c129e4438f9d106bba4c3fbc12b631f519d1de1\",\"total\":5621607424,\"completed\":109448768}\n",
      "{\"status\":\"pulling 3839a254cf2d\",\"digest\":\"sha256:3839a254cf2d00b208c6e2524c129e4438f9d106bba4c3fbc12b631f519d1de1\",\"total\":5621607424,\"completed\":110140992}\n",
      "{\"status\":\"pulling 3839a254cf2d\",\"digest\":\"sha256:3839a254cf2d00b208c6e2524c129e4438f9d106bba4c3fbc12b631f519d1de1\",\"total\":5621607424,\"completed\":111058496}\n",
      "{\"status\":\"pulling 3839a254cf2d\",\"digest\":\"sha256:3839a254cf2d00b208c6e2524c129e4438f9d106bba4c3fbc12b631f519d1de1\",\"total\":5621607424,\"completed\":111980096}\n",
      "{\"status\":\"pulling 3839a254cf2d\",\"digest\":\"sha256:3839a254cf2d00b208c6e2524c129e4438f9d106bba4c3fbc12b631f519d1de1\",\"total\":5621607424,\"completed\":112913984}\n",
      "{\"status\":\"pulling 3839a254cf2d\",\"digest\":\"sha256:3839a254cf2d00b208c6e2524c129e4438f9d106bba4c3fbc12b631f519d1de1\",\"total\":5621607424,\"completed\":113950272}\n",
      "{\"status\":\"pulling 3839a254cf2d\",\"digest\":\"sha256:3839a254cf2d00b208c6e2524c129e4438f9d106bba4c3fbc12b631f519d1de1\",\"total\":5621607424,\"completed\":114748992}\n",
      "{\"status\":\"pulling 3839a254cf2d\",\"digest\":\"sha256:3839a254cf2d00b208c6e2524c129e4438f9d106bba4c3fbc12b631f519d1de1\",\"total\":5621607424,\"completed\":115699264}\n",
      "{\"status\":\"pulling 3839a254cf2d\",\"digest\":\"sha256:3839a254cf2d00b208c6e2524c129e4438f9d106bba4c3fbc12b631f519d1de1\",\"total\":5621607424,\"completed\":116653632}\n",
      "{\"status\":\"pulling 3839a254cf2d\",\"digest\":\"sha256:3839a254cf2d00b208c6e2524c129e4438f9d106bba4c3fbc12b631f519d1de1\",\"total\":5621607424,\"completed\":117698112}\n",
      "{\"status\":\"pulling 3839a254cf2d\",\"digest\":\"sha256:3839a254cf2d00b208c6e2524c129e4438f9d106bba4c3fbc12b631f519d1de1\",\"total\":5621607424,\"completed\":118402624}\n",
      "{\"status\":\"pulling 3839a254cf2d\",\"digest\":\"sha256:3839a254cf2d00b208c6e2524c129e4438f9d106bba4c3fbc12b631f519d1de1\",\"total\":5621607424,\"completed\":119181440}\n",
      "{\"status\":\"pulling 3839a254cf2d\",\"digest\":\"sha256:3839a254cf2d00b208c6e2524c129e4438f9d106bba4c3fbc12b631f519d1de1\",\"total\":5621607424,\"completed\":120000640}\n",
      "{\"status\":\"pulling 3839a254cf2d\",\"digest\":\"sha256:3839a254cf2d00b208c6e2524c129e4438f9d106bba4c3fbc12b631f519d1de1\",\"total\":5621607424,\"completed\":121032832}\n",
      "{\"status\":\"pulling 3839a254cf2d\",\"digest\":\"sha256:3839a254cf2d00b208c6e2524c129e4438f9d106bba4c3fbc12b631f519d1de1\",\"total\":5621607424,\"completed\":121962624}\n",
      "{\"status\":\"pulling 3839a254cf2d\",\"digest\":\"sha256:3839a254cf2d00b208c6e2524c129e4438f9d106bba4c3fbc12b631f519d1de1\",\"total\":5621607424,\"completed\":122609792}\n",
      "{\"status\":\"pulling 3839a254cf2d\",\"digest\":\"sha256:3839a254cf2d00b208c6e2524c129e4438f9d106bba4c3fbc12b631f519d1de1\",\"total\":5621607424,\"completed\":123617408}\n",
      "{\"status\":\"pulling 3839a254cf2d\",\"digest\":\"sha256:3839a254cf2d00b208c6e2524c129e4438f9d106bba4c3fbc12b631f519d1de1\",\"total\":5621607424,\"completed\":124354688}\n",
      "{\"status\":\"pulling 3839a254cf2d\",\"digest\":\"sha256:3839a254cf2d00b208c6e2524c129e4438f9d106bba4c3fbc12b631f519d1de1\",\"total\":5621607424,\"completed\":125403264}\n",
      "{\"status\":\"pulling 3839a254cf2d\",\"digest\":\"sha256:3839a254cf2d00b208c6e2524c129e4438f9d106bba4c3fbc12b631f519d1de1\",\"total\":5621607424,\"completed\":126271616}\n",
      "{\"status\":\"pulling 3839a254cf2d\",\"digest\":\"sha256:3839a254cf2d00b208c6e2524c129e4438f9d106bba4c3fbc12b631f519d1de1\",\"total\":5621607424,\"completed\":127123584}\n",
      "{\"status\":\"pulling 3839a254cf2d\",\"digest\":\"sha256:3839a254cf2d00b208c6e2524c129e4438f9d106bba4c3fbc12b631f519d1de1\",\"total\":5621607424,\"completed\":127578240}\n",
      "{\"status\":\"pulling 3839a254cf2d\",\"digest\":\"sha256:3839a254cf2d00b208c6e2524c129e4438f9d106bba4c3fbc12b631f519d1de1\",\"total\":5621607424,\"completed\":127578240}\n",
      "{\"status\":\"pulling 3839a254cf2d\",\"digest\":\"sha256:3839a254cf2d00b208c6e2524c129e4438f9d106bba4c3fbc12b631f519d1de1\",\"total\":5621607424,\"completed\":127938688}\n",
      "{\"status\":\"pulling 3839a254cf2d\",\"digest\":\"sha256:3839a254cf2d00b208c6e2524c129e4438f9d106bba4c3fbc12b631f519d1de1\",\"total\":5621607424,\"completed\":130087616}\n",
      "{\"status\":\"pulling 3839a254cf2d\",\"digest\":\"sha256:3839a254cf2d00b208c6e2524c129e4438f9d106bba4c3fbc12b631f519d1de1\",\"total\":5621607424,\"completed\":130730688}\n",
      "{\"status\":\"pulling 3839a254cf2d\",\"digest\":\"sha256:3839a254cf2d00b208c6e2524c129e4438f9d106bba4c3fbc12b631f519d1de1\",\"total\":5621607424,\"completed\":131828416}\n",
      "{\"status\":\"pulling 3839a254cf2d\",\"digest\":\"sha256:3839a254cf2d00b208c6e2524c129e4438f9d106bba4c3fbc12b631f519d1de1\",\"total\":5621607424,\"completed\":132836032}\n",
      "{\"status\":\"pulling 3839a254cf2d\",\"digest\":\"sha256:3839a254cf2d00b208c6e2524c129e4438f9d106bba4c3fbc12b631f519d1de1\",\"total\":5621607424,\"completed\":133737152}\n",
      "{\"status\":\"pulling 3839a254cf2d\",\"digest\":\"sha256:3839a254cf2d00b208c6e2524c129e4438f9d106bba4c3fbc12b631f519d1de1\",\"total\":5621607424,\"completed\":134871744}\n",
      "{\"status\":\"pulling 3839a254cf2d\",\"digest\":\"sha256:3839a254cf2d00b208c6e2524c129e4438f9d106bba4c3fbc12b631f519d1de1\",\"total\":5621607424,\"completed\":135772864}\n",
      "{\"status\":\"pulling 3839a254cf2d\",\"digest\":\"sha256:3839a254cf2d00b208c6e2524c129e4438f9d106bba4c3fbc12b631f519d1de1\",\"total\":5621607424,\"completed\":136682176}\n",
      "{\"status\":\"pulling 3839a254cf2d\",\"digest\":\"sha256:3839a254cf2d00b208c6e2524c129e4438f9d106bba4c3fbc12b631f519d1de1\",\"total\":5621607424,\"completed\":137566912}\n",
      "{\"status\":\"pulling 3839a254cf2d\",\"digest\":\"sha256:3839a254cf2d00b208c6e2524c129e4438f9d106bba4c3fbc12b631f519d1de1\",\"total\":5621607424,\"completed\":138615488}\n",
      "{\"status\":\"pulling 3839a254cf2d\",\"digest\":\"sha256:3839a254cf2d00b208c6e2524c129e4438f9d106bba4c3fbc12b631f519d1de1\",\"total\":5621607424,\"completed\":139516608}\n",
      "{\"status\":\"pulling 3839a254cf2d\",\"digest\":\"sha256:3839a254cf2d00b208c6e2524c129e4438f9d106bba4c3fbc12b631f519d1de1\",\"total\":5621607424,\"completed\":140298944}\n",
      "{\"status\":\"pulling 3839a254cf2d\",\"digest\":\"sha256:3839a254cf2d00b208c6e2524c129e4438f9d106bba4c3fbc12b631f519d1de1\",\"total\":5621607424,\"completed\":141302464}\n",
      "{\"status\":\"pulling 3839a254cf2d\",\"digest\":\"sha256:3839a254cf2d00b208c6e2524c129e4438f9d106bba4c3fbc12b631f519d1de1\",\"total\":5621607424,\"completed\":142322368}\n",
      "{\"status\":\"pulling 3839a254cf2d\",\"digest\":\"sha256:3839a254cf2d00b208c6e2524c129e4438f9d106bba4c3fbc12b631f519d1de1\",\"total\":5621607424,\"completed\":143588032}\n",
      "{\"status\":\"pulling 3839a254cf2d\",\"digest\":\"sha256:3839a254cf2d00b208c6e2524c129e4438f9d106bba4c3fbc12b631f519d1de1\",\"total\":5621607424,\"completed\":144661184}\n",
      "{\"status\":\"pulling 3839a254cf2d\",\"digest\":\"sha256:3839a254cf2d00b208c6e2524c129e4438f9d106bba4c3fbc12b631f519d1de1\",\"total\":5621607424,\"completed\":145644224}\n",
      "{\"status\":\"pulling 3839a254cf2d\",\"digest\":\"sha256:3839a254cf2d00b208c6e2524c129e4438f9d106bba4c3fbc12b631f519d1de1\",\"total\":5621607424,\"completed\":146512576}\n",
      "{\"status\":\"pulling 3839a254cf2d\",\"digest\":\"sha256:3839a254cf2d00b208c6e2524c129e4438f9d106bba4c3fbc12b631f519d1de1\",\"total\":5621607424,\"completed\":147491520}\n",
      "{\"status\":\"pulling 3839a254cf2d\",\"digest\":\"sha256:3839a254cf2d00b208c6e2524c129e4438f9d106bba4c3fbc12b631f519d1de1\",\"total\":5621607424,\"completed\":148523712}\n",
      "{\"status\":\"pulling 3839a254cf2d\",\"digest\":\"sha256:3839a254cf2d00b208c6e2524c129e4438f9d106bba4c3fbc12b631f519d1de1\",\"total\":5621607424,\"completed\":149301952}\n",
      "{\"status\":\"pulling 3839a254cf2d\",\"digest\":\"sha256:3839a254cf2d00b208c6e2524c129e4438f9d106bba4c3fbc12b631f519d1de1\",\"total\":5621607424,\"completed\":150366912}\n",
      "{\"status\":\"pulling 3839a254cf2d\",\"digest\":\"sha256:3839a254cf2d00b208c6e2524c129e4438f9d106bba4c3fbc12b631f519d1de1\",\"total\":5621607424,\"completed\":151120576}\n",
      "{\"status\":\"pulling 3839a254cf2d\",\"digest\":\"sha256:3839a254cf2d00b208c6e2524c129e4438f9d106bba4c3fbc12b631f519d1de1\",\"total\":5621607424,\"completed\":151956160}\n",
      "{\"status\":\"pulling 3839a254cf2d\",\"digest\":\"sha256:3839a254cf2d00b208c6e2524c129e4438f9d106bba4c3fbc12b631f519d1de1\",\"total\":5621607424,\"completed\":152828608}\n",
      "{\"status\":\"pulling 3839a254cf2d\",\"digest\":\"sha256:3839a254cf2d00b208c6e2524c129e4438f9d106bba4c3fbc12b631f519d1de1\",\"total\":5621607424,\"completed\":153762496}\n",
      "{\"status\":\"pulling 3839a254cf2d\",\"digest\":\"sha256:3839a254cf2d00b208c6e2524c129e4438f9d106bba4c3fbc12b631f519d1de1\",\"total\":5621607424,\"completed\":154602176}\n",
      "{\"status\":\"pulling 3839a254cf2d\",\"digest\":\"sha256:3839a254cf2d00b208c6e2524c129e4438f9d106bba4c3fbc12b631f519d1de1\",\"total\":5621607424,\"completed\":155175616}\n",
      "{\"status\":\"pulling 3839a254cf2d\",\"digest\":\"sha256:3839a254cf2d00b208c6e2524c129e4438f9d106bba4c3fbc12b631f519d1de1\",\"total\":5621607424,\"completed\":155880128}\n",
      "{\"status\":\"pulling 3839a254cf2d\",\"digest\":\"sha256:3839a254cf2d00b208c6e2524c129e4438f9d106bba4c3fbc12b631f519d1de1\",\"total\":5621607424,\"completed\":156633792}\n",
      "{\"status\":\"pulling 3839a254cf2d\",\"digest\":\"sha256:3839a254cf2d00b208c6e2524c129e4438f9d106bba4c3fbc12b631f519d1de1\",\"total\":5621607424,\"completed\":157350592}\n",
      "{\"status\":\"pulling 3839a254cf2d\",\"digest\":\"sha256:3839a254cf2d00b208c6e2524c129e4438f9d106bba4c3fbc12b631f519d1de1\",\"total\":5621607424,\"completed\":158055104}\n",
      "{\"status\":\"pulling 3839a254cf2d\",\"digest\":\"sha256:3839a254cf2d00b208c6e2524c129e4438f9d106bba4c3fbc12b631f519d1de1\",\"total\":5621607424,\"completed\":158874304}\n",
      "{\"status\":\"pulling 3839a254cf2d\",\"digest\":\"sha256:3839a254cf2d00b208c6e2524c129e4438f9d106bba4c3fbc12b631f519d1de1\",\"total\":5621607424,\"completed\":159562432}\n",
      "{\"status\":\"pulling 3839a254cf2d\",\"digest\":\"sha256:3839a254cf2d00b208c6e2524c129e4438f9d106bba4c3fbc12b631f519d1de1\",\"total\":5621607424,\"completed\":159869632}\n",
      "{\"status\":\"pulling 3839a254cf2d\",\"digest\":\"sha256:3839a254cf2d00b208c6e2524c129e4438f9d106bba4c3fbc12b631f519d1de1\",\"total\":5621607424,\"completed\":159902400}\n",
      "{\"status\":\"pulling 3839a254cf2d\",\"digest\":\"sha256:3839a254cf2d00b208c6e2524c129e4438f9d106bba4c3fbc12b631f519d1de1\",\"total\":5621607424,\"completed\":161213120}\n",
      "{\"status\":\"pulling 3839a254cf2d\",\"digest\":\"sha256:3839a254cf2d00b208c6e2524c129e4438f9d106bba4c3fbc12b631f519d1de1\",\"total\":5621607424,\"completed\":161553088}\n",
      "{\"status\":\"pulling 3839a254cf2d\",\"digest\":\"sha256:3839a254cf2d00b208c6e2524c129e4438f9d106bba4c3fbc12b631f519d1de1\",\"total\":5621607424,\"completed\":161897152}\n",
      "{\"status\":\"pulling 3839a254cf2d\",\"digest\":\"sha256:3839a254cf2d00b208c6e2524c129e4438f9d106bba4c3fbc12b631f519d1de1\",\"total\":5621607424,\"completed\":162454208}\n",
      "{\"status\":\"pulling 3839a254cf2d\",\"digest\":\"sha256:3839a254cf2d00b208c6e2524c129e4438f9d106bba4c3fbc12b631f519d1de1\",\"total\":5621607424,\"completed\":163029568}\n",
      "{\"status\":\"pulling 3839a254cf2d\",\"digest\":\"sha256:3839a254cf2d00b208c6e2524c129e4438f9d106bba4c3fbc12b631f519d1de1\",\"total\":5621607424,\"completed\":163783232}\n",
      "{\"status\":\"pulling 3839a254cf2d\",\"digest\":\"sha256:3839a254cf2d00b208c6e2524c129e4438f9d106bba4c3fbc12b631f519d1de1\",\"total\":5621607424,\"completed\":164119104}\n",
      "{\"status\":\"pulling 3839a254cf2d\",\"digest\":\"sha256:3839a254cf2d00b208c6e2524c129e4438f9d106bba4c3fbc12b631f519d1de1\",\"total\":5621607424,\"completed\":165306944}\n",
      "{\"status\":\"pulling 3839a254cf2d\",\"digest\":\"sha256:3839a254cf2d00b208c6e2524c129e4438f9d106bba4c3fbc12b631f519d1de1\",\"total\":5621607424,\"completed\":165388864}\n",
      "{\"status\":\"pulling 3839a254cf2d\",\"digest\":\"sha256:3839a254cf2d00b208c6e2524c129e4438f9d106bba4c3fbc12b631f519d1de1\",\"total\":5621607424,\"completed\":166330944}\n"
     ]
    }
   ],
   "source": [
    "# Defina a URL da sua API FastAPI local\n",
    "url = f\"{BASE_URL}/api/pull\"\n",
    "\n",
    "payload = {\"model\": \"gemma3n:e2b\"}\n",
    "\n",
    "# Faça a requisição com streaming ativado\n",
    "response = requests.post(url, json=payload, stream=True)\n",
    "\n",
    "# Exiba as linhas à medida que forem chegando\n",
    "for line in response.iter_lines():\n",
    "    if line:\n",
    "        print(line.decode(\"utf-8\"))"
   ]
  },
  {
   "cell_type": "code",
   "execution_count": null,
   "id": "4014209d",
   "metadata": {},
   "outputs": [],
   "source": []
  }
 ],
 "metadata": {
  "kernelspec": {
   "display_name": "env",
   "language": "python",
   "name": "python3"
  },
  "language_info": {
   "codemirror_mode": {
    "name": "ipython",
    "version": 3
   },
   "file_extension": ".py",
   "mimetype": "text/x-python",
   "name": "python",
   "nbconvert_exporter": "python",
   "pygments_lexer": "ipython3",
   "version": "3.10.11"
  }
 },
 "nbformat": 4,
 "nbformat_minor": 5
}
