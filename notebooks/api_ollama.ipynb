{
 "cells": [
  {
   "cell_type": "code",
   "execution_count": 29,
   "id": "e66a2d54",
   "metadata": {},
   "outputs": [],
   "source": [
    "import requests \n",
    "\n",
    "BASE_URL = \"http://localhost:11434\"\n",
    "\n",
    "def get_models_info():\n",
    "    response = requests.get(f\"{BASE_URL}/api/tags\")\n",
    "    if response.status_code == 200:\n",
    "        return response.json()\n",
    "    else:\n",
    "        return {\"error\": \"Failed to fetch models info\"}"
   ]
  },
  {
   "cell_type": "code",
   "execution_count": 30,
   "id": "c58f4d27",
   "metadata": {},
   "outputs": [
    {
     "data": {
      "text/plain": [
       "{'models': [{'name': 'gemma3n:e2b',\n",
       "   'model': 'gemma3n:e2b',\n",
       "   'modified_at': '2025-07-26T12:21:01.4036505-03:00',\n",
       "   'size': 5621616562,\n",
       "   'digest': '719372f8c7deee188821a4dcbaf75efa13a342d7e88a79d4fc2412b24947f6fd',\n",
       "   'details': {'parent_model': '',\n",
       "    'format': 'gguf',\n",
       "    'family': 'gemma3n',\n",
       "    'families': ['gemma3n'],\n",
       "    'parameter_size': '4.5B',\n",
       "    'quantization_level': 'Q4_K_M'}},\n",
       "  {'name': 'gemma3n:e4b',\n",
       "   'model': 'gemma3n:e4b',\n",
       "   'modified_at': '2025-07-25T13:01:05.6323838-03:00',\n",
       "   'size': 7547589116,\n",
       "   'digest': '15cb39fd9394fd2549f6df9081cfc84dd134ecf2c9c5be911e5629920489ac32',\n",
       "   'details': {'parent_model': '',\n",
       "    'format': 'gguf',\n",
       "    'family': 'gemma3n',\n",
       "    'families': ['gemma3n'],\n",
       "    'parameter_size': '6.9B',\n",
       "    'quantization_level': 'Q4_K_M'}}]}"
      ]
     },
     "execution_count": 30,
     "metadata": {},
     "output_type": "execute_result"
    }
   ],
   "source": [
    "get_models_info()"
   ]
  },
  {
   "cell_type": "code",
   "execution_count": 4,
   "id": "da910112",
   "metadata": {},
   "outputs": [
    {
     "name": "stdout",
     "output_type": "stream",
     "text": [
      "{'message': \"Model 'deepseek-r1:latest' deleted successfully\"}\n"
     ]
    }
   ],
   "source": [
    "def delete_model(model_name):\n",
    "    url = f\"{BASE_URL}/api/delete\"\n",
    "    payload = {\"model\": model_name}\n",
    "    response = requests.delete(url, json=payload)\n",
    "    \n",
    "    if response.status_code == 200:\n",
    "        return {\"message\": f\"Model '{model_name}' deleted successfully\"}\n",
    "    else:\n",
    "        return {\n",
    "            \"error\": f\"Failed to delete model '{model_name}'\",\n",
    "            \"status_code\": response.status_code,\n",
    "            \"response\": response.text\n",
    "        }\n",
    "\n",
    "# Exemplo de uso:\n",
    "print(delete_model(\"deepseek-r1:latest\"))"
   ]
  },
  {
   "cell_type": "code",
   "execution_count": 5,
   "id": "60d7e777",
   "metadata": {},
   "outputs": [
    {
     "data": {
      "text/plain": [
       "{'models': [{'name': 'gemma3n:e4b',\n",
       "   'model': 'gemma3n:e4b',\n",
       "   'modified_at': '2025-07-25T13:01:05.6323838-03:00',\n",
       "   'size': 7547589116,\n",
       "   'digest': '15cb39fd9394fd2549f6df9081cfc84dd134ecf2c9c5be911e5629920489ac32',\n",
       "   'details': {'parent_model': '',\n",
       "    'format': 'gguf',\n",
       "    'family': 'gemma3n',\n",
       "    'families': ['gemma3n'],\n",
       "    'parameter_size': '6.9B',\n",
       "    'quantization_level': 'Q4_K_M'}}]}"
      ]
     },
     "execution_count": 5,
     "metadata": {},
     "output_type": "execute_result"
    }
   ],
   "source": [
    "get_models_info()  # Call to fetch models info again after deletion"
   ]
  },
  {
   "cell_type": "code",
   "execution_count": 6,
   "id": "427ddf6f",
   "metadata": {},
   "outputs": [],
   "source": [
    "def pull_model(model_name):\n",
    "    url = f\"{BASE_URL}/api/pull\"\n",
    "    payload = {\"model\": model_name}\n",
    "    response = requests.post(url, json=payload)\n",
    "    \n",
    "    if response.status_code == 200:\n",
    "        return {\"message\": f\"Model '{model_name}' pulled successfully\"}\n",
    "    else:\n",
    "        return {\n",
    "            \"error\": f\"Failed to pull model '{model_name}'\",\n",
    "            \"status_code\": response.status_code,\n",
    "            \"response\": response.text\n",
    "        }"
   ]
  },
  {
   "cell_type": "code",
   "execution_count": 7,
   "id": "ba234685",
   "metadata": {},
   "outputs": [
    {
     "data": {
      "text/plain": [
       "{'message': \"Model 'gemma3n:e2b' pulled successfully\"}"
      ]
     },
     "execution_count": 7,
     "metadata": {},
     "output_type": "execute_result"
    }
   ],
   "source": [
    "pull_model(\"gemma3n:e2b\")  # Example usage to pull a model"
   ]
  },
  {
   "cell_type": "code",
   "execution_count": 8,
   "id": "6a23f8da",
   "metadata": {},
   "outputs": [
    {
     "data": {
      "text/plain": [
       "{'models': [{'name': 'gemma3n:e2b',\n",
       "   'model': 'gemma3n:e2b',\n",
       "   'modified_at': '2025-07-26T12:12:16.3690578-03:00',\n",
       "   'size': 5621616562,\n",
       "   'digest': '719372f8c7deee188821a4dcbaf75efa13a342d7e88a79d4fc2412b24947f6fd',\n",
       "   'details': {'parent_model': '',\n",
       "    'format': 'gguf',\n",
       "    'family': 'gemma3n',\n",
       "    'families': ['gemma3n'],\n",
       "    'parameter_size': '4.5B',\n",
       "    'quantization_level': 'Q4_K_M'}},\n",
       "  {'name': 'gemma3n:e4b',\n",
       "   'model': 'gemma3n:e4b',\n",
       "   'modified_at': '2025-07-25T13:01:05.6323838-03:00',\n",
       "   'size': 7547589116,\n",
       "   'digest': '15cb39fd9394fd2549f6df9081cfc84dd134ecf2c9c5be911e5629920489ac32',\n",
       "   'details': {'parent_model': '',\n",
       "    'format': 'gguf',\n",
       "    'family': 'gemma3n',\n",
       "    'families': ['gemma3n'],\n",
       "    'parameter_size': '6.9B',\n",
       "    'quantization_level': 'Q4_K_M'}}]}"
      ]
     },
     "execution_count": 8,
     "metadata": {},
     "output_type": "execute_result"
    }
   ],
   "source": [
    "get_models_info()  # Call to fetch models info again after deletion"
   ]
  },
  {
   "cell_type": "code",
   "execution_count": 9,
   "id": "bb2a14a0",
   "metadata": {},
   "outputs": [
    {
     "data": {
      "text/plain": [
       "{'message': \"Model 'gemma3n:e2b' deleted successfully\"}"
      ]
     },
     "execution_count": 9,
     "metadata": {},
     "output_type": "execute_result"
    }
   ],
   "source": [
    "delete_model(\"gemma3n:e2b\")  # Example usage to delete a model"
   ]
  },
  {
   "cell_type": "code",
   "execution_count": 10,
   "id": "ded3c832",
   "metadata": {},
   "outputs": [
    {
     "data": {
      "text/plain": [
       "{'models': [{'name': 'gemma3n:e4b',\n",
       "   'model': 'gemma3n:e4b',\n",
       "   'modified_at': '2025-07-25T13:01:05.6323838-03:00',\n",
       "   'size': 7547589116,\n",
       "   'digest': '15cb39fd9394fd2549f6df9081cfc84dd134ecf2c9c5be911e5629920489ac32',\n",
       "   'details': {'parent_model': '',\n",
       "    'format': 'gguf',\n",
       "    'family': 'gemma3n',\n",
       "    'families': ['gemma3n'],\n",
       "    'parameter_size': '6.9B',\n",
       "    'quantization_level': 'Q4_K_M'}}]}"
      ]
     },
     "execution_count": 10,
     "metadata": {},
     "output_type": "execute_result"
    }
   ],
   "source": [
    "get_models_info()  # Call to fetch models info again after deletion"
   ]
  },
  {
   "cell_type": "code",
   "execution_count": null,
   "id": "dd6ac0df",
   "metadata": {},
   "outputs": [],
   "source": [
    "# Defina a URL da sua API FastAPI local\n",
    "url = f\"{BASE_URL}/api/pull\"\n",
    "\n",
    "payload = {\"model\": \"gemma3n:e2b\"}\n",
    "\n",
    "# Faça a requisição com streaming ativado\n",
    "response = requests.post(url, json=payload, stream=True)\n",
    "\n",
    "# Exiba as linhas à medida que forem chegando\n",
    "for line in response.iter_lines():\n",
    "    if line:\n",
    "        print(line.decode(\"utf-8\"))"
   ]
  },
  {
   "cell_type": "code",
   "execution_count": 13,
   "id": "4014209d",
   "metadata": {},
   "outputs": [
    {
     "data": {
      "text/plain": [
       "{'models': [{'name': 'gemma3n:e2b',\n",
       "   'model': 'gemma3n:e2b',\n",
       "   'modified_at': '2025-07-26T12:21:01.4036505-03:00',\n",
       "   'size': 5621616562,\n",
       "   'digest': '719372f8c7deee188821a4dcbaf75efa13a342d7e88a79d4fc2412b24947f6fd',\n",
       "   'details': {'parent_model': '',\n",
       "    'format': 'gguf',\n",
       "    'family': 'gemma3n',\n",
       "    'families': ['gemma3n'],\n",
       "    'parameter_size': '4.5B',\n",
       "    'quantization_level': 'Q4_K_M'}},\n",
       "  {'name': 'gemma3n:e4b',\n",
       "   'model': 'gemma3n:e4b',\n",
       "   'modified_at': '2025-07-25T13:01:05.6323838-03:00',\n",
       "   'size': 7547589116,\n",
       "   'digest': '15cb39fd9394fd2549f6df9081cfc84dd134ecf2c9c5be911e5629920489ac32',\n",
       "   'details': {'parent_model': '',\n",
       "    'format': 'gguf',\n",
       "    'family': 'gemma3n',\n",
       "    'families': ['gemma3n'],\n",
       "    'parameter_size': '6.9B',\n",
       "    'quantization_level': 'Q4_K_M'}}]}"
      ]
     },
     "execution_count": 13,
     "metadata": {},
     "output_type": "execute_result"
    }
   ],
   "source": [
    "get_models_info()  # Call to fetch models info again after deletion"
   ]
  },
  {
   "cell_type": "code",
   "execution_count": null,
   "id": "53cfa00f",
   "metadata": {},
   "outputs": [],
   "source": [
    "from pprint import pprint\n",
    "# Defina a URL da sua API FastAPI local\n",
    "url = f\"{BASE_URL}/api/show\"\n",
    "\n",
    "payloads = [\n",
    "    {\"model\": \"gemma3n:e2b\"},\n",
    "    {\"model\": \"gemma3n:e4b\"},\n",
    "    {\"model\": \"deepseek-r1:1.5b\"}\n",
    "]\n",
    "\n",
    "for payload in payloads:\n",
    "    # Faça a requisição com streaming ativado\n",
    "    response = requests.post(url, json=payload)\n",
    "\n",
    "    if response.status_code == 200:\n",
    "        pprint(response.json())\n",
    "    else:\n",
    "        pprint(f\"Error: {response.status_code} - {response.text}\")\n",
    "    "
   ]
  },
  {
   "cell_type": "code",
   "execution_count": 20,
   "id": "6ccc419d",
   "metadata": {},
   "outputs": [
    {
     "data": {
      "text/plain": [
       "{'models': [{'name': 'gemma3n:e2b',\n",
       "   'model': 'gemma3n:e2b',\n",
       "   'modified_at': '2025-07-26T12:21:01.4036505-03:00',\n",
       "   'size': 5621616562,\n",
       "   'digest': '719372f8c7deee188821a4dcbaf75efa13a342d7e88a79d4fc2412b24947f6fd',\n",
       "   'details': {'parent_model': '',\n",
       "    'format': 'gguf',\n",
       "    'family': 'gemma3n',\n",
       "    'families': ['gemma3n'],\n",
       "    'parameter_size': '4.5B',\n",
       "    'quantization_level': 'Q4_K_M'}},\n",
       "  {'name': 'gemma3n:e4b',\n",
       "   'model': 'gemma3n:e4b',\n",
       "   'modified_at': '2025-07-25T13:01:05.6323838-03:00',\n",
       "   'size': 7547589116,\n",
       "   'digest': '15cb39fd9394fd2549f6df9081cfc84dd134ecf2c9c5be911e5629920489ac32',\n",
       "   'details': {'parent_model': '',\n",
       "    'format': 'gguf',\n",
       "    'family': 'gemma3n',\n",
       "    'families': ['gemma3n'],\n",
       "    'parameter_size': '6.9B',\n",
       "    'quantization_level': 'Q4_K_M'}}]}"
      ]
     },
     "execution_count": 20,
     "metadata": {},
     "output_type": "execute_result"
    }
   ],
   "source": [
    "dict_models = get_models_info()\n",
    "get_models_info()  # Call to fetch models info again after deletion"
   ]
  },
  {
   "cell_type": "code",
   "execution_count": 23,
   "id": "799496b8",
   "metadata": {},
   "outputs": [
    {
     "data": {
      "text/plain": [
       "['gemma3n:e2b', 'gemma3n:e4b']"
      ]
     },
     "execution_count": 23,
     "metadata": {},
     "output_type": "execute_result"
    }
   ],
   "source": [
    "list_model_name = [x['model'] for x in dict_models['models']]\n",
    "list_model_name"
   ]
  },
  {
   "cell_type": "code",
   "execution_count": 24,
   "id": "6f9ae654",
   "metadata": {},
   "outputs": [
    {
     "data": {
      "text/plain": [
       "{'models': [{'name': 'gemma3n:e2b',\n",
       "   'model': 'gemma3n:e2b',\n",
       "   'modified_at': '2025-07-26T12:21:01.4036505-03:00',\n",
       "   'size': 5621616562,\n",
       "   'digest': '719372f8c7deee188821a4dcbaf75efa13a342d7e88a79d4fc2412b24947f6fd',\n",
       "   'details': {'parent_model': '',\n",
       "    'format': 'gguf',\n",
       "    'family': 'gemma3n',\n",
       "    'families': ['gemma3n'],\n",
       "    'parameter_size': '4.5B',\n",
       "    'quantization_level': 'Q4_K_M'}},\n",
       "  {'name': 'gemma3n:e4b',\n",
       "   'model': 'gemma3n:e4b',\n",
       "   'modified_at': '2025-07-25T13:01:05.6323838-03:00',\n",
       "   'size': 7547589116,\n",
       "   'digest': '15cb39fd9394fd2549f6df9081cfc84dd134ecf2c9c5be911e5629920489ac32',\n",
       "   'details': {'parent_model': '',\n",
       "    'format': 'gguf',\n",
       "    'family': 'gemma3n',\n",
       "    'families': ['gemma3n'],\n",
       "    'parameter_size': '6.9B',\n",
       "    'quantization_level': 'Q4_K_M'}}]}"
      ]
     },
     "execution_count": 24,
     "metadata": {},
     "output_type": "execute_result"
    }
   ],
   "source": [
    "dict_models"
   ]
  },
  {
   "cell_type": "code",
   "execution_count": 28,
   "id": "922d2aa2",
   "metadata": {},
   "outputs": [
    {
     "name": "stdout",
     "output_type": "stream",
     "text": [
      "{'model': 'gemma3n:e2b', 'available': True}\n"
     ]
    }
   ],
   "source": [
    "BASE_API = \"http://localhost:8000\"\n",
    "\n",
    "model_name = \"gemma3n:e2b\"\n",
    "endpoint = f\"{BASE_API}/check-model/{model_name}\"\n",
    "\n",
    "response = requests.post(endpoint)\n",
    "\n",
    "if response.status_code == 200:\n",
    "    print(response.json())\n",
    "else:\n",
    "    print(f\"Error: {response.status_code} - {response.text}\")"
   ]
  },
  {
   "cell_type": "code",
   "execution_count": null,
   "id": "8eb735c1",
   "metadata": {},
   "outputs": [],
   "source": []
  }
 ],
 "metadata": {
  "kernelspec": {
   "display_name": "env",
   "language": "python",
   "name": "python3"
  },
  "language_info": {
   "codemirror_mode": {
    "name": "ipython",
    "version": 3
   },
   "file_extension": ".py",
   "mimetype": "text/x-python",
   "name": "python",
   "nbconvert_exporter": "python",
   "pygments_lexer": "ipython3",
   "version": "3.11.13"
  }
 },
 "nbformat": 4,
 "nbformat_minor": 5
}
