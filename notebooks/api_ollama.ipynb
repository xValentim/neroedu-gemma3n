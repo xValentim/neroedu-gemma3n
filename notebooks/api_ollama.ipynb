{
 "cells": [
  {
   "cell_type": "code",
   "execution_count": null,
   "id": "e66a2d54",
   "metadata": {},
   "outputs": [],
   "source": [
    "import requests \n",
    "\n",
    "BASE_URL = \"http://localhost:11434\"\n",
    "\n",
    "def get_models_info():\n",
    "    response = requests.get(f\"{BASE_URL}/api/tags\")\n",
    "    if response.status_code == 200:\n",
    "        return response.json()\n",
    "    else:\n",
    "        return {\"error\": \"Failed to fetch models info\"}"
   ]
  },
  {
   "cell_type": "code",
   "execution_count": null,
   "id": "c58f4d27",
   "metadata": {},
   "outputs": [],
   "source": []
  },
  {
   "cell_type": "code",
   "execution_count": null,
   "id": "da910112",
   "metadata": {},
   "outputs": [],
   "source": []
  }
 ],
 "metadata": {
  "kernelspec": {
   "display_name": "env",
   "language": "python",
   "name": "python3"
  },
  "language_info": {
   "codemirror_mode": {
    "name": "ipython",
    "version": 3
   },
   "file_extension": ".py",
   "mimetype": "text/x-python",
   "name": "python",
   "nbconvert_exporter": "python",
   "pygments_lexer": "ipython3",
   "version": "3.10.11"
  }
 },
 "nbformat": 4,
 "nbformat_minor": 5
}
