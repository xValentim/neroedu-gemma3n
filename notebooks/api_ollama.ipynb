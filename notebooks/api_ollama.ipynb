{
 "cells": [
  {
   "cell_type": "code",
   "execution_count": 1,
   "id": "e66a2d54",
   "metadata": {},
   "outputs": [],
   "source": [
    "import requests \n",
    "\n",
    "BASE_URL = \"http://localhost:11434\"\n",
    "\n",
    "def get_models_info():\n",
    "    response = requests.get(f\"{BASE_URL}/api/tags\")\n",
    "    if response.status_code == 200:\n",
    "        return response.json()\n",
    "    else:\n",
    "        return {\"error\": \"Failed to fetch models info\"}"
   ]
  },
  {
   "cell_type": "code",
   "execution_count": 2,
   "id": "c58f4d27",
   "metadata": {},
   "outputs": [
    {
     "data": {
      "text/plain": [
       "{'models': [{'name': 'gemma3n:e4b',\n",
       "   'model': 'gemma3n:e4b',\n",
       "   'modified_at': '2025-07-25T13:01:05.6323838-03:00',\n",
       "   'size': 7547589116,\n",
       "   'digest': '15cb39fd9394fd2549f6df9081cfc84dd134ecf2c9c5be911e5629920489ac32',\n",
       "   'details': {'parent_model': '',\n",
       "    'format': 'gguf',\n",
       "    'family': 'gemma3n',\n",
       "    'families': ['gemma3n'],\n",
       "    'parameter_size': '6.9B',\n",
       "    'quantization_level': 'Q4_K_M'}},\n",
       "  {'name': 'deepseek-r1:latest',\n",
       "   'model': 'deepseek-r1:latest',\n",
       "   'modified_at': '2025-06-21T15:19:00.1895447-03:00',\n",
       "   'size': 5225376047,\n",
       "   'digest': '6995872bfe4c521a67b32da386cd21d5c6e819b6e0d62f79f64ec83be99f5763',\n",
       "   'details': {'parent_model': '',\n",
       "    'format': 'gguf',\n",
       "    'family': 'qwen3',\n",
       "    'families': ['qwen3'],\n",
       "    'parameter_size': '8.2B',\n",
       "    'quantization_level': 'Q4_K_M'}}]}"
      ]
     },
     "execution_count": 2,
     "metadata": {},
     "output_type": "execute_result"
    }
   ],
   "source": [
    "get_models_info()"
   ]
  },
  {
   "cell_type": "code",
   "execution_count": 4,
   "id": "da910112",
   "metadata": {},
   "outputs": [
    {
     "name": "stdout",
     "output_type": "stream",
     "text": [
      "{'message': \"Model 'deepseek-r1:latest' deleted successfully\"}\n"
     ]
    }
   ],
   "source": [
    "def delete_model(model_name):\n",
    "    url = f\"{BASE_URL}/api/delete\"\n",
    "    payload = {\"model\": model_name}\n",
    "    response = requests.delete(url, json=payload)\n",
    "    \n",
    "    if response.status_code == 200:\n",
    "        return {\"message\": f\"Model '{model_name}' deleted successfully\"}\n",
    "    else:\n",
    "        return {\n",
    "            \"error\": f\"Failed to delete model '{model_name}'\",\n",
    "            \"status_code\": response.status_code,\n",
    "            \"response\": response.text\n",
    "        }\n",
    "\n",
    "# Exemplo de uso:\n",
    "print(delete_model(\"deepseek-r1:latest\"))"
   ]
  },
  {
   "cell_type": "code",
   "execution_count": 5,
   "id": "60d7e777",
   "metadata": {},
   "outputs": [
    {
     "data": {
      "text/plain": [
       "{'models': [{'name': 'gemma3n:e4b',\n",
       "   'model': 'gemma3n:e4b',\n",
       "   'modified_at': '2025-07-25T13:01:05.6323838-03:00',\n",
       "   'size': 7547589116,\n",
       "   'digest': '15cb39fd9394fd2549f6df9081cfc84dd134ecf2c9c5be911e5629920489ac32',\n",
       "   'details': {'parent_model': '',\n",
       "    'format': 'gguf',\n",
       "    'family': 'gemma3n',\n",
       "    'families': ['gemma3n'],\n",
       "    'parameter_size': '6.9B',\n",
       "    'quantization_level': 'Q4_K_M'}}]}"
      ]
     },
     "execution_count": 5,
     "metadata": {},
     "output_type": "execute_result"
    }
   ],
   "source": [
    "get_models_info()  # Call to fetch models info again after deletion"
   ]
  },
  {
   "cell_type": "code",
   "execution_count": 6,
   "id": "427ddf6f",
   "metadata": {},
   "outputs": [],
   "source": [
    "def pull_model(model_name):\n",
    "    url = f\"{BASE_URL}/api/pull\"\n",
    "    payload = {\"model\": model_name}\n",
    "    response = requests.post(url, json=payload)\n",
    "    \n",
    "    if response.status_code == 200:\n",
    "        return {\"message\": f\"Model '{model_name}' pulled successfully\"}\n",
    "    else:\n",
    "        return {\n",
    "            \"error\": f\"Failed to pull model '{model_name}'\",\n",
    "            \"status_code\": response.status_code,\n",
    "            \"response\": response.text\n",
    "        }"
   ]
  },
  {
   "cell_type": "code",
   "execution_count": null,
   "id": "ba234685",
   "metadata": {},
   "outputs": [],
   "source": [
    "pull_model(\"gemma3n:e2b\")  # Example usage to pull a model"
   ]
  },
  {
   "cell_type": "code",
   "execution_count": null,
   "id": "dd6ac0df",
   "metadata": {},
   "outputs": [],
   "source": [
    "# Defina a URL da sua API FastAPI local\n",
    "url = \"http://localhost:8000/pull-model/gemma3n:e2b\"\n",
    "\n",
    "# Faça a requisição com streaming ativado\n",
    "response = requests.post(url, stream=True)\n",
    "\n",
    "# Exiba as linhas à medida que forem chegando\n",
    "for line in response.iter_lines():\n",
    "    if line:\n",
    "        print(line.decode(\"utf-8\"))"
   ]
  }
 ],
 "metadata": {
  "kernelspec": {
   "display_name": "env",
   "language": "python",
   "name": "python3"
  },
  "language_info": {
   "codemirror_mode": {
    "name": "ipython",
    "version": 3
   },
   "file_extension": ".py",
   "mimetype": "text/x-python",
   "name": "python",
   "nbconvert_exporter": "python",
   "pygments_lexer": "ipython3",
   "version": "3.10.11"
  }
 },
 "nbformat": 4,
 "nbformat_minor": 5
}
