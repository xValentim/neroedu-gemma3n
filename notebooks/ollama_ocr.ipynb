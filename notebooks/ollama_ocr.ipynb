{
 "cells": [
  {
   "cell_type": "code",
   "execution_count": null,
   "id": "5dd3b5b0",
   "metadata": {},
   "outputs": [
    {
     "name": "stdout",
     "output_type": "stream",
     "text": [
      "Using custom prompt: Extract all text\n",
      "Request\n"
     ]
    }
   ],
   "source": [
    "from ollama_ocr import OCRProcessor\n",
    "\n",
    "# Initialize OCR processor\n",
    "ocr = OCRProcessor(\n",
    "    model_name='llama3.2-vision:11b',\n",
    "    base_url=\"http://localhost:11434/api/generate\"  # <- CORRETO\n",
    ")\n",
    "\n",
    "# you can pass your custom ollama api\n",
    "\n",
    "\n",
    "# Process an image\n",
    "result = ocr.process_image(\n",
    "    image_path=\"../data/essays/essay_01.jpg\", # path to your pdf files \"path/to/your/file.pdf\"\n",
    "    format_type=\"markdown\",  # Options: markdown, text, json, structured, key_value\n",
    "    custom_prompt=\"Extract all text\", # Optional custom prompt\n",
    "    language=\"English\" # Specify the language of the text (New! 🆕)\n",
    ")\n",
    "print(result)"
   ]
  },
  {
   "cell_type": "code",
   "execution_count": null,
   "id": "0815fcf7",
   "metadata": {},
   "outputs": [],
   "source": []
  }
 ],
 "metadata": {
  "kernelspec": {
   "display_name": "env",
   "language": "python",
   "name": "python3"
  },
  "language_info": {
   "codemirror_mode": {
    "name": "ipython",
    "version": 3
   },
   "file_extension": ".py",
   "mimetype": "text/x-python",
   "name": "python",
   "nbconvert_exporter": "python",
   "pygments_lexer": "ipython3",
   "version": "3.10.6"
  }
 },
 "nbformat": 4,
 "nbformat_minor": 5
}
