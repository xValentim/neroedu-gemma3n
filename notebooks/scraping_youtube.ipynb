{
 "cells": [
  {
   "cell_type": "code",
   "execution_count": 33,
   "id": "af0ff7ec",
   "metadata": {},
   "outputs": [],
   "source": [
    "import os\n",
    "import re\n",
    "from enum import Enum\n",
    "from urllib.parse import urlparse, parse_qs\n",
    "from tqdm import tqdm\n",
    "\n",
    "from dotenv import load_dotenv\n",
    "from langchain_core.documents.base import Document\n",
    "from langchain_openai.embeddings import OpenAIEmbeddings\n",
    "from langchain_text_splitters import RecursiveCharacterTextSplitter\n",
    "from pydantic import BaseModel, Field\n",
    "from pytube import Playlist, YouTube\n",
    "from youtube_transcript_api import YouTubeTranscriptApi\n",
    "import yt_dlp\n",
    "\n",
    "load_dotenv(override=True)\n",
    "\n",
    "\n",
    "def get_videos_links(url_playlist: str) -> list[str]:\n",
    "\n",
    "    url = url_playlist\n",
    "    playlist = Playlist(url)\n",
    "    urls_videos = list(playlist.video_urls)\n",
    "    return urls_videos\n",
    "\n",
    "\n",
    "def get_video_transcription(urls_videos: list[str], language: str=\"pt\") -> list[str]:\n",
    "    \n",
    "    transcriptions = list()\n",
    "    for url_video in urls_videos:\n",
    "        try:\n",
    "            video_id = url_video.find(\"v=\")\n",
    "            video_id = url_video[video_id+2:]\n",
    "            ytt_api = YouTubeTranscriptApi() \n",
    "            transcript_list = ytt_api.list(video_id)\n",
    "            transcript = transcript_list.find_transcript([language, 'en']).fetch()\n",
    "            print(transcript)\n",
    "            transcription = \"\"\n",
    "            for transc in transcript:\n",
    "                transcription += transc[\"text\"] + \" \"\n",
    "            transcriptions.append(transcription)\n",
    "        except Exception as e:\n",
    "            print(f\"Erro ao obter transcrição do vídeo {url_video}: {e}\")\n",
    "            transcriptions.append(\"Transcrição indisponível\")\n",
    "            \n",
    "    return transcriptions\n",
    "\n",
    "\n",
    "def get_videos_metadata(urls_videos: list[str], language: str='pt') -> list[dict]:\n",
    "\n",
    "    transcriptions = get_video_transcription(urls_videos, language)\n",
    "    lista_videos_medata = list()\n",
    "    for i, url_video in tqdm(enumerate(urls_videos)):\n",
    "        try:\n",
    "            video = YouTube(url_video)\n",
    "            metadata_video = {\n",
    "                \"Url Vídeo\":                url_video,\n",
    "                \"Título\":                   video.title,\n",
    "                \"Descrição\":                video.description,\n",
    "                \"Data de Publicação\":       video.publish_date.strftime('%Y-%m-%d'),\n",
    "                \"Duração (segundos)\":       video.length,\n",
    "                \"Canal\":                    video.author,\n",
    "                \"URL do Canal\":             video.channel_url,\n",
    "                \"Visualizações\":            video.views,\n",
    "                \"Palavras-chave\":           video.keywords,\n",
    "                \"Thumbnail\":                video.thumbnail_url,\n",
    "                \"Transcrição\":              transcriptions[i]\n",
    "            }\n",
    "            lista_videos_medata.append(metadata_video)\n",
    "        except Exception as e:\n",
    "            print(f\"Tentando com yt-dlp. {e}\")\n",
    "            try:\n",
    "                ydl_opts = {\n",
    "                    'quiet': True,\n",
    "                    'skip_download': True,\n",
    "                    'forcejson': True\n",
    "                }\n",
    "                with yt_dlp.YoutubeDL(ydl_opts) as ydl:\n",
    "                    info = ydl.extract_info(url_video, download=False)\n",
    "                    metadata_video = {\n",
    "                        \"Url Vídeo\":                url_video,\n",
    "                        \"Título\":                   info.get(\"title\"),\n",
    "                        \"Descrição\":                info.get(\"description\"),\n",
    "                        \"Data de Publicação\":       info.get(\"upload_date\"),\n",
    "                        \"Duração (segundos)\":       info.get(\"duration\"),\n",
    "                        \"Canal\":                    info.get(\"uploader\"),\n",
    "                        \"URL do Canal\":             info.get(\"channel_url\"),\n",
    "                        \"Visualizações\":            info.get(\"view_count\"),\n",
    "                        \"Palavras-chave\":           info.get(\"tags\"),\n",
    "                        \"Thumbnail\":                info.get(\"thumbnail\"),\n",
    "                        \"Transcrição\":              transcriptions[i]\n",
    "                    }\n",
    "                    lista_videos_medata.append(metadata_video)\n",
    "                    print(\"Conseguimos com o yt-dlp\")\n",
    "            except Exception as e:\n",
    "                print(f\"yt-dlp também falhou. {e}\")\n",
    "                metadata_video = {\n",
    "                    \"Url Vídeo\":                url_video,\n",
    "                    \"Título\":                   \"Indisponível\",\n",
    "                    \"Descrição\":                \"Indisponível\",\n",
    "                    \"Data de Publicação\":       \"Indisponível\",\n",
    "                    \"Duração (segundos)\":       \"Indisponível\",\n",
    "                    \"Canal\":                    \"Indisponível\",\n",
    "                    \"URL do Canal\":             \"Indisponível\",\n",
    "                    \"Visualizações\":            \"Indisponível\",\n",
    "                    \"Palavras-chave\":           \"Indisponível\",\n",
    "                    \"Thumbnail\":                \"Indisponível\",\n",
    "                    \"Transcrição\":              transcriptions[i]\n",
    "                }\n",
    "                lista_videos_medata.append(metadata_video)\n",
    "    return lista_videos_medata\n",
    "\n",
    "\n",
    "def sanitize_index_name(url: str) -> str:\n",
    "    query = parse_qs(urlparse(url).query)\n",
    "    playlist_id = query.get(\"list\", [\"\"])[0]\n",
    "    name = playlist_id.lower()\n",
    "    name = re.sub(r'[^a-z0-9\\-]', '-', name)\n",
    "    name = re.sub(r'-+', '-', name)\n",
    "    name = name.strip('-')\n",
    "    return name\n",
    "\n",
    "\n",
    "def get_data_from_playlist(url_playlist: str, language: str = \"pt\"):\n",
    "\n",
    "    urls_videos = get_videos_links(url_playlist)\n",
    "    \n",
    "    lista_videos_metadata = get_videos_metadata(urls_videos, language)\n",
    "    \n",
    "    return lista_videos_metadata\n",
    "\n",
    "\n"
   ]
  },
  {
   "cell_type": "code",
   "execution_count": 40,
   "id": "d733bcfa",
   "metadata": {},
   "outputs": [
    {
     "name": "stdout",
     "output_type": "stream",
     "text": [
      "Erro ao obter transcrição do vídeo https://www.youtube.com/watch?v=mbsCUmJNheM: \n",
      "Could not retrieve a transcript for the video https://www.youtube.com/watch?v=mbsCUmJNheM! This is most likely caused by:\n",
      "\n",
      "YouTube is blocking requests from your IP. This usually is due to one of the following reasons:\n",
      "- You have done too many requests and your IP has been blocked by YouTube\n",
      "- You are doing requests from an IP belonging to a cloud provider (like AWS, Google Cloud Platform, Azure, etc.). Unfortunately, most IPs from cloud providers are blocked by YouTube.\n",
      "\n",
      "Ways to work around this are explained in the \"Working around IP bans\" section of the README (https://github.com/jdepoix/youtube-transcript-api?tab=readme-ov-file#working-around-ip-bans-requestblocked-or-ipblocked-exception).\n",
      "\n",
      "\n",
      "If you are sure that the described cause is not responsible for this error and that a transcript should be retrievable, please create an issue at https://github.com/jdepoix/youtube-transcript-api/issues. Please add which version of youtube_transcript_api you are using and provide the information needed to replicate the error. Also make sure that there are no open issues which already describe your problem!\n",
      "Erro ao obter transcrição do vídeo https://www.youtube.com/watch?v=zm0jj8NOivo: \n",
      "Could not retrieve a transcript for the video https://www.youtube.com/watch?v=zm0jj8NOivo! This is most likely caused by:\n",
      "\n",
      "YouTube is blocking requests from your IP. This usually is due to one of the following reasons:\n",
      "- You have done too many requests and your IP has been blocked by YouTube\n",
      "- You are doing requests from an IP belonging to a cloud provider (like AWS, Google Cloud Platform, Azure, etc.). Unfortunately, most IPs from cloud providers are blocked by YouTube.\n",
      "\n",
      "Ways to work around this are explained in the \"Working around IP bans\" section of the README (https://github.com/jdepoix/youtube-transcript-api?tab=readme-ov-file#working-around-ip-bans-requestblocked-or-ipblocked-exception).\n",
      "\n",
      "\n",
      "If you are sure that the described cause is not responsible for this error and that a transcript should be retrievable, please create an issue at https://github.com/jdepoix/youtube-transcript-api/issues. Please add which version of youtube_transcript_api you are using and provide the information needed to replicate the error. Also make sure that there are no open issues which already describe your problem!\n"
     ]
    },
    {
     "ename": "KeyboardInterrupt",
     "evalue": "",
     "output_type": "error",
     "traceback": [
      "\u001b[31m---------------------------------------------------------------------------\u001b[39m",
      "\u001b[31mKeyboardInterrupt\u001b[39m                         Traceback (most recent call last)",
      "\u001b[36mCell\u001b[39m\u001b[36m \u001b[39m\u001b[32mIn[40]\u001b[39m\u001b[32m, line 1\u001b[39m\n\u001b[32m----> \u001b[39m\u001b[32m1\u001b[39m response = \u001b[43mget_data_from_playlist\u001b[49m\u001b[43m(\u001b[49m\u001b[33;43m\"\u001b[39;49m\u001b[33;43mhttps://www.youtube.com/playlist?list=PLrIEi9PL7EuHt05NBceRFFv5o2m_Bj40d\u001b[39;49m\u001b[33;43m\"\u001b[39;49m\u001b[43m,\u001b[49m\u001b[43m \u001b[49m\u001b[33;43m\"\u001b[39;49m\u001b[33;43mes\u001b[39;49m\u001b[33;43m\"\u001b[39;49m\u001b[43m)\u001b[49m\n",
      "\u001b[36mCell\u001b[39m\u001b[36m \u001b[39m\u001b[32mIn[33]\u001b[39m\u001b[32m, line 128\u001b[39m, in \u001b[36mget_data_from_playlist\u001b[39m\u001b[34m(url_playlist, language)\u001b[39m\n\u001b[32m    124\u001b[39m \u001b[38;5;28;01mdef\u001b[39;00m\u001b[38;5;250m \u001b[39m\u001b[34mget_data_from_playlist\u001b[39m(url_playlist: \u001b[38;5;28mstr\u001b[39m, language: \u001b[38;5;28mstr\u001b[39m = \u001b[33m\"\u001b[39m\u001b[33mpt\u001b[39m\u001b[33m\"\u001b[39m):\n\u001b[32m    126\u001b[39m     urls_videos = get_videos_links(url_playlist)\n\u001b[32m--> \u001b[39m\u001b[32m128\u001b[39m     lista_videos_metadata = \u001b[43mget_videos_metadata\u001b[49m\u001b[43m(\u001b[49m\u001b[43murls_videos\u001b[49m\u001b[43m,\u001b[49m\u001b[43m \u001b[49m\u001b[43mlanguage\u001b[49m\u001b[43m)\u001b[49m\n\u001b[32m    130\u001b[39m     \u001b[38;5;28;01mreturn\u001b[39;00m lista_videos_metadata\n",
      "\u001b[36mCell\u001b[39m\u001b[36m \u001b[39m\u001b[32mIn[33]\u001b[39m\u001b[32m, line 51\u001b[39m, in \u001b[36mget_videos_metadata\u001b[39m\u001b[34m(urls_videos, language)\u001b[39m\n\u001b[32m     49\u001b[39m \u001b[38;5;28;01mdef\u001b[39;00m\u001b[38;5;250m \u001b[39m\u001b[34mget_videos_metadata\u001b[39m(urls_videos: \u001b[38;5;28mlist\u001b[39m[\u001b[38;5;28mstr\u001b[39m], language: \u001b[38;5;28mstr\u001b[39m=\u001b[33m'\u001b[39m\u001b[33mpt\u001b[39m\u001b[33m'\u001b[39m) -> \u001b[38;5;28mlist\u001b[39m[\u001b[38;5;28mdict\u001b[39m]:\n\u001b[32m---> \u001b[39m\u001b[32m51\u001b[39m     transcriptions = \u001b[43mget_video_transcription\u001b[49m\u001b[43m(\u001b[49m\u001b[43murls_videos\u001b[49m\u001b[43m,\u001b[49m\u001b[43m \u001b[49m\u001b[43mlanguage\u001b[49m\u001b[43m)\u001b[49m\n\u001b[32m     52\u001b[39m     lista_videos_medata = \u001b[38;5;28mlist\u001b[39m()\n\u001b[32m     53\u001b[39m     \u001b[38;5;28;01mfor\u001b[39;00m i, url_video \u001b[38;5;129;01min\u001b[39;00m tqdm(\u001b[38;5;28menumerate\u001b[39m(urls_videos)):\n",
      "\u001b[36mCell\u001b[39m\u001b[36m \u001b[39m\u001b[32mIn[33]\u001b[39m\u001b[32m, line 35\u001b[39m, in \u001b[36mget_video_transcription\u001b[39m\u001b[34m(urls_videos, language)\u001b[39m\n\u001b[32m     33\u001b[39m video_id = url_video[video_id+\u001b[32m2\u001b[39m:]\n\u001b[32m     34\u001b[39m ytt_api = YouTubeTranscriptApi() \n\u001b[32m---> \u001b[39m\u001b[32m35\u001b[39m transcript_list = \u001b[43mytt_api\u001b[49m\u001b[43m.\u001b[49m\u001b[43mlist\u001b[49m\u001b[43m(\u001b[49m\u001b[43mvideo_id\u001b[49m\u001b[43m)\u001b[49m\n\u001b[32m     36\u001b[39m transcript = transcript_list.find_transcript([language, \u001b[33m'\u001b[39m\u001b[33men\u001b[39m\u001b[33m'\u001b[39m]).fetch()\n\u001b[32m     37\u001b[39m \u001b[38;5;28mprint\u001b[39m(transcript)\n",
      "\u001b[36mFile \u001b[39m\u001b[32mc:\\Users\\gabri\\Documents\\neroedu-gemma3n\\env\\Lib\\site-packages\\youtube_transcript_api\\_api.py:127\u001b[39m, in \u001b[36mYouTubeTranscriptApi.list\u001b[39m\u001b[34m(self, video_id)\u001b[39m\n\u001b[32m     76\u001b[39m \u001b[38;5;28;01mdef\u001b[39;00m\u001b[38;5;250m \u001b[39m\u001b[34mlist\u001b[39m(\n\u001b[32m     77\u001b[39m     \u001b[38;5;28mself\u001b[39m,\n\u001b[32m     78\u001b[39m     video_id: \u001b[38;5;28mstr\u001b[39m,\n\u001b[32m     79\u001b[39m ) -> TranscriptList:\n\u001b[32m     80\u001b[39m \u001b[38;5;250m    \u001b[39m\u001b[33;03m\"\"\"\u001b[39;00m\n\u001b[32m     81\u001b[39m \u001b[33;03m    Retrieves the list of transcripts which are available for a given video. It\u001b[39;00m\n\u001b[32m     82\u001b[39m \u001b[33;03m    returns a `TranscriptList` object which is iterable and provides methods to\u001b[39;00m\n\u001b[32m   (...)\u001b[39m\u001b[32m    125\u001b[39m \u001b[33;03m        Make sure that this is the actual ID, NOT the full URL to the video!\u001b[39;00m\n\u001b[32m    126\u001b[39m \u001b[33;03m    \"\"\"\u001b[39;00m\n\u001b[32m--> \u001b[39m\u001b[32m127\u001b[39m     \u001b[38;5;28;01mreturn\u001b[39;00m \u001b[38;5;28;43mself\u001b[39;49m\u001b[43m.\u001b[49m\u001b[43m_fetcher\u001b[49m\u001b[43m.\u001b[49m\u001b[43mfetch\u001b[49m\u001b[43m(\u001b[49m\u001b[43mvideo_id\u001b[49m\u001b[43m)\u001b[49m\n",
      "\u001b[36mFile \u001b[39m\u001b[32mc:\\Users\\gabri\\Documents\\neroedu-gemma3n\\env\\Lib\\site-packages\\youtube_transcript_api\\_transcripts.py:356\u001b[39m, in \u001b[36mTranscriptListFetcher.fetch\u001b[39m\u001b[34m(self, video_id)\u001b[39m\n\u001b[32m    352\u001b[39m \u001b[38;5;28;01mdef\u001b[39;00m\u001b[38;5;250m \u001b[39m\u001b[34mfetch\u001b[39m(\u001b[38;5;28mself\u001b[39m, video_id: \u001b[38;5;28mstr\u001b[39m) -> TranscriptList:\n\u001b[32m    353\u001b[39m     \u001b[38;5;28;01mreturn\u001b[39;00m TranscriptList.build(\n\u001b[32m    354\u001b[39m         \u001b[38;5;28mself\u001b[39m._http_client,\n\u001b[32m    355\u001b[39m         video_id,\n\u001b[32m--> \u001b[39m\u001b[32m356\u001b[39m         \u001b[38;5;28;43mself\u001b[39;49m\u001b[43m.\u001b[49m\u001b[43m_fetch_captions_json\u001b[49m\u001b[43m(\u001b[49m\u001b[43mvideo_id\u001b[49m\u001b[43m)\u001b[49m,\n\u001b[32m    357\u001b[39m     )\n",
      "\u001b[36mFile \u001b[39m\u001b[32mc:\\Users\\gabri\\Documents\\neroedu-gemma3n\\env\\Lib\\site-packages\\youtube_transcript_api\\_transcripts.py:361\u001b[39m, in \u001b[36mTranscriptListFetcher._fetch_captions_json\u001b[39m\u001b[34m(self, video_id, try_number)\u001b[39m\n\u001b[32m    359\u001b[39m \u001b[38;5;28;01mdef\u001b[39;00m\u001b[38;5;250m \u001b[39m\u001b[34m_fetch_captions_json\u001b[39m(\u001b[38;5;28mself\u001b[39m, video_id: \u001b[38;5;28mstr\u001b[39m, try_number: \u001b[38;5;28mint\u001b[39m = \u001b[32m0\u001b[39m) -> Dict:\n\u001b[32m    360\u001b[39m     \u001b[38;5;28;01mtry\u001b[39;00m:\n\u001b[32m--> \u001b[39m\u001b[32m361\u001b[39m         html = \u001b[38;5;28;43mself\u001b[39;49m\u001b[43m.\u001b[49m\u001b[43m_fetch_video_html\u001b[49m\u001b[43m(\u001b[49m\u001b[43mvideo_id\u001b[49m\u001b[43m)\u001b[49m\n\u001b[32m    362\u001b[39m         api_key = \u001b[38;5;28mself\u001b[39m._extract_innertube_api_key(html, video_id)\n\u001b[32m    363\u001b[39m         innertube_data = \u001b[38;5;28mself\u001b[39m._fetch_innertube_data(video_id, api_key)\n",
      "\u001b[36mFile \u001b[39m\u001b[32mc:\\Users\\gabri\\Documents\\neroedu-gemma3n\\env\\Lib\\site-packages\\youtube_transcript_api\\_transcripts.py:433\u001b[39m, in \u001b[36mTranscriptListFetcher._fetch_video_html\u001b[39m\u001b[34m(self, video_id)\u001b[39m\n\u001b[32m    432\u001b[39m \u001b[38;5;28;01mdef\u001b[39;00m\u001b[38;5;250m \u001b[39m\u001b[34m_fetch_video_html\u001b[39m(\u001b[38;5;28mself\u001b[39m, video_id: \u001b[38;5;28mstr\u001b[39m) -> \u001b[38;5;28mstr\u001b[39m:\n\u001b[32m--> \u001b[39m\u001b[32m433\u001b[39m     html = \u001b[38;5;28;43mself\u001b[39;49m\u001b[43m.\u001b[49m\u001b[43m_fetch_html\u001b[49m\u001b[43m(\u001b[49m\u001b[43mvideo_id\u001b[49m\u001b[43m)\u001b[49m\n\u001b[32m    434\u001b[39m     \u001b[38;5;28;01mif\u001b[39;00m \u001b[33m'\u001b[39m\u001b[33maction=\u001b[39m\u001b[33m\"\u001b[39m\u001b[33mhttps://consent.youtube.com/s\u001b[39m\u001b[33m\"\u001b[39m\u001b[33m'\u001b[39m \u001b[38;5;129;01min\u001b[39;00m html:\n\u001b[32m    435\u001b[39m         \u001b[38;5;28mself\u001b[39m._create_consent_cookie(html, video_id)\n",
      "\u001b[36mFile \u001b[39m\u001b[32mc:\\Users\\gabri\\Documents\\neroedu-gemma3n\\env\\Lib\\site-packages\\youtube_transcript_api\\_transcripts.py:442\u001b[39m, in \u001b[36mTranscriptListFetcher._fetch_html\u001b[39m\u001b[34m(self, video_id)\u001b[39m\n\u001b[32m    441\u001b[39m \u001b[38;5;28;01mdef\u001b[39;00m\u001b[38;5;250m \u001b[39m\u001b[34m_fetch_html\u001b[39m(\u001b[38;5;28mself\u001b[39m, video_id: \u001b[38;5;28mstr\u001b[39m) -> \u001b[38;5;28mstr\u001b[39m:\n\u001b[32m--> \u001b[39m\u001b[32m442\u001b[39m     response = \u001b[38;5;28;43mself\u001b[39;49m\u001b[43m.\u001b[49m\u001b[43m_http_client\u001b[49m\u001b[43m.\u001b[49m\u001b[43mget\u001b[49m\u001b[43m(\u001b[49m\u001b[43mWATCH_URL\u001b[49m\u001b[43m.\u001b[49m\u001b[43mformat\u001b[49m\u001b[43m(\u001b[49m\u001b[43mvideo_id\u001b[49m\u001b[43m=\u001b[49m\u001b[43mvideo_id\u001b[49m\u001b[43m)\u001b[49m\u001b[43m)\u001b[49m\n\u001b[32m    443\u001b[39m     \u001b[38;5;28;01mreturn\u001b[39;00m unescape(_raise_http_errors(response, video_id).text)\n",
      "\u001b[36mFile \u001b[39m\u001b[32mc:\\Users\\gabri\\Documents\\neroedu-gemma3n\\env\\Lib\\site-packages\\requests\\sessions.py:602\u001b[39m, in \u001b[36mSession.get\u001b[39m\u001b[34m(self, url, **kwargs)\u001b[39m\n\u001b[32m    594\u001b[39m \u001b[38;5;250m\u001b[39m\u001b[33mr\u001b[39m\u001b[33;03m\"\"\"Sends a GET request. Returns :class:`Response` object.\u001b[39;00m\n\u001b[32m    595\u001b[39m \n\u001b[32m    596\u001b[39m \u001b[33;03m:param url: URL for the new :class:`Request` object.\u001b[39;00m\n\u001b[32m    597\u001b[39m \u001b[33;03m:param \\*\\*kwargs: Optional arguments that ``request`` takes.\u001b[39;00m\n\u001b[32m    598\u001b[39m \u001b[33;03m:rtype: requests.Response\u001b[39;00m\n\u001b[32m    599\u001b[39m \u001b[33;03m\"\"\"\u001b[39;00m\n\u001b[32m    601\u001b[39m kwargs.setdefault(\u001b[33m\"\u001b[39m\u001b[33mallow_redirects\u001b[39m\u001b[33m\"\u001b[39m, \u001b[38;5;28;01mTrue\u001b[39;00m)\n\u001b[32m--> \u001b[39m\u001b[32m602\u001b[39m \u001b[38;5;28;01mreturn\u001b[39;00m \u001b[38;5;28;43mself\u001b[39;49m\u001b[43m.\u001b[49m\u001b[43mrequest\u001b[49m\u001b[43m(\u001b[49m\u001b[33;43m\"\u001b[39;49m\u001b[33;43mGET\u001b[39;49m\u001b[33;43m\"\u001b[39;49m\u001b[43m,\u001b[49m\u001b[43m \u001b[49m\u001b[43murl\u001b[49m\u001b[43m,\u001b[49m\u001b[43m \u001b[49m\u001b[43m*\u001b[49m\u001b[43m*\u001b[49m\u001b[43mkwargs\u001b[49m\u001b[43m)\u001b[49m\n",
      "\u001b[36mFile \u001b[39m\u001b[32mc:\\Users\\gabri\\Documents\\neroedu-gemma3n\\env\\Lib\\site-packages\\requests\\sessions.py:589\u001b[39m, in \u001b[36mSession.request\u001b[39m\u001b[34m(self, method, url, params, data, headers, cookies, files, auth, timeout, allow_redirects, proxies, hooks, stream, verify, cert, json)\u001b[39m\n\u001b[32m    584\u001b[39m send_kwargs = {\n\u001b[32m    585\u001b[39m     \u001b[33m\"\u001b[39m\u001b[33mtimeout\u001b[39m\u001b[33m\"\u001b[39m: timeout,\n\u001b[32m    586\u001b[39m     \u001b[33m\"\u001b[39m\u001b[33mallow_redirects\u001b[39m\u001b[33m\"\u001b[39m: allow_redirects,\n\u001b[32m    587\u001b[39m }\n\u001b[32m    588\u001b[39m send_kwargs.update(settings)\n\u001b[32m--> \u001b[39m\u001b[32m589\u001b[39m resp = \u001b[38;5;28;43mself\u001b[39;49m\u001b[43m.\u001b[49m\u001b[43msend\u001b[49m\u001b[43m(\u001b[49m\u001b[43mprep\u001b[49m\u001b[43m,\u001b[49m\u001b[43m \u001b[49m\u001b[43m*\u001b[49m\u001b[43m*\u001b[49m\u001b[43msend_kwargs\u001b[49m\u001b[43m)\u001b[49m\n\u001b[32m    591\u001b[39m \u001b[38;5;28;01mreturn\u001b[39;00m resp\n",
      "\u001b[36mFile \u001b[39m\u001b[32mc:\\Users\\gabri\\Documents\\neroedu-gemma3n\\env\\Lib\\site-packages\\requests\\sessions.py:746\u001b[39m, in \u001b[36mSession.send\u001b[39m\u001b[34m(self, request, **kwargs)\u001b[39m\n\u001b[32m    743\u001b[39m         \u001b[38;5;28;01mpass\u001b[39;00m\n\u001b[32m    745\u001b[39m \u001b[38;5;28;01mif\u001b[39;00m \u001b[38;5;129;01mnot\u001b[39;00m stream:\n\u001b[32m--> \u001b[39m\u001b[32m746\u001b[39m     \u001b[43mr\u001b[49m\u001b[43m.\u001b[49m\u001b[43mcontent\u001b[49m\n\u001b[32m    748\u001b[39m \u001b[38;5;28;01mreturn\u001b[39;00m r\n",
      "\u001b[36mFile \u001b[39m\u001b[32mc:\\Users\\gabri\\Documents\\neroedu-gemma3n\\env\\Lib\\site-packages\\requests\\models.py:902\u001b[39m, in \u001b[36mResponse.content\u001b[39m\u001b[34m(self)\u001b[39m\n\u001b[32m    900\u001b[39m         \u001b[38;5;28mself\u001b[39m._content = \u001b[38;5;28;01mNone\u001b[39;00m\n\u001b[32m    901\u001b[39m     \u001b[38;5;28;01melse\u001b[39;00m:\n\u001b[32m--> \u001b[39m\u001b[32m902\u001b[39m         \u001b[38;5;28mself\u001b[39m._content = \u001b[33mb\u001b[39m\u001b[33m\"\u001b[39m\u001b[33m\"\u001b[39m.join(\u001b[38;5;28mself\u001b[39m.iter_content(CONTENT_CHUNK_SIZE)) \u001b[38;5;129;01mor\u001b[39;00m \u001b[33mb\u001b[39m\u001b[33m\"\u001b[39m\u001b[33m\"\u001b[39m\n\u001b[32m    904\u001b[39m \u001b[38;5;28mself\u001b[39m._content_consumed = \u001b[38;5;28;01mTrue\u001b[39;00m\n\u001b[32m    905\u001b[39m \u001b[38;5;66;03m# don't need to release the connection; that's been handled by urllib3\u001b[39;00m\n\u001b[32m    906\u001b[39m \u001b[38;5;66;03m# since we exhausted the data.\u001b[39;00m\n",
      "\u001b[36mFile \u001b[39m\u001b[32mc:\\Users\\gabri\\Documents\\neroedu-gemma3n\\env\\Lib\\site-packages\\requests\\models.py:820\u001b[39m, in \u001b[36mResponse.iter_content.<locals>.generate\u001b[39m\u001b[34m()\u001b[39m\n\u001b[32m    818\u001b[39m \u001b[38;5;28;01mif\u001b[39;00m \u001b[38;5;28mhasattr\u001b[39m(\u001b[38;5;28mself\u001b[39m.raw, \u001b[33m\"\u001b[39m\u001b[33mstream\u001b[39m\u001b[33m\"\u001b[39m):\n\u001b[32m    819\u001b[39m     \u001b[38;5;28;01mtry\u001b[39;00m:\n\u001b[32m--> \u001b[39m\u001b[32m820\u001b[39m         \u001b[38;5;28;01myield from\u001b[39;00m \u001b[38;5;28mself\u001b[39m.raw.stream(chunk_size, decode_content=\u001b[38;5;28;01mTrue\u001b[39;00m)\n\u001b[32m    821\u001b[39m     \u001b[38;5;28;01mexcept\u001b[39;00m ProtocolError \u001b[38;5;28;01mas\u001b[39;00m e:\n\u001b[32m    822\u001b[39m         \u001b[38;5;28;01mraise\u001b[39;00m ChunkedEncodingError(e)\n",
      "\u001b[36mFile \u001b[39m\u001b[32mc:\\Users\\gabri\\Documents\\neroedu-gemma3n\\env\\Lib\\site-packages\\urllib3\\response.py:1088\u001b[39m, in \u001b[36mHTTPResponse.stream\u001b[39m\u001b[34m(self, amt, decode_content)\u001b[39m\n\u001b[32m   1072\u001b[39m \u001b[38;5;250m\u001b[39m\u001b[33;03m\"\"\"\u001b[39;00m\n\u001b[32m   1073\u001b[39m \u001b[33;03mA generator wrapper for the read() method. A call will block until\u001b[39;00m\n\u001b[32m   1074\u001b[39m \u001b[33;03m``amt`` bytes have been read from the connection or until the\u001b[39;00m\n\u001b[32m   (...)\u001b[39m\u001b[32m   1085\u001b[39m \u001b[33;03m    'content-encoding' header.\u001b[39;00m\n\u001b[32m   1086\u001b[39m \u001b[33;03m\"\"\"\u001b[39;00m\n\u001b[32m   1087\u001b[39m \u001b[38;5;28;01mif\u001b[39;00m \u001b[38;5;28mself\u001b[39m.chunked \u001b[38;5;129;01mand\u001b[39;00m \u001b[38;5;28mself\u001b[39m.supports_chunked_reads():\n\u001b[32m-> \u001b[39m\u001b[32m1088\u001b[39m     \u001b[38;5;28;01myield from\u001b[39;00m \u001b[38;5;28mself\u001b[39m.read_chunked(amt, decode_content=decode_content)\n\u001b[32m   1089\u001b[39m \u001b[38;5;28;01melse\u001b[39;00m:\n\u001b[32m   1090\u001b[39m     \u001b[38;5;28;01mwhile\u001b[39;00m \u001b[38;5;129;01mnot\u001b[39;00m is_fp_closed(\u001b[38;5;28mself\u001b[39m._fp) \u001b[38;5;129;01mor\u001b[39;00m \u001b[38;5;28mlen\u001b[39m(\u001b[38;5;28mself\u001b[39m._decoded_buffer) > \u001b[32m0\u001b[39m:\n",
      "\u001b[36mFile \u001b[39m\u001b[32mc:\\Users\\gabri\\Documents\\neroedu-gemma3n\\env\\Lib\\site-packages\\urllib3\\response.py:1248\u001b[39m, in \u001b[36mHTTPResponse.read_chunked\u001b[39m\u001b[34m(self, amt, decode_content)\u001b[39m\n\u001b[32m   1245\u001b[39m     amt = \u001b[38;5;28;01mNone\u001b[39;00m\n\u001b[32m   1247\u001b[39m \u001b[38;5;28;01mwhile\u001b[39;00m \u001b[38;5;28;01mTrue\u001b[39;00m:\n\u001b[32m-> \u001b[39m\u001b[32m1248\u001b[39m     \u001b[38;5;28;43mself\u001b[39;49m\u001b[43m.\u001b[49m\u001b[43m_update_chunk_length\u001b[49m\u001b[43m(\u001b[49m\u001b[43m)\u001b[49m\n\u001b[32m   1249\u001b[39m     \u001b[38;5;28;01mif\u001b[39;00m \u001b[38;5;28mself\u001b[39m.chunk_left == \u001b[32m0\u001b[39m:\n\u001b[32m   1250\u001b[39m         \u001b[38;5;28;01mbreak\u001b[39;00m\n",
      "\u001b[36mFile \u001b[39m\u001b[32mc:\\Users\\gabri\\Documents\\neroedu-gemma3n\\env\\Lib\\site-packages\\urllib3\\response.py:1167\u001b[39m, in \u001b[36mHTTPResponse._update_chunk_length\u001b[39m\u001b[34m(self)\u001b[39m\n\u001b[32m   1165\u001b[39m \u001b[38;5;28;01mif\u001b[39;00m \u001b[38;5;28mself\u001b[39m.chunk_left \u001b[38;5;129;01mis\u001b[39;00m \u001b[38;5;129;01mnot\u001b[39;00m \u001b[38;5;28;01mNone\u001b[39;00m:\n\u001b[32m   1166\u001b[39m     \u001b[38;5;28;01mreturn\u001b[39;00m \u001b[38;5;28;01mNone\u001b[39;00m\n\u001b[32m-> \u001b[39m\u001b[32m1167\u001b[39m line = \u001b[38;5;28mself\u001b[39m._fp.fp.readline()  \u001b[38;5;66;03m# type: ignore[union-attr]\u001b[39;00m\n\u001b[32m   1168\u001b[39m line = line.split(\u001b[33mb\u001b[39m\u001b[33m\"\u001b[39m\u001b[33m;\u001b[39m\u001b[33m\"\u001b[39m, \u001b[32m1\u001b[39m)[\u001b[32m0\u001b[39m]\n\u001b[32m   1169\u001b[39m \u001b[38;5;28;01mtry\u001b[39;00m:\n",
      "\u001b[36mFile \u001b[39m\u001b[32m~\\anaconda3\\envs\\langgraph\\Lib\\socket.py:718\u001b[39m, in \u001b[36mSocketIO.readinto\u001b[39m\u001b[34m(self, b)\u001b[39m\n\u001b[32m    716\u001b[39m \u001b[38;5;28;01mwhile\u001b[39;00m \u001b[38;5;28;01mTrue\u001b[39;00m:\n\u001b[32m    717\u001b[39m     \u001b[38;5;28;01mtry\u001b[39;00m:\n\u001b[32m--> \u001b[39m\u001b[32m718\u001b[39m         \u001b[38;5;28;01mreturn\u001b[39;00m \u001b[38;5;28;43mself\u001b[39;49m\u001b[43m.\u001b[49m\u001b[43m_sock\u001b[49m\u001b[43m.\u001b[49m\u001b[43mrecv_into\u001b[49m\u001b[43m(\u001b[49m\u001b[43mb\u001b[49m\u001b[43m)\u001b[49m\n\u001b[32m    719\u001b[39m     \u001b[38;5;28;01mexcept\u001b[39;00m timeout:\n\u001b[32m    720\u001b[39m         \u001b[38;5;28mself\u001b[39m._timeout_occurred = \u001b[38;5;28;01mTrue\u001b[39;00m\n",
      "\u001b[36mFile \u001b[39m\u001b[32m~\\anaconda3\\envs\\langgraph\\Lib\\ssl.py:1314\u001b[39m, in \u001b[36mSSLSocket.recv_into\u001b[39m\u001b[34m(self, buffer, nbytes, flags)\u001b[39m\n\u001b[32m   1310\u001b[39m     \u001b[38;5;28;01mif\u001b[39;00m flags != \u001b[32m0\u001b[39m:\n\u001b[32m   1311\u001b[39m         \u001b[38;5;28;01mraise\u001b[39;00m \u001b[38;5;167;01mValueError\u001b[39;00m(\n\u001b[32m   1312\u001b[39m           \u001b[33m\"\u001b[39m\u001b[33mnon-zero flags not allowed in calls to recv_into() on \u001b[39m\u001b[38;5;132;01m%s\u001b[39;00m\u001b[33m\"\u001b[39m %\n\u001b[32m   1313\u001b[39m           \u001b[38;5;28mself\u001b[39m.\u001b[34m__class__\u001b[39m)\n\u001b[32m-> \u001b[39m\u001b[32m1314\u001b[39m     \u001b[38;5;28;01mreturn\u001b[39;00m \u001b[38;5;28;43mself\u001b[39;49m\u001b[43m.\u001b[49m\u001b[43mread\u001b[49m\u001b[43m(\u001b[49m\u001b[43mnbytes\u001b[49m\u001b[43m,\u001b[49m\u001b[43m \u001b[49m\u001b[43mbuffer\u001b[49m\u001b[43m)\u001b[49m\n\u001b[32m   1315\u001b[39m \u001b[38;5;28;01melse\u001b[39;00m:\n\u001b[32m   1316\u001b[39m     \u001b[38;5;28;01mreturn\u001b[39;00m \u001b[38;5;28msuper\u001b[39m().recv_into(buffer, nbytes, flags)\n",
      "\u001b[36mFile \u001b[39m\u001b[32m~\\anaconda3\\envs\\langgraph\\Lib\\ssl.py:1166\u001b[39m, in \u001b[36mSSLSocket.read\u001b[39m\u001b[34m(self, len, buffer)\u001b[39m\n\u001b[32m   1164\u001b[39m \u001b[38;5;28;01mtry\u001b[39;00m:\n\u001b[32m   1165\u001b[39m     \u001b[38;5;28;01mif\u001b[39;00m buffer \u001b[38;5;129;01mis\u001b[39;00m \u001b[38;5;129;01mnot\u001b[39;00m \u001b[38;5;28;01mNone\u001b[39;00m:\n\u001b[32m-> \u001b[39m\u001b[32m1166\u001b[39m         \u001b[38;5;28;01mreturn\u001b[39;00m \u001b[38;5;28;43mself\u001b[39;49m\u001b[43m.\u001b[49m\u001b[43m_sslobj\u001b[49m\u001b[43m.\u001b[49m\u001b[43mread\u001b[49m\u001b[43m(\u001b[49m\u001b[38;5;28;43mlen\u001b[39;49m\u001b[43m,\u001b[49m\u001b[43m \u001b[49m\u001b[43mbuffer\u001b[49m\u001b[43m)\u001b[49m\n\u001b[32m   1167\u001b[39m     \u001b[38;5;28;01melse\u001b[39;00m:\n\u001b[32m   1168\u001b[39m         \u001b[38;5;28;01mreturn\u001b[39;00m \u001b[38;5;28mself\u001b[39m._sslobj.read(\u001b[38;5;28mlen\u001b[39m)\n",
      "\u001b[31mKeyboardInterrupt\u001b[39m: "
     ]
    }
   ],
   "source": [
    "response = get_data_from_playlist(\"https://www.youtube.com/playlist?list=PLrIEi9PL7EuHt05NBceRFFv5o2m_Bj40d\", \"es\")"
   ]
  },
  {
   "cell_type": "code",
   "execution_count": 12,
   "id": "cdff5227",
   "metadata": {},
   "outputs": [],
   "source": [
    "example = \"https://www.youtube.com/watch?v=mbsCUmJNheM\" \n",
    "url_video = example\n",
    "video_id = url_video.find(\"v=\")\n",
    "video_id = url_video[video_id+2:]\n",
    "ytt_api = YouTubeTranscriptApi() "
   ]
  },
  {
   "cell_type": "code",
   "execution_count": 14,
   "id": "844b40c9",
   "metadata": {},
   "outputs": [],
   "source": [
    "transcript_list = ytt_api.list(video_id)"
   ]
  },
  {
   "cell_type": "code",
   "execution_count": 19,
   "id": "6570d47b",
   "metadata": {},
   "outputs": [
    {
     "name": "stdout",
     "output_type": "stream",
     "text": [
      "mbsCUmJNheM Spanish (auto-generated) es True True [_TranslationLanguage(language='English', language_code='en')]\n",
      "FetchedTranscript(snippets=[FetchedTranscriptSnippet(text='Hola chicos Cómo están les saludo con', start=0.9, duration=4.02), FetchedTranscriptSnippet(text='muchísimo gusto ya saben que mi nombre', start=3.179, duration=3.541), FetchedTranscriptSnippet(text='es Cristian que soy el profe Cristian y', start=4.92, duration=3.48), FetchedTranscriptSnippet(text='que soy el profe que más conoce de exani', start=6.72, duration=4.499), FetchedTranscriptSnippet(text='en todo el país chicos Les traigo una', start=8.4, duration=4.56), FetchedTranscriptSnippet(text='buena noticia quiero que sepan que les', start=11.219, duration=3.96), FetchedTranscriptSnippet(text='voy a compartir un curso completito de', start=12.96, duration=3.96), FetchedTranscriptSnippet(text='redacción directa para todas aquellas', start=15.179, duration=3.901), FetchedTranscriptSnippet(text='personas que van a hacer el nuevo Sony 2', start=16.92, duration=4.019), FetchedTranscriptSnippet(text='en alguna universidad en el país No', start=19.08, duration=3.84), FetchedTranscriptSnippet(text='importa si vas a hacer a la UADY si', start=20.939, duration=4.021), FetchedTranscriptSnippet(text='estás aplicando en v a La Naval militar', start=22.92, duration=4.8), FetchedTranscriptSnippet(text='a Sonora a Sinaloa a cualquier', start=24.96, duration=4.559), FetchedTranscriptSnippet(text='universidad siempre y cuando éste esté', start=27.72, duration=3.42), FetchedTranscriptSnippet(text='aplicando un nuevo oxen y 2 Quiero que', start=29.519, duration=3.661), FetchedTranscriptSnippet(text='sepas que estás en el espacio indicado', start=31.14, duration=4.38), FetchedTranscriptSnippet(text='para tu preparación Acuérdate que yo', start=33.18, duration=4.44), FetchedTranscriptSnippet(text='todo lo que te comparto en este canal lo', start=35.52, duration=3.66), FetchedTranscriptSnippet(text='hago con muchísimo gusto con muchísimo', start=37.62, duration=3.66), FetchedTranscriptSnippet(text='corazón con muchísimo cariño para todos', start=39.18, duration=4.26), FetchedTranscriptSnippet(text='ustedes y quiero que saquen siempre algo', start=41.28, duration=3.599), FetchedTranscriptSnippet(text='positivo de cada uno de mis vídeos', start=43.44, duration=3.84), FetchedTranscriptSnippet(text='siempre siempre te voy a compartir cosas', start=44.879, duration=4.2), FetchedTranscriptSnippet(text='que sean funcionales para tu examen de', start=47.28, duration=4.619), FetchedTranscriptSnippet(text='admisión cosas que reflejan en gran', start=49.079, duration=5.281), FetchedTranscriptSnippet(text='medida el tipo de problema y el nivel de', start=51.899, duration=4.081), FetchedTranscriptSnippet(text='dificultad al cual tú te vas a enfrentar', start=54.36, duration=3.6), FetchedTranscriptSnippet(text='el día del examen real y estoy seguro', start=55.98, duration=3.419), FetchedTranscriptSnippet(text='que este curso no va a ser la excepción', start=57.96, duration=3.54), FetchedTranscriptSnippet(text='te traigo cosas muy importantes te', start=59.399, duration=3.541), FetchedTranscriptSnippet(text='traigo cosas muy valiosas para todos', start=61.5, duration=2.94), FetchedTranscriptSnippet(text='ustedes en el área de reacción directa', start=62.94, duration=3.539), FetchedTranscriptSnippet(text='sale qué es lo que te voy a compartir', start=64.44, duration=4.74), FetchedTranscriptSnippet(text='fíjate bien van a ser 14 clases en esas', start=66.479, duration=4.32), FetchedTranscriptSnippet(text='14 clases te voy a compartir la', start=69.18, duration=3.9), FetchedTranscriptSnippet(text='explicación de este temario este temario', start=70.799, duration=4.261), FetchedTranscriptSnippet(text='tú dónde lo puedes conseguir lo puedes', start=73.08, duration=3.539), FetchedTranscriptSnippet(text='conseguir prácticamente en la página', start=75.06, duration=3.84), FetchedTranscriptSnippet(text='oficial de Ceneval Si tú te vas a la', start=76.619, duration=3.54), FetchedTranscriptSnippet(text='página oficial de Ceneval en internet', start=78.9, duration=3.66), FetchedTranscriptSnippet(text='pues vas a descargar este documento que', start=80.159, duration=3.96), FetchedTranscriptSnippet(text='te va a proporcionar los temas completos', start=82.56, duration=3.059), FetchedTranscriptSnippet(text='de comprensión lectora de pensamiento', start=84.119, duration=3.481), FetchedTranscriptSnippet(text='matemático y de redacción directa que', start=85.619, duration=3.421), FetchedTranscriptSnippet(text='son las tres acciones del examen de', start=87.6, duration=3.3), FetchedTranscriptSnippet(text='admisión Si te vas a la parte de', start=89.04, duration=4.079), FetchedTranscriptSnippet(text='redacción directa aquí te lo voy a', start=90.9, duration=4.5), FetchedTranscriptSnippet(text='mostrar te vas a encontrar con estos', start=93.119, duration=4.561), FetchedTranscriptSnippet(text='temas sale fíjate bien con estos temas', start=95.4, duration=4.259), FetchedTranscriptSnippet(text='quiero decirte que te los voy a explicar', start=97.68, duration=4.799), FetchedTranscriptSnippet(text='todos te voy a explicar con peras y', start=99.659, duration=4.32), FetchedTranscriptSnippet(text='manzanas De qué trata cada uno de estos', start=102.479, duration=3.301), FetchedTranscriptSnippet(text='temas y sobre todo te voy a explicar te', start=103.979, duration=4.261), FetchedTranscriptSnippet(text='voy a compartir ejercicios de examen de', start=105.78, duration=5.519), FetchedTranscriptSnippet(text='cada uno de estos tópicos vale fíjate', start=108.24, duration=4.739), FetchedTranscriptSnippet(text='bien te voy a explicar en las clases que', start=111.299, duration=4.381), FetchedTranscriptSnippet(text='es el registro lingüístico también que', start=112.979, duration=5.221), FetchedTranscriptSnippet(text='es el prólogo que es el ensayo que es la', start=115.68, duration=7.04), FetchedTranscriptSnippet(text='reseña te voy a compartir ejercicios de', start=118.2, duration=4.52), FetchedTranscriptSnippet(text='a los que se han presentado y', start=180.72, duration=3.36), FetchedTranscriptSnippet(text='Consecuentemente casi el tipo de', start=182.28, duration=3.12), FetchedTranscriptSnippet(text='reactivo al cual tú te vas a enfrentar', start=184.08, duration=3.54), FetchedTranscriptSnippet(text='el día del examen real va entonces', start=185.4, duration=4.26), FetchedTranscriptSnippet(text='Espero que me acompañes en cada una de', start=187.62, duration=3.899), FetchedTranscriptSnippet(text='las siguientes clases Recuerda que las', start=189.66, duration=3.299), FetchedTranscriptSnippet(text='voy a hacer con muchísimo gusto con', start=191.519, duration=3.72), FetchedTranscriptSnippet(text='muchísimo corazón con muchísimo afecto y', start=192.959, duration=4.021), FetchedTranscriptSnippet(text='Solamente espero que me apoyes que me', start=195.239, duration=3.541), FetchedTranscriptSnippet(text='ayudes a llegar a más personas quiero', start=196.98, duration=3.78), FetchedTranscriptSnippet(text='que este espacio quiero que el canal del', start=198.78, duration=3.539), FetchedTranscriptSnippet(text='profe Christian sea un lugar especial', start=200.76, duration=3.479), FetchedTranscriptSnippet(text='para todas aquellas personas que van a', start=202.319, duration=3.541), FetchedTranscriptSnippet(text='hacer el nuevo boxent2 en alguna', start=204.239, duration=3.601), FetchedTranscriptSnippet(text='universidad mexicana y cómo puedes', start=205.86, duration=3.84), FetchedTranscriptSnippet(text='ayudarme a conseguir este sueño pues', start=207.84, duration=3.84), FetchedTranscriptSnippet(text='dejándome un me gusta y un comentario y', start=209.7, duration=3.78), FetchedTranscriptSnippet(text='compartiendo este contenido con tus', start=211.68, duration=3.96), FetchedTranscriptSnippet(text='conocidos que sepas que vayan a hacer el', start=213.48, duration=4.44), FetchedTranscriptSnippet(text='nuevo contenido 2 ayúdame a llegar a más', start=215.64, duration=3.9), FetchedTranscriptSnippet(text='personas y estoy seguro que yo te voy a', start=217.92, duration=3.66), FetchedTranscriptSnippet(text='ayudar a conseguir todos tus sueños en', start=219.54, duration=4.38), FetchedTranscriptSnippet(text='la universidad sale Entonces espero que', start=221.58, duration=4.439), FetchedTranscriptSnippet(text='estés muy bien que estés estudiando que', start=223.92, duration=4.26), FetchedTranscriptSnippet(text='te estés preparando esforzando Recuerda', start=226.019, duration=3.841), FetchedTranscriptSnippet(text='que vienen cosas muy positivas para ti', start=228.18, duration=3.9), FetchedTranscriptSnippet(text='cosas Muy bellas muy bonitas para ti en', start=229.86, duration=4.2), FetchedTranscriptSnippet(text='la universidad y espero yo apoyarte en', start=232.08, duration=3.96), FetchedTranscriptSnippet(text='esta etapa tan vulnerable tan importante', start=234.06, duration=3.36), FetchedTranscriptSnippet(text='también en la cual tú te encuentras', start=236.04, duration=3.779), FetchedTranscriptSnippet(text='entonces cuídense mucho y nos vemos en', start=237.42, duration=4.56), FetchedTranscriptSnippet(text='la siguiente clase Les mando un beso y', start=239.819, duration=5.0), FetchedTranscriptSnippet(text='un gran abrazo Bye', start=241.98, duration=2.839)], video_id='mbsCUmJNheM', language='Spanish (auto-generated)', language_code='es', is_generated=True)\n",
      "FetchedTranscript(snippets=[FetchedTranscriptSnippet(text='Hello guys How are you I greet you with', start=0.9, duration=4.02), FetchedTranscriptSnippet(text='great pleasure you already know that my name', start=3.179, duration=3.541), FetchedTranscriptSnippet(text='is Cristian, that I am the teacher Cristian and', start=4.92, duration=3.48), FetchedTranscriptSnippet(text='that I am the teacher who knows the most about exani', start=6.72, duration=4.499), FetchedTranscriptSnippet(text='in the entire country. Guys I have', start=8.4, duration=4.56), FetchedTranscriptSnippet(text='good news for you, I want you to know that I am', start=11.219, duration=3.96), FetchedTranscriptSnippet(text='going to share with you a complete', start=12.96, duration=3.96), FetchedTranscriptSnippet(text='direct writing course for all those', start=15.179, duration=3.901), FetchedTranscriptSnippet(text='people who are going to take the new Sony 2', start=16.92, duration=4.019), FetchedTranscriptSnippet(text='at a university in the country. It does not', start=19.08, duration=3.84), FetchedTranscriptSnippet(text='matter if you are going to do the UADY if you', start=20.939, duration=4.021), FetchedTranscriptSnippet(text='are applying in v to the Military Naval', start=22.92, duration=4.8), FetchedTranscriptSnippet(text='to Sonora to Sinaloa to any', start=24.96, duration=4.559), FetchedTranscriptSnippet(text='university as long as it is', start=27.72, duration=3.42), FetchedTranscriptSnippet(text='applying for a new oxen and 2 I want you to', start=29.519, duration=3.661), FetchedTranscriptSnippet(text='know that you are in the right place', start=31.14, duration=4.38), FetchedTranscriptSnippet(text='for your preparation Remember that', start=33.18, duration=4.44), FetchedTranscriptSnippet(text='everything I share with you on this channel I', start=35.52, duration=3.66), FetchedTranscriptSnippet(text='do with great pleasure with a lot of', start=37.62, duration=3.66), FetchedTranscriptSnippet(text='heart with a lot of love for all of', start=39.18, duration=4.26), FetchedTranscriptSnippet(text='you and I want you to always get something', start=41.28, duration=3.599), FetchedTranscriptSnippet(text='positive out of each of my videos I will', start=43.44, duration=3.84), FetchedTranscriptSnippet(text='always always share things with you', start=44.879, duration=4.2), FetchedTranscriptSnippet(text='that are functional for your', start=47.28, duration=4.619), FetchedTranscriptSnippet(text='entrance exam things that largely reflect', start=49.079, duration=5.281), FetchedTranscriptSnippet(text='the type of problem and the level of', start=51.899, duration=4.081), FetchedTranscriptSnippet(text='difficulty that you are going to face on', start=54.36, duration=3.6), FetchedTranscriptSnippet(text='the day of the real exam and I am sure', start=55.98, duration=3.419), FetchedTranscriptSnippet(text='that this course will not be the exception I', start=57.96, duration=3.54), FetchedTranscriptSnippet(text='bring you very  important I', start=59.399, duration=3.541), FetchedTranscriptSnippet(text='bring you very valuable things for all of', start=61.5, duration=2.94), FetchedTranscriptSnippet(text='you in the area of direct reaction', start=62.94, duration=3.539), FetchedTranscriptSnippet(text='what is that I am going to share', start=64.44, duration=4.74), FetchedTranscriptSnippet(text='with you look carefully there are going to be 14 classes in those 14 classes I am going to share with you the explanation of this syllabus this syllabus you can get it you can get it practically on the official Ceneval website if you go to the official Ceneval website on the internet', start=78.9, duration=3.66), FetchedTranscriptSnippet(text='then you are going to download this document that is', start=80.159, duration=3.96), FetchedTranscriptSnippet(text='going to provide you with the complete topics', start=82.56, duration=3.059), FetchedTranscriptSnippet(text='of reading comprehension', start=84.119, duration=3.481), FetchedTranscriptSnippet(text='mathematical thinking and direct writing which', start=85.619, duration=3.421), FetchedTranscriptSnippet(text='are the three actions of the', start=87.6, duration=3.3), FetchedTranscriptSnippet(text='admission exam if you go to the', start=89.04, duration=4.079), FetchedTranscriptSnippet(text='direct writing part here I am going to', start=90.9, duration=4.5), FetchedTranscriptSnippet(text='show it to you you are going to find these', start=93.119, duration=4.561), FetchedTranscriptSnippet(text='topics look carefully with these topics', start=95.4, duration=4.259), FetchedTranscriptSnippet(text='I want to tell you that I am going to explain them', start=97.68, duration=4.799), FetchedTranscriptSnippet(text='all to you I am going to explain in', start=99.659, duration=4.32), FetchedTranscriptSnippet(text='detail what each one of these', start=102.479, duration=3.301), FetchedTranscriptSnippet(text='topics is about and above all I am going to explain I am', start=103.979, duration=4.261), FetchedTranscriptSnippet(text='going to share exam exercises for', start=105.78, duration=5.519), FetchedTranscriptSnippet(text='each one of these topics okay look carefully I am', start=108.24, duration=4.739), FetchedTranscriptSnippet(text='going to explain to you in class what', start=111.299, duration=4.381), FetchedTranscriptSnippet(text='is the linguistic register also what is', start=112.979, duration=5.221), FetchedTranscriptSnippet(text='the prologue which is the essay which is the', start=115.68, duration=7.04), FetchedTranscriptSnippet(text='review I am going to share exercises with you from', start=118.2, duration=4.52), FetchedTranscriptSnippet(text='those who have presented themselves and', start=180.72, duration=3.36), FetchedTranscriptSnippet(text='consequently almost the type of', start=182.28, duration=3.12), FetchedTranscriptSnippet(text='reagent that you are going to face', start=184.08, duration=3.54), FetchedTranscriptSnippet(text='on the day of the real exam goes then', start=185.4, duration=4.26), FetchedTranscriptSnippet(text='I hope you accompany me in each of', start=187.62, duration=3.899), FetchedTranscriptSnippet(text='the following classes Remember that I am', start=189.66, duration=3.299), FetchedTranscriptSnippet(text='going to do them with great pleasure with', start=191.519, duration=3.72), FetchedTranscriptSnippet(text='a lot of heart with a lot of affection and I', start=192.959, duration=4.021), FetchedTranscriptSnippet(text='only hope that you support me, that you', start=195.239, duration=3.541), FetchedTranscriptSnippet(text='help me reach more people I want', start=196.98, duration=3.78), FetchedTranscriptSnippet(text='this space I want', start=198.78, duration=3.539), FetchedTranscriptSnippet(text=\"Professor Christian's channel to be a special place\", start=200.76, duration=3.479), FetchedTranscriptSnippet(text='for all those people who are going to', start=202.319, duration=3.541), FetchedTranscriptSnippet(text='do the new boxent2 at a', start=204.239, duration=3.601), FetchedTranscriptSnippet(text='Mexican university and how can you', start=205.86, duration=3.84), FetchedTranscriptSnippet(text='help me achieve this dream? Well, by', start=207.84, duration=3.84), FetchedTranscriptSnippet(text='leaving me a like and a comment and', start=209.7, duration=3.78), FetchedTranscriptSnippet(text='sharing this content with your', start=211.68, duration=3.96), FetchedTranscriptSnippet(text='acquaintances who you know are going to do the', start=213.48, duration=4.44), FetchedTranscriptSnippet(text='new content 2 help me reach more', start=215.64, duration=3.9), FetchedTranscriptSnippet(text='people and I am sure that I am going to', start=217.92, duration=3.66), FetchedTranscriptSnippet(text='help you achieve all your dreams at', start=219.54, duration=4.38), FetchedTranscriptSnippet(text='the university. So I hope you', start=221.58, duration=4.439), FetchedTranscriptSnippet(text='are very well, that you are studying, that', start=223.92, duration=4.26), FetchedTranscriptSnippet(text='you are preparing, making an effort. Remember', start=226.019, duration=3.841), FetchedTranscriptSnippet(text='that very positive things are coming for you,', start=228.18, duration=3.9), FetchedTranscriptSnippet(text='very beautiful things, very nice things for you at', start=229.86, duration=4.2), FetchedTranscriptSnippet(text='the university and I hope to support you in', start=232.08, duration=3.96), FetchedTranscriptSnippet(text='this very vulnerable stage,', start=234.06, duration=3.36), FetchedTranscriptSnippet(text='also so important, in which you find yourself, so take', start=236.04, duration=3.779), FetchedTranscriptSnippet(text='care of yourselves and I will see you  In', start=237.42, duration=4.56), FetchedTranscriptSnippet(text='the next class I send you a kiss and', start=239.819, duration=5.0), FetchedTranscriptSnippet(text='a big hug Bye', start=241.98, duration=2.839)], video_id='mbsCUmJNheM', language='English', language_code='en', is_generated=True)\n"
     ]
    }
   ],
   "source": [
    "# iterate over all available transcripts\n",
    "for transcript in transcript_list:\n",
    "\n",
    "    # the Transcript object provides metadata properties\n",
    "    print(\n",
    "        transcript.video_id,\n",
    "        transcript.language,\n",
    "        transcript.language_code,\n",
    "        # whether it has been manually created or generated by YouTube\n",
    "        transcript.is_generated,\n",
    "        # whether this transcript can be translated or not\n",
    "        transcript.is_translatable,\n",
    "        # a list of languages the transcript can be translated to\n",
    "        transcript.translation_languages,\n",
    "    )\n",
    "\n",
    "    # fetch the actual transcript data\n",
    "    print(transcript.fetch())\n",
    "\n",
    "    # translating the transcript will return another transcript object\n",
    "    print(transcript.translate('en').fetch())"
   ]
  },
  {
   "cell_type": "code",
   "execution_count": null,
   "id": "3711369a",
   "metadata": {},
   "outputs": [],
   "source": [
    "playlists_enem, lang_enem = [\n",
    "    'https://www.youtube.com/playlist?list=PL8vXuI6zmpdiy2Xhd1Tn4_q974HxDUzox', # Kultivi, ENEM | Português, 61 videos\n",
    "    'https://www.youtube.com/playlist?list=PLQVUQftDIJQErJmPAGyHrdtxrgLklj6a_', # Curso Enem Gratuito, REDAÇÂO ENEM, 74 videos\n",
    "    'https://www.youtube.com/playlist?list=PLdkZd7NEhSen1qvUgdM56njgqWyUHBbVT', # Kaylanne Roberta, GEOGRAFIA PARA O ENEM, 100 videos\n",
    "    'https://www.youtube.com/playlist?list=PLMra4G0-Z7pMYLE-D-ptnHt1IW_Y1hn8H', # Parabólica, História para o ENEM, 106 videos\n",
    "    'https://www.youtube.com/playlist?list=PLMra4G0-Z7pOBZjKCxen5cRa6iUMAdYKh', # Parabólica, Filosofia para o ENEM, 134 videos\n",
    "    'https://www.youtube.com/playlist?list=PLPNLvl90MqKT06er408AFhGbSHt7YuCZS', # Partiu Universidade, Sociologia para o ENEM, 65 videos\n",
    "    'https://www.youtube.com/playlist?list=PLGyv8aUrOlzB76mu-Em4JaCFaR2dnccKH', # Gis com Giz Matemática, ENEM MATEMÁTICA, 155 videos\n",
    "    'https://www.youtube.com/playlist?list=PLruc42XZPq_beOi5MBhnvnNXuqPuubwWx', # Não Perca a Cabeça, Matemática | Extensivo Enem 2020 NPAC, 26 videos\n",
    "    'https://www.youtube.com/playlist?list=PLruc42XZPq_ZOg6er3bnrCwc_SuE0MiD5', # Não Perca a Cabeça, Química | Extensivo Enem 2020 NPAC, 32 videos\n",
    "    'https://www.youtube.com/playlist?list=PLruc42XZPq_Z3eTDHPQ6WS2SQdlFGYMFZ', # Não Perca a Cabeça, Biologia | Extensivo Enem 2020 NPAC, 29 videos\n",
    "    'https://www.youtube.com/playlist?list=PLruc42XZPq_ZDymwPY1ZM3gNMg53dqTM-', # Não Perca a Cabeça, Física | Extensivo Enem 2020 NPAC, 32 videos\n",
    "    'https://www.youtube.com/playlist?list=PL0LfmDSptaT3Lvnf-YsUI18pzihaLPARU', # Marcelão da Química, EXTENSIVO QUÍMICA COMPLETO, 98 videos\n",
    "    'https://www.youtube.com/playlist?list=PL8vXuI6zmpdiG6QR-LpXXbUYzPz5rOhF2', # Kultivi, Física, 67 videos\n",
    "    'https://www.youtube.com/playlist?list=PL8vXuI6zmpdgu7TOyarRBU42MXOrUJnOS', # Kultivi, Biologia, 121 videos\n",
    "], \"pt\"\n",
    "\n",
    "playlists_sat, lang_sat = [\n",
    "    \"https://www.youtube.com/playlist?list=PLXmJvdMwHZJ-UdQx7Y79LluJpYblQK9yV\",  # Hayden Rhodea SAT, Free 90-Days of SAT Prep Lessons\n",
    "    \"https://www.youtube.com/playlist?list=PL0o_zxa4K1BWLRgHW2i8diQ359U5FbKnI\",  # The Organic Chemistry Tutor, SAT Math\n",
    "    \"https://www.youtube.com/playlist?list=PLXmJvdMwHZJ98xsCj2NWsdyCaNac4xX6J\",  # Hayden Rhodea SAT, Digital SAT Prep\n",
    "    \"https://www.youtube.com/playlist?list=PLtxyMEBEejjngM0SdF4IJERmllvugNwC1\",  # MathPrep with Ahmad Bilal, Digital SAT Math\n",
    "    \"https://www.youtube.com/playlist?list=PLfCCnEv2UFBGhA3X0GhD6PNOs-_V5w8IL\",  # Prepworks Education, 2025 DIGITAL SAT READING & WRITING\n",
    "    \"https://www.youtube.com/playlist?list=PLfCCnEv2UFBErzkHx6EC2DWzJO43p3Umv\",  # Prepworks Education, 2025 DIGITAL SAT MATH\n",
    "], \"en\"\n",
    "\n",
    "playlists_icfes, lang_icfes = [\n",
    "    \"https://www.youtube.com/playlist?list=PLc3AJ6veKFxwRmzseIcfbiP0PCau2xpYL\",  # Dalton Academy, 2024-1 Matemáticas\n",
    "    \"https://www.youtube.com/playlist?list=PLc3AJ6veKFxxMtIfqaNLOPBBhFGjfa1p_\",  # Dalton Academy, Sociales Examen 2025\n",
    "    \"https://www.youtube.com/playlist?list=PLfgpI424HxeV9j_saqo8mZNsNmvxWok-P\",  # Andres Sandoval Acero, Videos preparación de ICFES\n",
    "    \"https://www.youtube.com/playlist?list=PLrG8f_FO9cA1dSoVpiKLaGSqQoQuYRrs5\",  # Ángela, Preparación ICFES\n",
    "    \"https://www.youtube.com/playlist?list=PLCDYXrbSVBJEc1qeqL5fDluLmy9xurEj0\",  # Las Mates Fáciles, ICFES Matemática\n",
    "    \"https://www.youtube.com/playlist?list=PLJxMpbL3S1R5jcWCtMe-_7shXos03QmFn\",  # Praxis Thinks, Prática Geral ICFES\n",
    "    \"https://www.youtube.com/playlist?list=PLMY6ovNEwSVPd0q7RzsV8pCmutQMxjLhz\",  # Andrea :3, Icfes Geral\n",
    "    \"https://www.youtube.com/playlist?list=PLJxMpbL3S1R51_T3hRbBuP0kv9DbF9JRZ\",  # Praxis Thinks, Leitura Crítica\n",
    "    \"https://www.youtube.com/playlist?list=PLJxMpbL3S1R4HgIuHX1ionNrD4R-tH899\",  # Praxis Thinks, Biologia\n",
    "    \"https://www.youtube.com/playlist?list=PLJxMpbL3S1R6OjrYLlTob7UbSK21a7-__\",  # Praxis Thinks, Química sem fórmulas\n",
    "    \"https://www.youtube.com/playlist?list=PLJxMpbL3S1R4dPMe8WQa5ecaEhyyKRPCE\",  # Praxis Thinks, Sociales y Ciudadanas\n",
    "    \"https://www.youtube.com/playlist?list=PLJxMpbL3S1R4e2yL-BcUeV-ZuUdoALJcH\",  # Praxis Thinks, Física sem fórmulas\n",
    "], \"es\"\n",
    "\n",
    "playlists_cuet, lang_cuet = [\n",
    "    \"https://www.youtube.com/playlist?list=PLhrnHPBcOqMmeWwrMIPT7x94vqG-CKioM\",  # Dear Sir, CUET 2022 Preparation\n",
    "    \"https://www.youtube.com/playlist?list=PLhrnHPBcOqMmXznFFIzL3BxrOtSNLPYhr\",  # Dear Sir, CUET GAT 2025\n",
    "    \"https://www.youtube.com/playlist?list=PLhrnHPBcOqMnMjpIc8DgpLVuEKrHv3WJK\",  # Dear Sir, CUET 2025 English\n",
    "], \"en\"\n",
    "\n",
    "playlists_portugal, lang_portugal = [\n",
    "    \"https://www.youtube.com/playlist?list=PLptnVRHa5SDKrsEj_zotfxAMh4a2ux1Yk\",  # EmPortuguês, Gramática\n",
    "    \"https://www.youtube.com/playlist?list=PLOnAU1tbviBVcOL2iPwLINvubS0r1CDTA\",  # Clara, Exames Nacionais PT\n",
    "    \"https://www.youtube.com/playlist?list=PLJjXYrAIDW5KSpq-1BPYeuJ8frBKQqB8g\",  # Prof. Bruno Amorim, Matemática A\n",
    "], \"pt\"\n",
    "\n",
    "playlists_exanii, lang_exanii = [\n",
    "    \"https://www.youtube.com/playlist?list=PLrIEi9PL7EuFVHdc8qXihzilsc0cqPSs_\",  # Profe Cristian, Curso Integral Plus 2025\n",
    "    \"https://www.youtube.com/playlist?list=PLrIEi9PL7EuElFoiP5I2SS7ltgAkg1OAp\",  # Profe Cristian, Pensamiento Matemático\n",
    "    \"https://www.youtube.com/playlist?list=PLrIEi9PL7EuHt05NBceRFFv5o2m_Bj40d\",  # Profe Cristian, Redacción Indirecta\n",
    "    \"https://www.youtube.com/playlist?list=PL6diNeAKW2DNuwoS24vpFVumVUpCG2Tsx\",  # Tony, Historia de México\n",
    "    \"https://www.youtube.com/playlist?list=PLPqecczCAWWX2oJq9NnG4fUJOHjNU_qa3\",  # Economia Desde Casa, Administración\n",
    "], \"es\"\n",
    "\n"
   ]
  },
  {
   "cell_type": "code",
   "execution_count": 21,
   "id": "948cce37",
   "metadata": {},
   "outputs": [
    {
     "data": {
      "text/plain": [
       "'mbsCUmJNheM'"
      ]
     },
     "execution_count": 21,
     "metadata": {},
     "output_type": "execute_result"
    }
   ],
   "source": [
    "video_id"
   ]
  },
  {
   "cell_type": "code",
   "execution_count": null,
   "id": "3e135007",
   "metadata": {},
   "outputs": [],
   "source": []
  },
  {
   "cell_type": "code",
   "execution_count": 17,
   "id": "dff0ac3e",
   "metadata": {},
   "outputs": [],
   "source": [
    "transcript = transcript_list.find_transcript(['es', 'en'])"
   ]
  },
  {
   "cell_type": "code",
   "execution_count": 18,
   "id": "d793d96b",
   "metadata": {},
   "outputs": [
    {
     "data": {
      "text/plain": [
       "<youtube_transcript_api._transcripts.Transcript at 0x18c0d907cd0>"
      ]
     },
     "execution_count": 18,
     "metadata": {},
     "output_type": "execute_result"
    }
   ],
   "source": [
    "transcript"
   ]
  },
  {
   "cell_type": "code",
   "execution_count": 35,
   "id": "3d92ffe1",
   "metadata": {},
   "outputs": [],
   "source": [
    "from langchain_community.document_loaders import YoutubeLoader"
   ]
  },
  {
   "cell_type": "code",
   "execution_count": 38,
   "id": "0b41df34",
   "metadata": {},
   "outputs": [
    {
     "ename": "AttributeError",
     "evalue": "type object 'YouTubeTranscriptApi' has no attribute 'list_transcripts'",
     "output_type": "error",
     "traceback": [
      "\u001b[31m---------------------------------------------------------------------------\u001b[39m",
      "\u001b[31mAttributeError\u001b[39m                            Traceback (most recent call last)",
      "\u001b[36mCell\u001b[39m\u001b[36m \u001b[39m\u001b[32mIn[38]\u001b[39m\u001b[32m, line 4\u001b[39m\n\u001b[32m      1\u001b[39m loader = YoutubeLoader.from_youtube_url(\n\u001b[32m      2\u001b[39m     \u001b[33m\"\u001b[39m\u001b[33mhttps://www.youtube.com/watch?v=QsYGlZkevEg\u001b[39m\u001b[33m\"\u001b[39m, add_video_info=\u001b[38;5;28;01mFalse\u001b[39;00m\n\u001b[32m      3\u001b[39m )\n\u001b[32m----> \u001b[39m\u001b[32m4\u001b[39m transcript = \u001b[43mloader\u001b[49m\u001b[43m.\u001b[49m\u001b[43mload\u001b[49m\u001b[43m(\u001b[49m\u001b[43m)\u001b[49m\n",
      "\u001b[36mFile \u001b[39m\u001b[32mc:\\Users\\gabri\\Documents\\neroedu-gemma3n\\env\\Lib\\site-packages\\langchain_community\\document_loaders\\youtube.py:262\u001b[39m, in \u001b[36mYoutubeLoader.load\u001b[39m\u001b[34m(self)\u001b[39m\n\u001b[32m    259\u001b[39m     \u001b[38;5;28mself\u001b[39m._metadata.update(video_info)\n\u001b[32m    261\u001b[39m \u001b[38;5;28;01mtry\u001b[39;00m:\n\u001b[32m--> \u001b[39m\u001b[32m262\u001b[39m     transcript_list = \u001b[43mYouTubeTranscriptApi\u001b[49m\u001b[43m.\u001b[49m\u001b[43mlist_transcripts\u001b[49m(\u001b[38;5;28mself\u001b[39m.video_id)\n\u001b[32m    263\u001b[39m \u001b[38;5;28;01mexcept\u001b[39;00m TranscriptsDisabled:\n\u001b[32m    264\u001b[39m     \u001b[38;5;28;01mreturn\u001b[39;00m []\n",
      "\u001b[31mAttributeError\u001b[39m: type object 'YouTubeTranscriptApi' has no attribute 'list_transcripts'"
     ]
    }
   ],
   "source": [
    "loader = YoutubeLoader.from_youtube_url(\n",
    "    \"https://www.youtube.com/watch?v=QsYGlZkevEg\", add_video_info=False\n",
    ")\n",
    "transcript = loader.load()"
   ]
  },
  {
   "cell_type": "code",
   "execution_count": null,
   "id": "962a0922",
   "metadata": {},
   "outputs": [],
   "source": []
  }
 ],
 "metadata": {
  "kernelspec": {
   "display_name": "env",
   "language": "python",
   "name": "python3"
  },
  "language_info": {
   "codemirror_mode": {
    "name": "ipython",
    "version": 3
   },
   "file_extension": ".py",
   "mimetype": "text/x-python",
   "name": "python",
   "nbconvert_exporter": "python",
   "pygments_lexer": "ipython3",
   "version": "3.11.13"
  }
 },
 "nbformat": 4,
 "nbformat_minor": 5
}
