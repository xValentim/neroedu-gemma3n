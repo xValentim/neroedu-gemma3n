{
 "cells": [
  {
   "cell_type": "code",
   "execution_count": 1,
   "id": "3f5b197e",
   "metadata": {},
   "outputs": [],
   "source": [
    "from langchain_core.prompts import ChatPromptTemplate\n",
    "from langchain_core.output_parsers import StrOutputParser\n",
    "from langchain_ollama.llms import OllamaLLM\n",
    "from langchain_ollama.chat_models import ChatOllama"
   ]
  },
  {
   "cell_type": "code",
   "execution_count": 2,
   "id": "3653dbb6",
   "metadata": {},
   "outputs": [],
   "source": [
    "model_name_gemma3n_4b = \"gemma3n:e4b\"\n",
    "\n",
    "llm = ChatOllama(model=model_name_gemma3n_4b, \n",
    "                 temperature=0.0)\n",
    "                #  num_gpu=1)\n",
    "\n",
    "system_prompt = \"\"\"\n",
    "Você é um assistente de professor que irá ajudar o aluno a estudar para o vestibular.\n",
    "\"\"\"\n",
    "\n",
    "prompt = ChatPromptTemplate.from_messages(\n",
    "        [\n",
    "            (\"system\", system_prompt), \n",
    "            (\"human\", \"Usuário: \\n\\n {input}\")\n",
    "        ]\n",
    ")\n",
    "\n",
    "chain = prompt | llm | StrOutputParser()"
   ]
  },
  {
   "cell_type": "code",
   "execution_count": 3,
   "id": "3949726c",
   "metadata": {},
   "outputs": [
    {
     "name": "stdout",
     "output_type": "stream",
     "text": [
      "Olá! Seja bem-vindo(a)! 😊\n",
      "\n",
      "Entendo que você está estudando para o vestibular e precisa de ajuda para analisar este texto sobre a Inteligência Artificial (IA) e seus impactos. Vamos desvendá-lo juntos, ponto por ponto, para que você possa ter uma visão clara dos temas abordados e se preparar para possíveis questões.\n",
      "\n",
      "**Resumo do Texto:**\n",
      "\n",
      "O texto discute a rápida evolução da Inteligência Artificial, especialmente dos Modelos de Linguagem Grandes (LLMs), e seus impactos em diversos setores. Ele levanta questões importantes sobre:\n",
      "\n",
      "*   **Impactos no ambiente corporativo:** Transformação de tarefas, produtividade, equilíbrio entre eficiência e emprego, e necessidade de capacitação.\n",
      "*   **Impactos na educação:** Personalização do aprendizado, inclusão, papel dos educadores e risco de reforço de vieses.\n",
      "*   **Questões éticas:** Responsabilidade por erros ou vieses gerados pela IA, e a importância de complementar o julgamento humano em áreas críticas como a medicina.\n",
      "*   **Segurança e privacidade:** Proteção de dados utilizados para treinar e rodar modelos de linguagem, e a necessidade de atualizações seguras.\n",
      "\n",
      "**Vamos analisar cada ponto em mais detalhes:**\n",
      "\n",
      "**1. Impactos no ambiente corporativo:**\n",
      "\n",
      "*   **Transformação de tarefas:** LLMs estão automatizando tarefas como redação, atendimento ao cliente e análise de dados.\n",
      "*   **Funções mais transformadas:**\n",
      "    *   **Redação e criação de conteúdo:**  Profissionais de marketing, jornalismo, e comunicação.\n",
      "    *   **Atendimento ao cliente:** Agentes de suporte, chatbots.\n",
      "    *   **Análise de dados:** Analistas de dados, pesquisadores.\n",
      "    *   **Programação:** Desenvolvedores (auxílio na geração de código, testes, etc.).\n",
      "    *   **Funções jurídicas:** Advogados (redação de contratos, análise de documentos).\n",
      "*   **Produtividade:** Estima-se uma redução de até 30% no tempo gasto em tarefas, mas isso exige adaptação e requalificação.\n",
      "*   **Dilema:** A empresa precisa equilibrar o ganho de eficiência com a necessidade de manter empregos e investir na capacitação dos colaboradores para que eles possam trabalhar em conjunto com a IA.\n",
      "\n",
      "**2. Impactos na educação:**\n",
      "\n",
      "*   **Personalização:** Plataformas com tutores baseados em LLMs adaptam o conteúdo ao nível de conhecimento do aluno.\n",
      "*   **Inclusão e vieses:** É crucial garantir que a IA não reforce desigualdades ou preconceitos.\n",
      "*   **Papel dos educadores:**  O papel do professor pode mudar para um de facilitador, orientador e mediador, em vez de ser o principal transmissor de conteúdo.\n",
      "*   **Desafios:**  Manter a interação humana, o desenvolvimento do pensamento crítico e a criatividade dos alunos.\n",
      "\n",
      "**3. Questões éticas:**\n",
      "\n",
      "*   **Responsabilidade:** Quem é responsável por erros ou vieses gerados pela IA? O usuário da ferramenta ou o criador do modelo? Essa é uma questão complexa que ainda está sendo debatida.\n",
      "*   **Complementação do julgamento humano:** A IA deve ser usada para auxiliar, não substituir, o julgamento humano em áreas críticas como a medicina.\n",
      "*   **Transparência:** É importante que os sistemas de IA sejam transparentes em como chegam às suas conclusões, para que os usuários possam entender e questionar seus resultados.\n",
      "\n",
      "**4. Segurança e privacidade:**\n",
      "\n",
      "*   **Modelos locais:** A crescente disponibilidade de modelos de linguagem locais (que rodam em dispositivos pessoais) levanta preocupações sobre a proteção de dados.\n",
      "*   **Proteção de dados:** É preciso garantir que os dados utilizados para treinar e rodar esses modelos não violem a privacidade dos usuários.\n",
      "*   **Atualizações seguras:** As atualizações dos modelos devem ser feitas de forma a não comprometer a integridade dos dados anteriores ou expor vulnerabilidades a ataques.\n",
      "\n",
      "**Como estudar para o vestibular com base neste texto:**\n",
      "\n",
      "*   **Identifique os temas principais:**  Os pontos listados acima são os temas centrais.\n",
      "*   **Entenda as relações entre os temas:**  Como os impactos na corporação se relacionam com os impactos na educação? Como as questões éticas se aplicam à segurança e privacidade?\n",
      "*   **Prepare-se para questões dissertativas:**  O texto é um ótimo ponto de partida para escrever uma redação sobre o futuro do trabalho, o papel da IA na educação ou os desafios éticos da inteligência artificial.\n",
      "*   **Considere exemplos práticos:**  Pense em exemplos concretos de como a IA está sendo usada em diferentes áreas e quais os impactos que isso está gerando.\n",
      "*   **Mantenha-se atualizado:**  A IA é um campo em constante evolução, então é importante acompanhar as últimas notícias e tendências.\n",
      "\n",
      "**Para aprofundar seus estudos:**\n",
      "\n",
      "*   Pesquise sobre os diferentes tipos de LLMs (GPT-3, LaMDA, etc.).\n",
      "*   Leia artigos e notícias sobre os impactos da IA em diferentes setores.\n",
      "*   Assista a vídeos e palestras sobre o futuro da IA.\n",
      "\n",
      "**Se tiver alguma dúvida específica sobre algum ponto do texto, ou se quiser que eu te ajude a formular uma resposta para uma possível questão do vestibular, é só perguntar!** 😉"
     ]
    }
   ],
   "source": [
    "query = \"\"\"\n",
    "\n",
    "Durante os últimos anos, o avanço da inteligência artificial tem transformado profundamente diversos setores da sociedade, da saúde à educação, da indústria ao setor jurídico. Um exemplo prático disso está na utilização de modelos de linguagem para automatizar tarefas anteriormente humanas, como a redação de documentos, o atendimento ao cliente e a análise de grandes volumes de dados não estruturados. Contudo, essa rápida evolução tecnológica levanta uma série de questionamentos relevantes.\n",
    "\n",
    "Para começar, quais são os impactos mais significativos da aplicação de LLMs no ambiente corporativo e quais funções tendem a ser mais transformadas por essa tecnologia nos próximos cinco anos? Em termos de produtividade, existem estimativas indicando que profissionais que usam IA em tarefas de escrita, programação e tomada de decisão conseguem reduzir em até 30% o tempo necessário para completar determinadas atividades. Mas isso nos leva a um dilema: de que forma as empresas devem equilibrar o ganho de eficiência com a necessidade de manter empregos e garantir a capacitação contínua dos colaboradores?\n",
    "\n",
    "Além disso, o uso da IA em ambientes educacionais está crescendo. Plataformas com tutores baseados em LLMs já são capazes de adaptar a linguagem e a abordagem pedagógica com base no nível de conhecimento do aluno. No entanto, é possível garantir que a IA mantenha uma abordagem pedagógica inclusiva e não reforce vieses sociais ou cognitivos preexistentes? E mais: qual deve ser o papel dos educadores humanos em um cenário em que o conteúdo é majoritariamente entregue por sistemas automatizados?\n",
    "\n",
    "Do ponto de vista ético, a questão da responsabilidade é crucial. Por exemplo, se um modelo de linguagem é usado por um advogado para redigir uma peça processual e essa peça contém erros factuais ou interpretações tendenciosas, quem deve ser responsabilizado: o profissional que usou a ferramenta ou os criadores do modelo? E em contextos médicos, onde decisões clínicas podem ser apoiadas por IA, quais mecanismos devem existir para garantir que o sistema não substitua o julgamento humano, mas sim o complemente de forma segura e transparente?\n",
    "\n",
    "Por fim, em termos de segurança e privacidade, à medida que modelos locais se tornam mais acessíveis e rodam em dispositivos pessoais ou servidores de pequeno porte, como podemos garantir que os dados utilizados para alimentar esses modelos não violem a privacidade dos usuários? Além disso, quais são as melhores práticas para atualizar modelos locais sem comprometer a integridade dos dados anteriores ou expor vulnerabilidades a ataques adversariais?\n",
    "\n",
    "\"\"\"\n",
    "\n",
    "# response = chain.invoke({\"input\": query})\n",
    "\n",
    "async for response in chain.astream({\"input\": query}):\n",
    "    print(response, end=\"\", flush=True)"
   ]
  },
  {
   "cell_type": "code",
   "execution_count": null,
   "id": "5f336b2f",
   "metadata": {},
   "outputs": [],
   "source": []
  },
  {
   "cell_type": "code",
   "execution_count": null,
   "id": "16f2417d",
   "metadata": {},
   "outputs": [],
   "source": []
  },
  {
   "cell_type": "code",
   "execution_count": null,
   "id": "8f0de923",
   "metadata": {},
   "outputs": [],
   "source": []
  }
 ],
 "metadata": {
  "kernelspec": {
   "display_name": "env",
   "language": "python",
   "name": "python3"
  },
  "language_info": {
   "codemirror_mode": {
    "name": "ipython",
    "version": 3
   },
   "file_extension": ".py",
   "mimetype": "text/x-python",
   "name": "python",
   "nbconvert_exporter": "python",
   "pygments_lexer": "ipython3",
   "version": "3.11.13"
  }
 },
 "nbformat": 4,
 "nbformat_minor": 5
}
